{
 "cells": [
  {
   "cell_type": "code",
   "execution_count": 1,
   "metadata": {},
   "outputs": [],
   "source": [
    "import torch\n",
    "import torch.utils.data as Data"
   ]
  },
  {
   "cell_type": "code",
   "execution_count": 2,
   "metadata": {},
   "outputs": [],
   "source": [
    "BATCH_SIZE = 5"
   ]
  },
  {
   "cell_type": "code",
   "execution_count": 3,
   "metadata": {},
   "outputs": [],
   "source": [
    "x = torch.linspace(1,10,10)\n",
    "y = torch.linspace(10,1,10)"
   ]
  },
  {
   "cell_type": "code",
   "execution_count": 4,
   "metadata": {},
   "outputs": [],
   "source": [
    "torch_dataset = Data.TensorDataset(x,y)\n",
    "loader = Data.DataLoader(\n",
    "    dataset = torch_dataset,\n",
    "    batch_size = BATCH_SIZE,\n",
    "    shuffle = True,\n",
    "    num_workers = 2,\n",
    ")"
   ]
  },
  {
   "cell_type": "code",
   "execution_count": 7,
   "metadata": {},
   "outputs": [
    {
     "name": "stdout",
     "output_type": "stream",
     "text": [
      "0   0   tensor([1., 6., 3., 9., 5.])   tensor([10.,  5.,  8.,  2.,  6.])\n",
      "0   1   tensor([ 4.,  8.,  7., 10.,  2.])   tensor([7., 3., 4., 1., 9.])\n",
      "1   0   tensor([9., 8., 1., 5., 3.])   tensor([ 2.,  3., 10.,  6.,  8.])\n",
      "1   1   tensor([ 6., 10.,  2.,  7.,  4.])   tensor([5., 1., 9., 4., 7.])\n",
      "2   0   tensor([ 9.,  1.,  5.,  4., 10.])   tensor([ 2., 10.,  6.,  7.,  1.])\n",
      "2   1   tensor([6., 2., 8., 7., 3.])   tensor([5., 9., 3., 4., 8.])\n"
     ]
    }
   ],
   "source": [
    "for epoch in range(3):\n",
    "    for step, (batch_x, batch_y) in enumerate(loader):\n",
    "        print(epoch, ' ', step, ' ', batch_x,' ', batch_y)"
   ]
  },
  {
   "cell_type": "code",
   "execution_count": 8,
   "metadata": {},
   "outputs": [
    {
     "name": "stdout",
     "output_type": "stream",
     "text": [
      "0   0   tensor([ 3., 10.,  5.,  2.,  4.,  9.,  1.,  7.])   tensor([ 8.,  1.,  6.,  9.,  7.,  2., 10.,  4.])\n",
      "0   1   tensor([6., 8.])   tensor([5., 3.])\n",
      "1   0   tensor([ 1.,  2.,  5.,  9., 10.,  7.,  4.,  3.])   tensor([10.,  9.,  6.,  2.,  1.,  4.,  7.,  8.])\n",
      "1   1   tensor([6., 8.])   tensor([5., 3.])\n",
      "2   0   tensor([ 1., 10.,  6.,  8.,  2.,  9.,  3.,  5.])   tensor([10.,  1.,  5.,  3.,  9.,  2.,  8.,  6.])\n",
      "2   1   tensor([4., 7.])   tensor([7., 4.])\n"
     ]
    }
   ],
   "source": [
    "BATCH_SIZE = 8\n",
    "loader = Data.DataLoader(\n",
    "    dataset = torch_dataset,\n",
    "    batch_size = BATCH_SIZE,\n",
    "    shuffle = True,\n",
    "    num_workers = 2,\n",
    ")\n",
    "for epoch in range(3):\n",
    "    for step, (batch_x, batch_y) in enumerate(loader):\n",
    "        print(epoch, ' ', step, ' ', batch_x,' ', batch_y)"
   ]
  },
  {
   "cell_type": "code",
   "execution_count": null,
   "metadata": {},
   "outputs": [],
   "source": []
  }
 ],
 "metadata": {
  "kernelspec": {
   "display_name": "Python 3",
   "language": "python",
   "name": "python3"
  },
  "language_info": {
   "codemirror_mode": {
    "name": "ipython",
    "version": 3
   },
   "file_extension": ".py",
   "mimetype": "text/x-python",
   "name": "python",
   "nbconvert_exporter": "python",
   "pygments_lexer": "ipython3",
   "version": "3.5.0"
  }
 },
 "nbformat": 4,
 "nbformat_minor": 2
}
