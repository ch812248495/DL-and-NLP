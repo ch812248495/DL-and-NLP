{
 "cells": [
  {
   "cell_type": "code",
   "execution_count": 20,
   "metadata": {},
   "outputs": [],
   "source": [
    "import torch\n",
    "from torch.autograd import Variable\n",
    "from torch import nn\n",
    "from torch.nn import init\n",
    "import torch.utils.data as Data\n",
    "import torch.nn.functional as F\n",
    "import matplotlib.pyplot as plt\n",
    "import numpy as np\n",
    "%matplotlib inline\n"
   ]
  },
  {
   "cell_type": "code",
   "execution_count": 21,
   "metadata": {},
   "outputs": [],
   "source": [
    "# Hyper parameters\n",
    "N_SAMPLES = 2000\n",
    "BATCH_SIZE = 64\n",
    "EPOCH = 12\n",
    "LR = 0.03\n",
    "N_HIDDEN = 8\n",
    "ACTIVATION = F.tanh\n",
    "B_INIT = -0.2   # use a bad bias constant initializer"
   ]
  },
  {
   "cell_type": "code",
   "execution_count": 18,
   "metadata": {},
   "outputs": [],
   "source": [
    "class Net(nn.Module):\n",
    "    def __init__(self):\n",
    "        super(Net, self).__init__()\n",
    "        self.fcs = []\n",
    "        self.bns = []\n",
    "        self.bn_input = nn.BatchNorm1d(1, momentum = 0.5)\n",
    "        \n",
    "        for i in range(N_HIDDEN):\n",
    "            input_size = 1 if i == 0 else 10\n",
    "            fc = nn.Linear(input_size, 10)\n",
    "            setattr(self, 'fc%i'% i,fc)  #important\n",
    "            self._set_init(fc)\n",
    "            self.fcs.append(fc)\n",
    "            \n",
    "            bn = nn.BatchNorm1d(10, momentum=0.5)\n",
    "            setattr(self, 'bn%i' % i,bn)\n",
    "            self.bns.append(bn)\n",
    "        self.predict = nn.Linear(10,1)\n",
    "        self._set_init(self.predict)\n",
    "    def _set_init(self, layer):\n",
    "        init.normal(layer.weight, mean=0.,std=.1)\n",
    "        init.constant(layer.bias, B_INIT)\n",
    "    def forward(self, x):\n",
    "        pre_activation = [x]\n",
    "        x = self.bn_input(x)\n",
    "        layer_input = [x]\n",
    "        for i in range(N_HIDDEN):\n",
    "            x = self.fcs[i](x)\n",
    "            pre_activation.append(x)\n",
    "            x = self.bns[i](x)\n",
    "            x = ACTIVATION(x)\n",
    "            layer_input.append(x)\n",
    "        out = self.predict(x)\n",
    "        return out, layer_input, pre_activation"
   ]
  },
  {
   "cell_type": "code",
   "execution_count": 19,
   "metadata": {},
   "outputs": [
    {
     "name": "stdout",
     "output_type": "stream",
     "text": [
      "Net(\n",
      "  (bn_input): BatchNorm1d(1, eps=1e-05, momentum=0.5, affine=True, track_running_stats=True)\n",
      "  (fc0): Linear(in_features=1, out_features=10, bias=True)\n",
      "  (bn0): BatchNorm1d(10, eps=1e-05, momentum=0.5, affine=True, track_running_stats=True)\n",
      "  (fc1): Linear(in_features=10, out_features=10, bias=True)\n",
      "  (bn1): BatchNorm1d(10, eps=1e-05, momentum=0.5, affine=True, track_running_stats=True)\n",
      "  (fc2): Linear(in_features=10, out_features=10, bias=True)\n",
      "  (bn2): BatchNorm1d(10, eps=1e-05, momentum=0.5, affine=True, track_running_stats=True)\n",
      "  (fc3): Linear(in_features=10, out_features=10, bias=True)\n",
      "  (bn3): BatchNorm1d(10, eps=1e-05, momentum=0.5, affine=True, track_running_stats=True)\n",
      "  (fc4): Linear(in_features=10, out_features=10, bias=True)\n",
      "  (bn4): BatchNorm1d(10, eps=1e-05, momentum=0.5, affine=True, track_running_stats=True)\n",
      "  (fc5): Linear(in_features=10, out_features=10, bias=True)\n",
      "  (bn5): BatchNorm1d(10, eps=1e-05, momentum=0.5, affine=True, track_running_stats=True)\n",
      "  (fc6): Linear(in_features=10, out_features=10, bias=True)\n",
      "  (bn6): BatchNorm1d(10, eps=1e-05, momentum=0.5, affine=True, track_running_stats=True)\n",
      "  (fc7): Linear(in_features=10, out_features=10, bias=True)\n",
      "  (bn7): BatchNorm1d(10, eps=1e-05, momentum=0.5, affine=True, track_running_stats=True)\n",
      "  (predict): Linear(in_features=10, out_features=1, bias=True)\n",
      ")\n"
     ]
    },
    {
     "name": "stderr",
     "output_type": "stream",
     "text": [
      "/Library/Frameworks/Python.framework/Versions/3.5/lib/python3.5/site-packages/ipykernel_launcher.py:21: UserWarning: nn.init.normal is now deprecated in favor of nn.init.normal_.\n",
      "/Library/Frameworks/Python.framework/Versions/3.5/lib/python3.5/site-packages/ipykernel_launcher.py:22: UserWarning: nn.init.constant is now deprecated in favor of nn.init.constant_.\n"
     ]
    }
   ],
   "source": [
    "net = Net()\n",
    "print(net)"
   ]
  },
  {
   "cell_type": "code",
   "execution_count": 24,
   "metadata": {},
   "outputs": [],
   "source": [
    "N = torch.nn.Sequential(\n",
    "    torch.nn.BatchNorm1d(1, momentum=0.5),\n",
    "    torch.nn.Linear(10, 10),\n",
    "    torch.nn.BatchNorm1d(10, momentum=0.5),\n",
    ")"
   ]
  },
  {
   "cell_type": "code",
   "execution_count": 25,
   "metadata": {},
   "outputs": [
    {
     "name": "stdout",
     "output_type": "stream",
     "text": [
      "Sequential(\n",
      "  (0): BatchNorm1d(1, eps=1e-05, momentum=0.5, affine=True, track_running_stats=True)\n",
      "  (1): Linear(in_features=10, out_features=10, bias=True)\n",
      "  (2): BatchNorm1d(10, eps=1e-05, momentum=0.5, affine=True, track_running_stats=True)\n",
      ")\n"
     ]
    }
   ],
   "source": [
    "print(N)"
   ]
  },
  {
   "cell_type": "code",
   "execution_count": null,
   "metadata": {},
   "outputs": [],
   "source": []
  }
 ],
 "metadata": {
  "kernelspec": {
   "display_name": "Python 3",
   "language": "python",
   "name": "python3"
  },
  "language_info": {
   "codemirror_mode": {
    "name": "ipython",
    "version": 3
   },
   "file_extension": ".py",
   "mimetype": "text/x-python",
   "name": "python",
   "nbconvert_exporter": "python",
   "pygments_lexer": "ipython3",
   "version": "3.5.0"
  }
 },
 "nbformat": 4,
 "nbformat_minor": 2
}
