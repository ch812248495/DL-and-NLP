{
 "cells": [
  {
   "cell_type": "code",
   "execution_count": 4,
   "metadata": {},
   "outputs": [],
   "source": [
    "from keras.datasets import mnist\n",
    "import numpy as np\n",
    "np.random.seed(1337)\n",
    "from keras.utils import np_utils\n",
    "from keras.models import Sequential\n",
    "from keras.layers import Dense, Activation, LSTM, TimeDistributed\n",
    "from keras.optimizers import Adam"
   ]
  },
  {
   "cell_type": "code",
   "execution_count": 9,
   "metadata": {},
   "outputs": [],
   "source": [
    "BATCH_START = 0;\n",
    "TIME_STEPS = 20\n",
    "BATCH_SIZE = 50\n",
    "INPUT_SIZE = 1\n",
    "OUTPUT_SIZE = 1\n",
    "CELL_SIZE = 20\n",
    "LR = 0.006"
   ]
  },
  {
   "cell_type": "code",
   "execution_count": 11,
   "metadata": {},
   "outputs": [],
   "source": [
    "def get_batch():\n",
    "    global BATCH_START, TIME_STEPS\n",
    "    xs = np.arange(BATCH_START, BATCH_START + TIME_STEPS*BATCH_SIZE).reshape(BATCH_SIZE, TIME_STEPS) / (10*3.14)\n",
    "    seq = np.sin(xs)\n",
    "    res = np.cos(xs)\n",
    "    BATCH_START += TIME_STEPS\n",
    "    \n",
    "    return [seq[:, :, np.newaxis], res[:, :, np.newaxis], xs]"
   ]
  },
  {
   "cell_type": "code",
   "execution_count": 6,
   "metadata": {},
   "outputs": [
    {
     "name": "stderr",
     "output_type": "stream",
     "text": [
      "/Library/Frameworks/Python.framework/Versions/3.5/lib/python3.5/site-packages/ipykernel_launcher.py:6: UserWarning: Update your `LSTM` call to the Keras 2 API: `LSTM(return_sequences=True, stateful=True, units=20, batch_input_shape=(50, 20, 1...)`\n",
      "  \n"
     ]
    }
   ],
   "source": [
    "model = Sequential()\n",
    "model.add(LSTM(\n",
    "    batch_input_shape = (BATCH_SIZE, TIME_STEPS, INPUT_SIZE),\n",
    "    output_dim = CELL_SIZE,\n",
    "    return_sequences = True,    #输出每个 x 对应的 y\n",
    "    stateful = True,    #批和批之间有关系\n",
    "))\n",
    "model.add(TimeDistributed(Dense(OUTPUT_SIZE)))"
   ]
  },
  {
   "cell_type": "code",
   "execution_count": 7,
   "metadata": {},
   "outputs": [],
   "source": [
    "adam = Adam(LR)\n",
    "model.compile(optimizer=adam, loss = 'mse')"
   ]
  },
  {
   "cell_type": "code",
   "execution_count": 12,
   "metadata": {
    "scrolled": true
   },
   "outputs": [
    {
     "name": "stdout",
     "output_type": "stream",
     "text": [
      "0.509587\n",
      "0.367854\n",
      "0.0619464\n",
      "0.108405\n",
      "0.181312\n",
      "0.0909866\n",
      "0.0874918\n",
      "0.0610707\n",
      "0.0569101\n",
      "0.0735225\n",
      "0.0851125\n",
      "0.126561\n",
      "0.114679\n",
      "0.051249\n",
      "0.0413929\n",
      "0.0649499\n",
      "0.0609893\n",
      "0.0561052\n",
      "0.0613752\n",
      "0.0781363\n",
      "0.0303874\n",
      "0.0187632\n",
      "0.0156278\n",
      "0.0276344\n",
      "0.0297824\n",
      "0.0202764\n",
      "0.0326298\n",
      "0.0200937\n",
      "0.0392916\n",
      "0.0111067\n",
      "0.0407436\n",
      "0.0200635\n",
      "0.0423332\n",
      "0.0157934\n",
      "0.0111865\n",
      "0.00914112\n",
      "0.0127962\n",
      "0.00997862\n",
      "0.0143583\n",
      "0.00865979\n",
      "0.00722542\n",
      "0.00609355\n",
      "0.0238601\n",
      "0.0101351\n",
      "0.0105038\n",
      "0.0132828\n",
      "0.0253088\n",
      "0.0147277\n",
      "0.00858431\n",
      "0.00532368\n",
      "0.00360359\n"
     ]
    }
   ],
   "source": [
    "for step in range(501):\n",
    "    X_batch, Y_batch, xs = get_batch()\n",
    "    cost = model.train_on_batch(X_batch, Y_batch)\n",
    "    pred = model.predict(X_batch, BATCH_SIZE)\n",
    "    if (step%10 == 0):\n",
    "        print(cost)"
   ]
  },
  {
   "cell_type": "code",
   "execution_count": null,
   "metadata": {},
   "outputs": [],
   "source": []
  }
 ],
 "metadata": {
  "kernelspec": {
   "display_name": "Python 3",
   "language": "python",
   "name": "python3"
  },
  "language_info": {
   "codemirror_mode": {
    "name": "ipython",
    "version": 3
   },
   "file_extension": ".py",
   "mimetype": "text/x-python",
   "name": "python",
   "nbconvert_exporter": "python",
   "pygments_lexer": "ipython3",
   "version": "3.5.0"
  }
 },
 "nbformat": 4,
 "nbformat_minor": 2
}
