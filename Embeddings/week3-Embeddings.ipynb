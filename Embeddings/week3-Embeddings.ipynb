{
 "cells": [
  {
   "cell_type": "markdown",
   "metadata": {},
   "source": [
    "# Find duplicate questions on StackOverflow by their embeddings\n",
    "\n",
    "In this assignment you will learn how to calculate a similarity for pieces of text. Using this approach you will know how to find duplicate questions from [StackOverflow](https://stackoverflow.com)."
   ]
  },
  {
   "cell_type": "markdown",
   "metadata": {},
   "source": [
    "### Libraries\n",
    "\n",
    "In this task you will you will need the following libraries:\n",
    "- [StarSpace](https://github.com/facebookresearch/StarSpace) — a general-purpose model for efficient learning of entity embeddings from Facebook\n",
    "- [Gensim](https://radimrehurek.com/gensim/) — a tool for solving various NLP-related tasks (topic modeling, text representation, ...)\n",
    "- [Numpy](http://www.numpy.org) — a package for scientific computing.\n",
    "- [scikit-learn](http://scikit-learn.org/stable/index.html) — a tool for data mining and data analysis.\n",
    "- [Nltk](http://www.nltk.org) — a platform to work with human language data."
   ]
  },
  {
   "cell_type": "markdown",
   "metadata": {},
   "source": [
    "### Data\n",
    "\n",
    "The following cell will download all data required for this assignment into the folder `week3/data`."
   ]
  },
  {
   "cell_type": "code",
   "execution_count": 1,
   "metadata": {},
   "outputs": [
    {
     "name": "stdout",
     "output_type": "stream",
     "text": [
      "OpenSSL 1.0.2g  1 Mar 2016\r\n"
     ]
    }
   ],
   "source": [
    "! python3 -c \"import ssl; print(ssl.OPENSSL_VERSION)\"\n"
   ]
  },
  {
   "cell_type": "markdown",
   "metadata": {},
   "source": [
    "### Grading\n",
    "We will create a grader instace below and use it to collect your answers. Note that these outputs will be stored locally inside grader and will be uploaded to platform only after running submiting function in the last part of this assignment. If you want to make partial submission, you can run that cell any time you want."
   ]
  },
  {
   "cell_type": "code",
   "execution_count": 2,
   "metadata": {},
   "outputs": [],
   "source": [
    "from grader import Grader"
   ]
  },
  {
   "cell_type": "code",
   "execution_count": 3,
   "metadata": {},
   "outputs": [],
   "source": [
    "grader = Grader()"
   ]
  },
  {
   "cell_type": "markdown",
   "metadata": {},
   "source": [
    "## Word embedding\n",
    "\n",
    "To solve the problem, you will use two different models of embeddings:\n",
    "\n",
    " - [Pre-trained word vectors](https://code.google.com/archive/p/word2vec/) from Google which were trained on a part of Google News dataset (about 100 billion words). The model contains 300-dimensional vectors for 3 million words and phrases. You need to download it by following this [link](https://drive.google.com/file/d/0B7XkCwpI5KDYNlNUTTlSS21pQmM/edit?usp=sharing).\n",
    " - Representations using StarSpace on StackOverflow data sample. You will need to train them from scratch."
   ]
  },
  {
   "cell_type": "markdown",
   "metadata": {},
   "source": [
    "It's always easier to start with pre-trained embeddings. Unpack the pre-trained Goggle's vectors and upload them using the function [KeyedVectors.load_word2vec_format](https://radimrehurek.com/gensim/models/keyedvectors.html) from gensim library with the parameter *binary=True*. If the size of the embeddings is larger than the avaliable memory, you could load only a part of the embeddings by defining the parameter *limit* (recommended: 500000)."
   ]
  },
  {
   "cell_type": "code",
   "execution_count": 4,
   "metadata": {},
   "outputs": [],
   "source": [
    "import gensim\n",
    "from gensim import models\n"
   ]
  },
  {
   "cell_type": "code",
   "execution_count": 5,
   "metadata": {},
   "outputs": [],
   "source": [
    "wv_embeddings = models.KeyedVectors.load_word2vec_format(\"data/GoogleNews-vectors-negative300.bin.gz\", binary=True, limit=500000)"
   ]
  },
  {
   "cell_type": "markdown",
   "metadata": {},
   "source": [
    "### How to work with Google's word2vec embeddings?\n",
    "\n",
    "Once you have loaded the representations, make sure you can access them. First, you can check if the loaded embeddings contain a word:\n",
    "    \n",
    "    'word' in wv_embeddings\n",
    "    \n",
    "Second, to get the corresponding embedding you can use the square brackets:\n",
    "\n",
    "    wv_embeddings['word']\n",
    " \n",
    "### Checking that the embeddings are correct \n",
    " \n",
    "To prevent any errors during the first stage, we can check that the loaded embeddings are correct. You can call the function *check_embeddings*, implemented below, which runs 3 tests:\n",
    "1. Find the most similar word for provided \"positive\" and \"negative\" words.\n",
    "2. Find which word from the given list doesn’t go with the others.\n",
    "3. Find the most similar word for the provided one.\n",
    "\n",
    "In the right case the function will return the string *These embeddings look good*. Othervise, you need to validate the previous steps."
   ]
  },
  {
   "cell_type": "code",
   "execution_count": 6,
   "metadata": {},
   "outputs": [],
   "source": [
    "def check_embeddings(embeddings):\n",
    "    error_text = \"Something wrong with your embeddings ('%s test isn't correct).\"\n",
    "    most_similar = embeddings.most_similar(positive=['woman', 'king'], negative=['man'])\n",
    "    if len(most_similar) < 1 or most_similar[0][0] != 'queen':\n",
    "        return error_text % \"Most similar\"\n",
    "\n",
    "    doesnt_match = embeddings.doesnt_match(['breakfast', 'cereal', 'dinner', 'lunch'])\n",
    "    if doesnt_match != 'cereal':\n",
    "        return error_text % \"Doesn't match\"\n",
    "    \n",
    "    most_similar_to_given = embeddings.most_similar_to_given('music', ['water', 'sound', 'backpack', 'mouse'])\n",
    "    if most_similar_to_given != 'sound':\n",
    "        return error_text % \"Most similar to given\"\n",
    "    \n",
    "    return \"These embeddings look good.\""
   ]
  },
  {
   "cell_type": "code",
   "execution_count": 7,
   "metadata": {},
   "outputs": [
    {
     "name": "stdout",
     "output_type": "stream",
     "text": [
      "These embeddings look good.\n"
     ]
    }
   ],
   "source": [
    "print(check_embeddings(wv_embeddings))"
   ]
  },
  {
   "cell_type": "code",
   "execution_count": 8,
   "metadata": {},
   "outputs": [
    {
     "data": {
      "text/plain": [
       "True"
      ]
     },
     "execution_count": 8,
     "metadata": {},
     "output_type": "execute_result"
    }
   ],
   "source": [
    "\"1\" in wv_embeddings"
   ]
  },
  {
   "cell_type": "markdown",
   "metadata": {},
   "source": [
    "## From word to text embeddings\n",
    "\n",
    "**Task 1 (Question2Vec).** Usually, we have word-based embeddings, but for the task we need to create a representation for the whole question. It could be done in different ways. In our case we will use a **mean** of all word vectors in the question. Now you need to implement the function *question_to_vec*, which calculates the question representation described above. This function should work with the input text as is without any preprocessing.\n",
    "\n",
    "Note that there could be words without the corresponding embeddings. In this case, you can just skip these words and don't take them into account during calculating the result. If the question doesn't contain any known word with embedding, the function should return a zero vector."
   ]
  },
  {
   "cell_type": "code",
   "execution_count": 9,
   "metadata": {},
   "outputs": [],
   "source": [
    "import numpy as np"
   ]
  },
  {
   "cell_type": "code",
   "execution_count": 66,
   "metadata": {},
   "outputs": [],
   "source": [
    "def question_to_vec(question, embeddings, dim=300):\n",
    "    \"\"\"\n",
    "        question: a string\n",
    "        embeddings: dict where the key is a word and a value is its' embedding\n",
    "        dim: size of the representation\n",
    "\n",
    "        result: vector representation for the question\n",
    "    \"\"\"\n",
    "    ######################################\n",
    "    ######### YOUR CODE HERE #############\n",
    "    ######################################\n",
    "    \n",
    "    vec = np.zeros((dim,), dtype=np.float32)\n",
    "    count = 0\n",
    "    for w in question.split():\n",
    "        if w in embeddings:\n",
    "            count += 1\n",
    "            vec += embeddings[w]\n",
    "    if count == 0:\n",
    "        return vec\n",
    "    return vec/count"
   ]
  },
  {
   "cell_type": "markdown",
   "metadata": {},
   "source": [
    "To check the basic correctness of your implementation, run the function *question_to_vec_tests*."
   ]
  },
  {
   "cell_type": "code",
   "execution_count": 11,
   "metadata": {},
   "outputs": [],
   "source": [
    "def question_to_vec_tests():\n",
    "    if (np.zeros(300) != question_to_vec('', wv_embeddings)).any():\n",
    "        return \"You need to return zero vector for empty question.\"\n",
    "    if (np.zeros(300) != question_to_vec('thereisnosuchword', wv_embeddings)).any():\n",
    "        return \"You need to return zero vector for the question, which consists only unknown words.\"\n",
    "    if (wv_embeddings['word'] != question_to_vec('word', wv_embeddings)).any():\n",
    "        return \"You need to check the corectness of your function.\"\n",
    "    if ((wv_embeddings['I'] + wv_embeddings['am']) / 2 != question_to_vec('I am', wv_embeddings)).any():\n",
    "        return \"Your function should calculate a mean of word vectors.\"\n",
    "    if (wv_embeddings['word'] != question_to_vec('thereisnosuchword word', wv_embeddings)).any():\n",
    "        return \"You should not consider words which embeddings are unknown.\"\n",
    "    return \"Basic tests are passed.\""
   ]
  },
  {
   "cell_type": "code",
   "execution_count": 12,
   "metadata": {},
   "outputs": [
    {
     "name": "stdout",
     "output_type": "stream",
     "text": [
      "Basic tests are passed.\n"
     ]
    }
   ],
   "source": [
    "print(question_to_vec_tests())"
   ]
  },
  {
   "cell_type": "markdown",
   "metadata": {},
   "source": [
    "You can submit embeddings for the questions from the file *test_embeddings.tsv* to earn the points. In this task you don't need to transform the text of a question somehow."
   ]
  },
  {
   "cell_type": "code",
   "execution_count": 15,
   "metadata": {},
   "outputs": [
    {
     "name": "stdout",
     "output_type": "stream",
     "text": [
      "[nltk_data] Downloading package stopwords to /root/nltk_data...\n",
      "[nltk_data]   Unzipping corpora/stopwords.zip.\n"
     ]
    }
   ],
   "source": [
    "import nltk\n",
    "nltk.download(\"stopwords\")\n",
    "from util import array_to_string"
   ]
  },
  {
   "cell_type": "code",
   "execution_count": 16,
   "metadata": {},
   "outputs": [
    {
     "name": "stderr",
     "output_type": "stream",
     "text": [
      "/usr/local/lib/python3.5/dist-packages/ipykernel_launcher.py:2: ParserWarning: Falling back to the 'python' engine because the 'c' engine does not support regex separators (separators > 1 char and different from '\\s+' are interpreted as regex); you can avoid this warning by specifying engine='python'.\n",
      "  \n"
     ]
    }
   ],
   "source": [
    "import pandas as pd\n",
    "question = pd.read_csv(\"data/test_embeddings.tsv\", sep = \"/t\")"
   ]
  },
  {
   "cell_type": "code",
   "execution_count": 17,
   "metadata": {},
   "outputs": [
    {
     "data": {
      "text/html": [
       "<div>\n",
       "<style scoped>\n",
       "    .dataframe tbody tr th:only-of-type {\n",
       "        vertical-align: middle;\n",
       "    }\n",
       "\n",
       "    .dataframe tbody tr th {\n",
       "        vertical-align: top;\n",
       "    }\n",
       "\n",
       "    .dataframe thead th {\n",
       "        text-align: right;\n",
       "    }\n",
       "</style>\n",
       "<table border=\"1\" class=\"dataframe\">\n",
       "  <thead>\n",
       "    <tr style=\"text-align: right;\">\n",
       "      <th></th>\n",
       "      <th>Play Framework 1.2.5 : OutOfMemoryError occured : Java heap space in play framework</th>\n",
       "    </tr>\n",
       "  </thead>\n",
       "  <tbody>\n",
       "    <tr>\n",
       "      <th>0</th>\n",
       "      <td>Navigating between several views in iphone</td>\n",
       "    </tr>\n",
       "    <tr>\n",
       "      <th>1</th>\n",
       "      <td>A strange phenomenon of vector member in a class</td>\n",
       "    </tr>\n",
       "    <tr>\n",
       "      <th>2</th>\n",
       "      <td>Formula to auto change all calendar hours if I...</td>\n",
       "    </tr>\n",
       "    <tr>\n",
       "      <th>3</th>\n",
       "      <td>Is there a way to redirect the browser from th...</td>\n",
       "    </tr>\n",
       "    <tr>\n",
       "      <th>4</th>\n",
       "      <td>How to read response from angular resource $sa...</td>\n",
       "    </tr>\n",
       "  </tbody>\n",
       "</table>\n",
       "</div>"
      ],
      "text/plain": [
       "  Play Framework 1.2.5 : OutOfMemoryError occured : Java heap space in play framework\n",
       "0         Navigating between several views in iphone                                 \n",
       "1   A strange phenomenon of vector member in a class                                 \n",
       "2  Formula to auto change all calendar hours if I...                                 \n",
       "3  Is there a way to redirect the browser from th...                                 \n",
       "4  How to read response from angular resource $sa...                                 "
      ]
     },
     "execution_count": 17,
     "metadata": {},
     "output_type": "execute_result"
    }
   ],
   "source": [
    "question.head()"
   ]
  },
  {
   "cell_type": "code",
   "execution_count": 18,
   "metadata": {},
   "outputs": [
    {
     "name": "stdout",
     "output_type": "stream",
     "text": [
      "Current answer for task Question2Vec is: 0.019293891266\n",
      "-0.0287272129208\n",
      "0.0460561104119\n",
      "0.0852593332529\n",
      "0.0243055559695\n",
      "-0.0729031041265\n",
      "0.0...\n"
     ]
    }
   ],
   "source": [
    "question2vec_result = []\n",
    "for question in open('data/test_embeddings.tsv'):\n",
    "    question = question.strip()\n",
    "    answer = question_to_vec(question, wv_embeddings)\n",
    "    question2vec_result = np.append(question2vec_result, answer)\n",
    "\n",
    "grader.submit_tag('Question2Vec', array_to_string(question2vec_result))"
   ]
  },
  {
   "cell_type": "markdown",
   "metadata": {},
   "source": [
    "Now we have a method to create a representation of any sentence and we are ready for the first evaluation. So, let's check how well our solution (Google's vectors + *question_to_vec*) will work.\n",
    "\n",
    "## Evaluation of text similarity\n",
    "\n",
    "We can imagine that if we use good embeddings, the cosine similarity between the duplicate sentences should be less than for the random ones. Overall, for each pair of duplicate sentences we can generate *R* random negative examples and find out the position of the correct duplicate.  \n",
    "\n",
    "For example, we have the question *\"Exceptions What really happens\"* and we are sure that another question *\"How does the catch keyword determine the type of exception that was thrown\"* is a duplicate. But our model doesn't know it and tries to find out the best option also among questions like *\"How Can I Make These Links Rotate in PHP\"*, *\"NSLog array description not memory address\"* and *\"PECL_HTTP not recognised php ubuntu\"*. The goal of the model is to rank all these 4 questions (1 *positive* and *R* = 3 *negative*) in the way that the correct one is in the first place.\n",
    "\n",
    "However, it is unnatural to count on that the best candidate will be always in the first place. So let us consider the place of the best candidate in the sorted list of candidates and formulate a metric based on it. We can fix some *K* — a reasonalble number of top-ranked elements and *N* — a number of queries (size of the sample).\n",
    "\n",
    "### Hits@K\n",
    "\n",
    "The first simple metric will be a number of correct hits for some *K*:\n",
    "$$ \\text{Hits@K} = \\frac{1}{N}\\sum_{i=1}^N \\, [dup_i \\in topK(q_i)]$$\n",
    "\n",
    "where $q_i$ is the i-th query, $dup_i$ is its duplicate, $topK(q_i)$ is the top K elements of the ranked sentences provided by our model and the operation $[dup_i \\in topK(q_i)]$ equals 1 if the condition is true and 0 otherwise (more details about this operation could be found [here](https://en.wikipedia.org/wiki/Iverson_bracket)).\n",
    "\n",
    "\n",
    "### DCG@K\n",
    "The second one is a simplified [DCG metric](https://en.wikipedia.org/wiki/Discounted_cumulative_gain):\n",
    "\n",
    "$$ \\text{DCG@K} = \\frac{1}{N} \\sum_{i=1}^N\\frac{1}{\\log_2(1+rank_{dup_i})}\\cdot[rank_{dup_i} \\le K] $$\n",
    "\n",
    "where $rank_{dup_i}$ is a position of the duplicate in the sorted list of the nearest sentences for the query $q_i$. According to this metric, the model gets a higher reward for a higher position of the correct answer. If the answer does not appear in topK at all, the reward is zero. "
   ]
  },
  {
   "cell_type": "markdown",
   "metadata": {},
   "source": [
    "### Evaluation examples\n",
    "\n",
    "Let's calculate the described metrics for the toy example introduced above. In this case $N$ = 1 and the correct candidate for $q_1$ is *\"How does the catch keyword determine the type of exception that was thrown\"*. Consider the following ranking of the candidates:\n",
    "1. *\"How Can I Make These Links Rotate in PHP\"*\n",
    "2. *\"How does the catch keyword determine the type of exception that was thrown\"*\n",
    "3. *\"NSLog array description not memory address\"*\n",
    "4. *\"PECL_HTTP not recognised php ubuntu\"*\n",
    "\n",
    "Using the ranking above, calculate *Hits@K* metric for *K = 1, 2, 4*: \n",
    " \n",
    "- [K = 1] $\\text{Hits@1} = \\frac{1}{1}\\sum_{i=1}^1 \\, [dup_i \\in top1(q_i)] = [dup_1 \\in top1(q_1)] = 0$ because the correct answer doesn't appear in the *top1* list.\n",
    "- [K = 2] $\\text{Hits@2} = \\frac{1}{1}\\sum_{i=1}^1 \\, [dup_i \\in top2(q_i)] = [dup_1 \\in top2(q_1)] = 1$ because $rank_{dup_1} = 2$.\n",
    "- [K = 4] $\\text{Hits@4} = \\frac{1}{1}\\sum_{i=1}^1 \\, [dup_i \\in top4(q_i)] = [dup_1 \\in top4(q_1)] = 1$\n",
    "\n",
    "Using the ranking above, calculate *DCG@K* metric for *K = 1, 2, 4*:\n",
    "\n",
    "- [K = 1] $\\text{DCG@1} = \\frac{1}{1} \\sum_{i=1}^1\\frac{1}{\\log_2(1+rank_{dup_i})}\\cdot[rank_{dup_i} \\le 1] = \\frac{1}{\\log_2(1+rank_{dup_i})}\\cdot[rank_{dup_i} \\le 1] = 0$ because the correct answer doesn't appear in the top1 list.\n",
    "- [K = 2] $\\text{DCG@2} = \\frac{1}{1} \\sum_{i=1}^1\\frac{1}{\\log_2(1+rank_{dup_i})}\\cdot[rank_{dup_i} \\le 2] = \\frac{1}{\\log_2{3}}$, because $rank_{dup_1} = 2$.\n",
    "- [K = 4] $\\text{DCG@4} = \\frac{1}{1} \\sum_{i=1}^1\\frac{1}{\\log_2(1+rank_{dup_i})}\\cdot[rank_{dup_i} \\le 4] = \\frac{1}{\\log_2{3}}$.\n"
   ]
  },
  {
   "cell_type": "markdown",
   "metadata": {},
   "source": [
    "**Tasks 2 and 3 (HitsCount and DCGScore).** Implement the functions *hits_count* and *dcg_score* as described above. Each function has two arguments: *dup_ranks* and *k*. *dup_ranks* is a list which contains *values of ranks* of duplicates. For example, *dup_ranks* is *[2]* for the example provided above."
   ]
  },
  {
   "cell_type": "code",
   "execution_count": 19,
   "metadata": {},
   "outputs": [],
   "source": [
    "def hits_count(dup_ranks, k):\n",
    "    \"\"\"\n",
    "        dup_ranks: list of duplicates' ranks; one rank per question; \n",
    "                   length is a number of questions which we are looking for duplicates; \n",
    "                   rank is a number from 1 to len(candidates of the question); \n",
    "                   e.g. [2, 3] means that the first duplicate has the rank 2, the second one — 3.\n",
    "        k: number of top-ranked elements (k in Hits@k metric)\n",
    "\n",
    "        result: return Hits@k value for current ranking\n",
    "    \"\"\"\n",
    "    count = 0\n",
    "    for rank in dup_ranks:\n",
    "        if rank <=k:\n",
    "            count += 1\n",
    "    return count/(len(dup_ranks)+1e-8)"
   ]
  },
  {
   "cell_type": "markdown",
   "metadata": {},
   "source": [
    "Test your code on the tiny examples:"
   ]
  },
  {
   "cell_type": "code",
   "execution_count": 20,
   "metadata": {},
   "outputs": [],
   "source": [
    "def test_hits():\n",
    "    # *Evaluation example*\n",
    "    # answers — dup_i\n",
    "    answers = [\"How does the catch keyword determine the type of exception that was thrown\"]\n",
    "    \n",
    "    # candidates_ranking — the ranked sentences provided by our model\n",
    "    candidates_ranking = [[\"How Can I Make These Links Rotate in PHP\", \n",
    "                           \"How does the catch keyword determine the type of exception that was thrown\",\n",
    "                           \"NSLog array description not memory address\",\n",
    "                           \"PECL_HTTP not recognised php ubuntu\"]]\n",
    "    # dup_ranks — position of the dup_i in the list of ranks +1\n",
    "    dup_ranks = [candidates_ranking[i].index(answers[i]) + 1 for i in range(len(answers))]\n",
    "    \n",
    "    # correct_answers — the expected values of the result for each k from 1 to 4\n",
    "    correct_answers = [0, 1, 1, 1]\n",
    "    for k, correct in enumerate(correct_answers, 1):\n",
    "        if not np.isclose(hits_count(dup_ranks, k), correct):\n",
    "            return \"Check the function.\"\n",
    "    \n",
    "    # Other tests\n",
    "    answers = [\"How does the catch keyword determine the type of exception that was thrown\", \n",
    "               \"Convert Google results object (pure js) to Python object\"]\n",
    "    \n",
    "    # The first test: both duplicates on the first position in ranked list\n",
    "    candidates_ranking = [[\"How does the catch keyword determine the type of exception that was thrown\",\n",
    "                           \"How Can I Make These Links Rotate in PHP\"], \n",
    "                          [\"Convert Google results object (pure js) to Python object\",\n",
    "                           \"WPF- How to update the changes in list item of a list\"]]\n",
    "    dup_ranks = [candidates_ranking[i].index(answers[i]) + 1 for i in range(len(answers))]\n",
    "    correct_answers = [1, 1]\n",
    "    for k, correct in enumerate(correct_answers, 1):\n",
    "        if not np.isclose(hits_count(dup_ranks, k), correct):\n",
    "            return \"Check the function (test: both duplicates on the first position in ranked list).\"\n",
    "        \n",
    "    # The second test: one candidate on the first position, another — on the second\n",
    "    candidates_ranking = [[\"How Can I Make These Links Rotate in PHP\", \n",
    "                           \"How does the catch keyword determine the type of exception that was thrown\"], \n",
    "                          [\"Convert Google results object (pure js) to Python object\",\n",
    "                           \"WPF- How to update the changes in list item of a list\"]]\n",
    "    dup_ranks = [candidates_ranking[i].index(answers[i]) + 1 for i in range(len(answers))]\n",
    "    correct_answers = [0.5, 1]\n",
    "    \n",
    "    for k, correct in enumerate(correct_answers, 1):\n",
    "        if not np.isclose(hits_count(dup_ranks, k), correct):\n",
    "            return \"Check the function (test: one candidate on the first position, another — on the second).\"\n",
    "\n",
    "    # The third test: both candidates on the second position\n",
    "    candidates_ranking = [[\"How Can I Make These Links Rotate in PHP\", \n",
    "                           \"How does the catch keyword determine the type of exception that was thrown\"], \n",
    "                          [\"WPF- How to update the changes in list item of a list\",\n",
    "                           \"Convert Google results object (pure js) to Python object\"]]\n",
    "    dup_ranks = [candidates_ranking[i].index(answers[i]) + 1 for i in range(len(answers))]\n",
    "    correct_answers = [0, 1]\n",
    "    for k, correct in enumerate(correct_answers, 1):\n",
    "        if not np.isclose(hits_count(dup_ranks, k), correct):\n",
    "            return \"Check the function (test: both candidates on the second position).\"\n",
    "\n",
    "    return \"Basic test are passed.\""
   ]
  },
  {
   "cell_type": "code",
   "execution_count": 21,
   "metadata": {},
   "outputs": [
    {
     "name": "stdout",
     "output_type": "stream",
     "text": [
      "Basic test are passed.\n"
     ]
    }
   ],
   "source": [
    "print(test_hits())"
   ]
  },
  {
   "cell_type": "code",
   "execution_count": 22,
   "metadata": {},
   "outputs": [],
   "source": [
    "def dcg_score(dup_ranks, k):\n",
    "    \"\"\"\n",
    "        dup_ranks: list of duplicates' ranks; one rank per question; \n",
    "                   length is a number of questions which we are looking for duplicates; \n",
    "                   rank is a number from 1 to len(candidates of the question); \n",
    "                   e.g. [2, 3] means that the first duplicate has the rank 2, the second one — 3.\n",
    "        k: number of top-ranked elements (k in DCG@k metric)\n",
    "\n",
    "        result: return DCG@k value for current ranking\n",
    "    \"\"\"\n",
    "    count = 0\n",
    "    for rank in dup_ranks:\n",
    "        if k>=rank:\n",
    "            count += 1/np.log2(1+rank)\n",
    "    return count/(len(dup_ranks)+1e-8)"
   ]
  },
  {
   "cell_type": "code",
   "execution_count": 23,
   "metadata": {},
   "outputs": [],
   "source": [
    "def test_dcg():\n",
    "    # *Evaluation example*\n",
    "    # answers — dup_i\n",
    "    answers = [\"How does the catch keyword determine the type of exception that was thrown\"]\n",
    "    \n",
    "    # candidates_ranking — the ranked sentences provided by our model\n",
    "    candidates_ranking = [[\"How Can I Make These Links Rotate in PHP\", \n",
    "                           \"How does the catch keyword determine the type of exception that was thrown\",\n",
    "                           \"NSLog array description not memory address\",\n",
    "                           \"PECL_HTTP not recognised php ubuntu\"]]\n",
    "    # dup_ranks — position of the dup_i in the list of ranks +1\n",
    "    dup_ranks = [candidates_ranking[i].index(answers[i]) + 1 for i in range(len(answers))]\n",
    "    \n",
    "    # correct_answers — the expected values of the result for each k from 1 to 4\n",
    "    correct_answers = [0, 1 / (np.log2(3)), 1 / (np.log2(3)), 1 / (np.log2(3))]\n",
    "    for k, correct in enumerate(correct_answers, 1):\n",
    "        if not np.isclose(dcg_score(dup_ranks, k), correct):\n",
    "            return \"Check the function.\"\n",
    "    \n",
    "    # Other tests\n",
    "    answers = [\"How does the catch keyword determine the type of exception that was thrown\", \n",
    "               \"Convert Google results object (pure js) to Python object\"]\n",
    "\n",
    "    # The first test: both duplicates on the first position in ranked list\n",
    "    candidates_ranking = [[\"How does the catch keyword determine the type of exception that was thrown\",\n",
    "                           \"How Can I Make These Links Rotate in PHP\"], \n",
    "                          [\"Convert Google results object (pure js) to Python object\",\n",
    "                           \"WPF- How to update the changes in list item of a list\"]]\n",
    "    dup_ranks = [candidates_ranking[i].index(answers[i]) + 1 for i in range(len(answers))]\n",
    "    correct_answers = [1, 1]\n",
    "    for k, correct in enumerate(correct_answers, 1):\n",
    "        if not np.isclose(dcg_score(dup_ranks, k), correct):\n",
    "            return \"Check the function (test: both duplicates on the first position in ranked list).\"\n",
    "        \n",
    "    # The second test: one candidate on the first position, another — on the second\n",
    "    candidates_ranking = [[\"How Can I Make These Links Rotate in PHP\", \n",
    "                           \"How does the catch keyword determine the type of exception that was thrown\"], \n",
    "                          [\"Convert Google results object (pure js) to Python object\",\n",
    "                           \"WPF- How to update the changes in list item of a list\"]]\n",
    "    dup_ranks = [candidates_ranking[i].index(answers[i]) + 1 for i in range(len(answers))]\n",
    "    correct_answers = [0.5, (1 + (1 / (np.log2(3)))) / 2]\n",
    "    for k, correct in enumerate(correct_answers, 1):\n",
    "        if not np.isclose(dcg_score(dup_ranks, k), correct):\n",
    "            return \"Check the function (test: one candidate on the first position, another — on the second).\"\n",
    "        \n",
    "    # The third test: both candidates on the second position\n",
    "    candidates_ranking = [[\"How Can I Make These Links Rotate in PHP\",\n",
    "                           \"How does the catch keyword determine the type of exception that was thrown\"], \n",
    "                          [\"WPF- How to update the changes in list item of a list\",\n",
    "                           \"Convert Google results object (pure js) to Python object\"]]\n",
    "    dup_ranks = [candidates_ranking[i].index(answers[i]) + 1 for i in range(len(answers))]\n",
    "    correct_answers = [0, 1 / (np.log2(3))]\n",
    "    for k, correct in enumerate(correct_answers, 1):\n",
    "        if not np.isclose(dcg_score(dup_ranks, k), correct):\n",
    "            return \"Check the function (test: both candidates on the second position).\"\n",
    "\n",
    "    return \"Basic test are passed.\""
   ]
  },
  {
   "cell_type": "code",
   "execution_count": 24,
   "metadata": {},
   "outputs": [
    {
     "name": "stdout",
     "output_type": "stream",
     "text": [
      "Basic test are passed.\n"
     ]
    }
   ],
   "source": [
    "print(test_dcg())"
   ]
  },
  {
   "cell_type": "markdown",
   "metadata": {},
   "source": [
    "Submit results of the functions *hits_count* and *dcg_score* for the following examples to earn the points."
   ]
  },
  {
   "cell_type": "code",
   "execution_count": 25,
   "metadata": {},
   "outputs": [],
   "source": [
    "test_examples = [\n",
    "    [1],\n",
    "    [1, 2],\n",
    "    [2, 1],\n",
    "    [1, 2, 3],\n",
    "    [1, 2, 3, 4, 5, 6, 7, 8, 9, 10],\n",
    "    [9, 5, 4, 2, 8, 10, 7, 6, 1, 3],\n",
    "    [4, 3, 5, 1, 9, 10, 7, 8, 2, 6],\n",
    "    [5, 1, 7, 6, 2, 3, 8, 9, 10, 4],\n",
    "    [6, 3, 1, 4, 7, 2, 9, 8, 10, 5],\n",
    "    [10, 9, 8, 7, 6, 5, 4, 3, 2, 1],\n",
    "]"
   ]
  },
  {
   "cell_type": "code",
   "execution_count": 26,
   "metadata": {},
   "outputs": [
    {
     "name": "stdout",
     "output_type": "stream",
     "text": [
      "Current answer for task HitsCount is: 0.9999999900000002\n",
      "0.4999999975\n",
      "0.999999995\n",
      "0.4999999975\n",
      "0.999999995\n",
      "0.3333333322222222\n",
      "0.6666666644...\n"
     ]
    }
   ],
   "source": [
    "hits_results = []\n",
    "for example in test_examples:\n",
    "    for k in range(len(example)):\n",
    "        hits_results.append(hits_count(example, k + 1))\n",
    "grader.submit_tag('HitsCount', array_to_string(hits_results))"
   ]
  },
  {
   "cell_type": "code",
   "execution_count": 27,
   "metadata": {},
   "outputs": [
    {
     "name": "stdout",
     "output_type": "stream",
     "text": [
      "Current answer for task DCGScore is: 0.99999999\n",
      "0.4999999975\n",
      "0.815464872708\n",
      "0.4999999975\n",
      "0.815464872708\n",
      "0.333333332222\n",
      "0.543643249378\n",
      "0.7...\n"
     ]
    }
   ],
   "source": [
    "dcg_results = []\n",
    "for example in test_examples:\n",
    "    for k in range(len(example)):\n",
    "        dcg_results.append(dcg_score(example, k + 1))\n",
    "grader.submit_tag('DCGScore', array_to_string(dcg_results))"
   ]
  },
  {
   "cell_type": "markdown",
   "metadata": {},
   "source": [
    "##  First solution: pre-trained embeddings"
   ]
  },
  {
   "cell_type": "markdown",
   "metadata": {},
   "source": [
    "We will work with predefined train, validation and test corpora. All the files are tab-separated, but have a different format:\n",
    " - *train* corpus contains similar sentences at the same row.\n",
    " - *validation* corpus contains the following columns: *question*, *similar question*, *negative example 1*, *negative example 2*, ... \n",
    " - *test* corpus contains the following columns: *question*, *example 1*, *example 2*, ...\n",
    "\n",
    "Validation corpus will be used for the intermediate validation of models. The test data will be necessary for submitting the quality of your model in the system."
   ]
  },
  {
   "cell_type": "markdown",
   "metadata": {},
   "source": [
    "Now you should upload *validation* corpus to evaluate current solution."
   ]
  },
  {
   "cell_type": "code",
   "execution_count": 28,
   "metadata": {},
   "outputs": [],
   "source": [
    "def read_corpus(filename):\n",
    "    data = []\n",
    "    for line in open(filename, encoding='utf-8'):\n",
    "        data.append(line.strip().split('\\t'))\n",
    "    return data"
   ]
  },
  {
   "cell_type": "code",
   "execution_count": 29,
   "metadata": {},
   "outputs": [],
   "source": [
    "validation = read_corpus(\"data/validation.tsv\")"
   ]
  },
  {
   "cell_type": "code",
   "execution_count": 79,
   "metadata": {},
   "outputs": [
    {
     "data": {
      "text/plain": [
       "['print binary heap tree without recursion',\n",
       " 'best convert recursive function iterative one',\n",
       " 'use ngmodel directive angular js',\n",
       " 'flash drawing erasing',\n",
       " 'toggle react component using hide show classname',\n",
       " 'use usercontrol another project current webpage',\n",
       " 'paths resolved differently upgrading aspnet 4',\n",
       " 'materialize datepicker rendering icon clicked',\n",
       " 'creating pypi package could find version satisfies requirement iso8601',\n",
       " 'analyze confusion matrix',\n",
       " 'declare c array swift',\n",
       " 'using rand flipping coin rolling die',\n",
       " 'handling json field special character name java',\n",
       " 'react native select row listview push',\n",
       " 'get creation_time video using ffmpeg regex',\n",
       " 'row exist multiple',\n",
       " 'specify classifier gradle dependencys dependency',\n",
       " 'using unwind multiple documents',\n",
       " 'visual studio code missing x509certificate2ui',\n",
       " 'developing cordova plugins firefox os',\n",
       " 'update multiple rows 2 columns mysql',\n",
       " 'analyse format alphanumeric string',\n",
       " 'dealing large tiff images c++ magick libtiff',\n",
       " 'error injectorunpr unknown provider tprovider myactivelinkdirective mean',\n",
       " 'angularjs apply directive instantly formating currency',\n",
       " 'change font color portion string',\n",
       " 'spring aop intercept methods within springs container',\n",
       " 'retrieve json original nested form apache solr',\n",
       " 'spatial autocorrelation using morans spatial overlap index',\n",
       " 'stop php page continuing field empty',\n",
       " 'selecting checkboxes listbox displayed properly',\n",
       " 'php warning illegal string offset field',\n",
       " 'webbrowser control crashes windows 10',\n",
       " 'error opening modal angular',\n",
       " 'port 25 works exe run manually blocked run service',\n",
       " '600 + plus 500 500600',\n",
       " 'count number processes created using fork loop',\n",
       " 'use uiimagepickercontrollersourcetypephotolibrary instead uiimagepickercontrollersourcetypesavedphotosalbum',\n",
       " 'read file java output first comma delimited string',\n",
       " 'simple recursive method',\n",
       " 'ensure sqlite table one row',\n",
       " 'method iterator javautilcollection',\n",
       " 'development cloudant using local couchdb',\n",
       " 'regex find method calls',\n",
       " 'aspnet menu rendering different vs2008 vs2010',\n",
       " 'maven change junit version quickstart archetype',\n",
       " 'writing sublists list lists separate text files',\n",
       " 'ipad problems table rows popovercontrol',\n",
       " 'retrieve multiple results set',\n",
       " 'pagination working codeigniter',\n",
       " 'angular nvd3 change colors legends also',\n",
       " 'nodejs server responding large file upload express busboy',\n",
       " 'send request get response windows phone 81 winrt',\n",
       " 'want delete empty folders directory last 30 days using batch',\n",
       " 'creating x amount threads execute task time',\n",
       " 'android studio 22 update aligned apk zipalign generated using new gradle plugin 220',\n",
       " 'entity framework adding entity twice manytomany relationships',\n",
       " 'join two tables display unique values maxium date',\n",
       " 'use absolute position relative parent element',\n",
       " 'search refinement webmatrix site',\n",
       " 'maven project version expression constant',\n",
       " 'prevent appgics generated',\n",
       " 'troubles converting xsd java using jaxb',\n",
       " 'cannot run jax rs web service tomcat',\n",
       " 'make password protected bash script resist refuse bash x password given',\n",
       " 'youtube api play function trigger view count',\n",
       " 'perl loop strings characters slow',\n",
       " 'change size rgl plots shiny rmarkdown',\n",
       " 'programmatically disconnect clients connected solace appliance',\n",
       " 'rails before_filter correct_user admin',\n",
       " 'gitignore everything except hidden subdir',\n",
       " 'use weakself nested blocks',\n",
       " 'css background color behaving expected',\n",
       " 'android app listview cannot scrolled bottom search specific element using appium java',\n",
       " 'rails has_many association results nameerror uninitialized constant',\n",
       " 'send data fragments swiping tabs viewpager',\n",
       " 'wordpress static pages embed content templates',\n",
       " 'troubles importing classes angular 2 modules typescript 17',\n",
       " 'able get images read java exporting jar',\n",
       " 'create resource dll',\n",
       " 'error linker command failed ld duplicate symbol _main',\n",
       " 'sql find nonprintable characters string',\n",
       " 'want generate payperiod month',\n",
       " 'interactively enter headline place entry using capture',\n",
       " 'querying dns service records find hostname tcp ip',\n",
       " 'use setcontentview outside oncreate method',\n",
       " 'consolitate data multible sheets rearrange data per column name',\n",
       " 'transparent overlay view opaque',\n",
       " 'run play framework port9001 windows cmd play console',\n",
       " 'rails 3 ajax posts link click',\n",
       " 'add html content mysql die error',\n",
       " 'best way run plack psgi perl application outside apache using fastcgi',\n",
       " 'call nsuserdefault value another view controller',\n",
       " 'qt way get font particular css resolves',\n",
       " 'update parent component data child component modified angular 15',\n",
       " '2d array pushing one array shows arrays',\n",
       " 'get nsdata assetslibrary url',\n",
       " 'specify image size html doxygen',\n",
       " 'nsfetchedresultscontrollerdelegate second view controller firing',\n",
       " 'draggable divs getting mixed another divs',\n",
       " 'creating mlp python showing error',\n",
       " 'create sharepoint 2010 ribbon button programmatically w feature xml',\n",
       " 'use pyglet write music player play music list',\n",
       " 'efficiently debug loops consisting large number iterations eclipse',\n",
       " 'passing model object redirecttoaction without polluting url',\n",
       " 'automatically receiving mobile phones sms hyperterminal',\n",
       " 'output systemoutprintln emacs ciders repl buffer',\n",
       " 'scoring regression model using pmml augustus python',\n",
       " 'safari view controller send data back app',\n",
       " 'signalling bash script running background infinite loop',\n",
       " 'add inapp purchase published app play store test going production',\n",
       " 'filenotfoundexception windows 10 universal app uap',\n",
       " 'map one column columns avro file',\n",
       " 'retrieving cell data jquery datatable post',\n",
       " 'play frame work make classes models package singleton',\n",
       " 'binding events hammerjs',\n",
       " 'yii making user auto logged signup end auto authentication signup',\n",
       " 'unreal engine 4 save rendered frame memory',\n",
       " 'building helloworld c++ program linux ncurses',\n",
       " 'generating checkbox lists mvc3 using complex viewmodel cross table linq sql',\n",
       " 'cordovawebview timeout error',\n",
       " 'whats wrong xsd schema gives type element declared include another xsd file',\n",
       " 'angular papaparse integration',\n",
       " 'setup graylog2 server elasticsearch vagrant machine',\n",
       " 'solvedsee comment make password form tumblr',\n",
       " 'javascript call method inside another method',\n",
       " 'aws api gateway clientside ssl certificate verification nginx',\n",
       " 'kendo ui drop downs posting arrays',\n",
       " 'servicestack identity field pk insert fails',\n",
       " 'redirection rendering controller twig symfony 302',\n",
       " 'css sprites bottom repeating',\n",
       " 'sort table laravel eloquent objects custom attribute',\n",
       " 'comparing elements generic list',\n",
       " 'set mindate bootstrap datetimepicker another',\n",
       " 'difference g commands vim',\n",
       " 'java creating self extracting jar extract parts archive',\n",
       " 'set html text color size using javascript',\n",
       " 'queue using arrays',\n",
       " 'foreach loop using xmlxmlelement remote scriptblock',\n",
       " 'print list categories click category one one selenium appium',\n",
       " 'every abcpdf runs memory',\n",
       " 'spring oauth2 resource still unprotected even though marked resource server',\n",
       " 'restart node application automatically aws elasticbeanstalk',\n",
       " 'unresolved external symbol lnk2019',\n",
       " 'celltemplate angularuigrid working properly',\n",
       " 'escaping backslashes method call stringbyreplacingoccurrencesofstring work objective c',\n",
       " 'apex data loading add column programatically',\n",
       " 'mysql mariadb shuts exactly 1 minute 42 seconds',\n",
       " 'mouse movement mouseover javascript evaluation watir',\n",
       " 'removing backslashes string python',\n",
       " 'array manipulation accessing specific bytes',\n",
       " 'rails applicationcss load cssscss files',\n",
       " 'longlistselector cannot change itemssource',\n",
       " 'c# datetime recognising timezone change bst',\n",
       " 'deinit child view controllers',\n",
       " 'send back custom class object class clicked',\n",
       " 'delete array returning self',\n",
       " 'ms access properties',\n",
       " 'uiwebview always add parameter url issue',\n",
       " 'comparing two spanned strings edittext android',\n",
       " 'add prefix control id still bind mvc razor',\n",
       " 'exc_bad_access setting integer anything else zero',\n",
       " 'hover css working',\n",
       " 'blowfish last block incomplete decryption',\n",
       " 'reading uploaded image undefined method file nilnilclass',\n",
       " 'run intellij idea remote desktop',\n",
       " 'get jsonobject server response volley',\n",
       " 'guide organizing large django projects',\n",
       " 'populate dropdownlist based another dropdownlist selected value mvc 4',\n",
       " 'azure servicebus token expired',\n",
       " 'ibatis mybatis migration efforts',\n",
       " 'look document generated using htp package',\n",
       " 'tortoise svn error update specified path unexpected status',\n",
       " 'extract html data logging website android app',\n",
       " 'add key value array without triggering array',\n",
       " 'write math equation c++',\n",
       " 'undefined index php mysql error',\n",
       " 'text changed inputbox automatically updates next 6 text boxes',\n",
       " 'unable get email facebook user',\n",
       " 'iphone facebook logout feature work app',\n",
       " 'force app use 3g data proxy setting',\n",
       " 'unit testing code pretty much calculation gethashcode example',\n",
       " 'status checkbox cant detected',\n",
       " 'sort list multiple conditions ruby rails',\n",
       " 'sharp text css3',\n",
       " 'change class object dynamically c#',\n",
       " 'creating array default value default value changed',\n",
       " 'call delegates function without getting instance method found warning ios',\n",
       " 'android background drawable appear black genymotion looks fine intellij',\n",
       " 'table columns using google charts',\n",
       " 'dropdown list options populate second list js php',\n",
       " 'difference ruby',\n",
       " 'remove functionality changelist filter appearing django admin',\n",
       " 'unpack stxetx data python',\n",
       " 'ansible playbook calling role directory roles directory',\n",
       " 'setting https redirects heroku laravel instance',\n",
       " 'input helper valuebinding deprecated whats alternative',\n",
       " 'using mysqlconnector twisted python execute multiple queries',\n",
       " 'mysql 1 large table 100 columns split 5 tables join',\n",
       " 'neo4j load csv field name',\n",
       " 'mocha + react navigator defined',\n",
       " 'semantic ui grid display full width column computer columns hidden',\n",
       " 'populating select menu options using javascript',\n",
       " 'serializing mongodb find return nonanonymous json array using pymongo',\n",
       " 'geom tile white space issue x variable spread unevenly accross facet grids',\n",
       " 'moving files depending profile war',\n",
       " 'check last record sqldatareader',\n",
       " 'assigning columns numpy',\n",
       " 'android facebook apiexception invalid application',\n",
       " 'django customizing message successful form save',\n",
       " 'custom textbox builtin validator server side validation firing',\n",
       " 'embed mjpeg file webpage',\n",
       " 'php delete jquery doesnt work',\n",
       " 'awk doesnt work bash script',\n",
       " 'launch specific app external accessory attached',\n",
       " 'three inputs row bootstrap 3',\n",
       " 'compiler like gcc implement acquire release semantics stdmutex',\n",
       " 'framework search upcoming project',\n",
       " 'implementing web service server windows ce 2013',\n",
       " 'keep getting digital signature object verify windows javaee installer',\n",
       " 'hide paging numbers gridview',\n",
       " 'remove sublayers view afer touch',\n",
       " 'cuda find global memory coalescence',\n",
       " 'read google chrome crash dump windbg',\n",
       " 'jquery targeting nested list',\n",
       " 'pass column value checkbox clicked wijmogrid column',\n",
       " 'normalize database hibernate repeating values dont get saved',\n",
       " 'stop validation particular textbox hiding textbox using angularjs',\n",
       " 'opencv imshow waitkey slow mac os x 10102 using c++',\n",
       " 'setting input box background',\n",
       " 'intellij idea element ignore allowed',\n",
       " 'slider work jquery tabs',\n",
       " 'carrierwave getting image width height storing hstore field',\n",
       " 'openprocess succeeds enumprocessmodules fails',\n",
       " 'django + forms dynamic choices choicefield',\n",
       " 'using urlcontent display file content net mvc',\n",
       " 'pdo cannot able fetch image database',\n",
       " 'error adding overlay current location',\n",
       " 'internal section link fails beamer output pandoc markdown',\n",
       " 'adding row_number query loses distinct defeats purpose paged results attempt',\n",
       " 'android studio 1351339820 launches wrong java version opensuse 123',\n",
       " 'facebook object empty',\n",
       " 'java code reads utf8 text incorrectly',\n",
       " 'php sessioncookie_secure actually set cookie secure',\n",
       " 'using webapp2 get value forms name attribute post request',\n",
       " 'finding uppercase character adding space',\n",
       " 'table data pass stored procedure param insert another table mysql',\n",
       " 'inject entry point class gwt gin',\n",
       " 'group week year dates day dates start sundays oracle 10',\n",
       " 'options none sml',\n",
       " 'reversing mp3 programmatically',\n",
       " 'convert associative array php insert database',\n",
       " 'map version threesum slow',\n",
       " 'ant keeps recompiling',\n",
       " 'httpcontextcurrentuseridentityname returns blank',\n",
       " 'uiwebview javascript window window communication',\n",
       " 'fluent nhibernate exception association table x refers unmapped class systemstring',\n",
       " 'net memcache libraries production ready',\n",
       " 'db2 cant connect db new user',\n",
       " 'django flatpages backup',\n",
       " 'trouble creating onetime calendar event google sheet row',\n",
       " 'colored image turned color grey vector drawable',\n",
       " 'show pattern asprepeater item template',\n",
       " 'fastest scripting language java',\n",
       " 'tried reverse engineer app got weirdlooking file tree',\n",
       " 'startup bundles placed deploy folder karaf',\n",
       " 'd3js force layout hide unhide node click misplaces nodes expanding',\n",
       " 'unique column definition sql',\n",
       " 'hash cell text google spreadsheet',\n",
       " 'pin unpin microsoft edge developer tools windows 10',\n",
       " 'editor align tables restructuredtext sphinx',\n",
       " 'walk directory c print files name permissions',\n",
       " 'ios kvc dry mutation',\n",
       " 'ibm mobilefirst platform ifix doesnt update version displayed operations console',\n",
       " 'relative layout aligning images right bottom corner',\n",
       " 'retrieve pdf document tridion file system create multimedia component',\n",
       " 'html sends x post data inputs possible',\n",
       " 'view azure logfiles running locally',\n",
       " 'web service client code generator ios',\n",
       " 'get smallest type include data range',\n",
       " 'get dates check ending',\n",
       " 'cordova brightness still returns 1',\n",
       " 'detect 3 keyboard buttons swing',\n",
       " 'python calculations two groups',\n",
       " 'create array mysql query php',\n",
       " 'tdd vs defensive programming',\n",
       " 'display logo image ribbon using vsto',\n",
       " 'get meaning jsp variable java code page',\n",
       " 'conversion cloud data 2d image using opencv',\n",
       " 'pythonsuds bug one additional element created using factory',\n",
       " 'using clang analyze c++ code',\n",
       " 'login email password control working',\n",
       " 'ansible use different logging level terminal log file',\n",
       " 'draggable window pyqt4',\n",
       " 'dynamically adding edittext depending elements json array',\n",
       " 'convert ftpgetmodificationtime file readable format',\n",
       " 'php login form using dashdb',\n",
       " 'building properties file top level war file springmvc maven',\n",
       " 'enabling breakpoints goclipse',\n",
       " 'error including external jars ant script',\n",
       " 'comparison web widgets flash javascript',\n",
       " 'must free data owner',\n",
       " 'optimizing huge mysql table query mysql',\n",
       " 'tlbexpexe outputs different tlb information 2012 versus 2010',\n",
       " 'create facebook like post comment box',\n",
       " 'codeigniter pdo integration',\n",
       " 'pass string array parameter aspnet mvc webapi method',\n",
       " 'removing space dataframe python',\n",
       " 'set application identity application pool using web administration module powershell',\n",
       " 'handle play database connection exceptions',\n",
       " 'querydsl 330 using collectionany elementcollections query n boolean arguments generates n exists subqueries',\n",
       " 'gson change way mapkeys serialized',\n",
       " 'improving gnuplot 3d plots data files pm3d',\n",
       " 'divide problem',\n",
       " 'yii2 using kartik depdrop widget',\n",
       " 'anyone post example enable ssl tsung',\n",
       " 'mpi_isend mpi_irecv seem causing deadlock',\n",
       " 'virtual box port forwarding misery ruby sinatra4567 shotgun9292',\n",
       " 'enhancing regex match urls',\n",
       " 'javascript classlist selector error',\n",
       " 'intellij idea 1115 lost ability debug nodejs applications upgrading windows 81',\n",
       " 'scientific notation android java',\n",
       " 'make json array case insensitive twitter typeahead',\n",
       " 'membase someone explain idea behind technology',\n",
       " 'struts 2 + dojo + datetimepicker',\n",
       " 'cannot retrieve data find query',\n",
       " 'long resources used file descriptor memory java temporary files jar_cache####tmp',\n",
       " 'pass variable clause oracle sql',\n",
       " 'transform coordinates shapefile',\n",
       " 'mapping result aggregate query hibernate object',\n",
       " 'drawing application save drawing android phone memory',\n",
       " 'error using npm install g generatorjhipster',\n",
       " 'get abs path currently edited file eclipse',\n",
       " 'post form data foreign aspx form',\n",
       " 'logging azure web jobs',\n",
       " 'mtm automated codeduitest testcases developed vs2013 issues',\n",
       " 'print contents html element macgap',\n",
       " 'aspnet control available codebehind',\n",
       " 'disable iiviewdeck functionality momentarily',\n",
       " 'would create struct phantomdata member',\n",
       " 'accessing masterpage properties child pages aspnet vb',\n",
       " 'bash read inside loop reading file',\n",
       " 'random number 1 20 excluding numbers already picked',\n",
       " 'wordpress navigation label browser tab',\n",
       " 'taking control soundcard java',\n",
       " 'stl containers large amounts data',\n",
       " 'colour backorder products dropdown based stock woocommerce',\n",
       " 'richfaces richautocomplete showing suggestions',\n",
       " 'select enlarge masterpane zedgraph',\n",
       " 'reactnative android publishing keystore',\n",
       " 'good way find specific value xml document using c#',\n",
       " 'make singleton stateless bean ejb 30',\n",
       " 'google app engine precompile java',\n",
       " 'using dispose method instead close method form',\n",
       " 'spring oauth2 full authentication required access resource valid access token',\n",
       " 'code displaying incorrect even right answer',\n",
       " 'forcing function ode',\n",
       " 'get sum column last row good practice',\n",
       " 'simple karma + typescript configuration reference error x defined',\n",
       " 'error building player scripts compile errors editor',\n",
       " 'property testers load despite forcepluginactivation popup menu enablement',\n",
       " 'javascript regex match last word regardless specials characters',\n",
       " 'develop multilangual system',\n",
       " 'angularmock testing karma+mocha cant find module',\n",
       " 'append element inside object using common way',\n",
       " 'generate random dark colours java',\n",
       " 'access element list using indexes stored another list',\n",
       " 'correctly use setq elisp',\n",
       " 'ios today extension show show less state incorrect collapsed says show less requiring multipule presses fix',\n",
       " 'get position cursor editable div',\n",
       " 'flickering image swt',\n",
       " 'completely random identifier given length',\n",
       " 'angular 2 render flat list hierarchal data',\n",
       " 'java rmi threads clientside executing sequentially concurrently calling remote object',\n",
       " 'variablesize buffer receiving udp packets',\n",
       " 'createsqlquery entity formula property',\n",
       " 'datepicker timestamp divide 100',\n",
       " 'print whole table using anonymous block pl sql',\n",
       " 'sentora need integrate clamav module',\n",
       " 'set value multiple select tag database',\n",
       " 'show decimal value c#',\n",
       " 'javascript affect element hovering',\n",
       " 'creating new popup window click button',\n",
       " 'depict either inheritance uml diagram',\n",
       " 'ajax post success data separate results',\n",
       " 'documentgetelementbyid available chromiumwebbrowser visual studio',\n",
       " 'target assignment expands nonlanguage object',\n",
       " 'configure distributed transactions nservicebus',\n",
       " 'combine array png images like layers using c#',\n",
       " 'yii2 gii crud generator error class message exist syntax error',\n",
       " 'get values checkbox page',\n",
       " 'session subdomains still working',\n",
       " 'turn host name resolutios',\n",
       " 'syntax error unexpected endofinput',\n",
       " 'erlang extending existing module new functions',\n",
       " 'tcl string replacement',\n",
       " 'access directory plesk control panel',\n",
       " 'minimizing sum special function list',\n",
       " 'vbnet access set two foreign keys refer table field',\n",
       " 'memory monitoring tool erlang threads',\n",
       " 'disable spring boot security secured runtime',\n",
       " 'join two tables date closest date',\n",
       " 'power point viewer aspnet mvc',\n",
       " 'swift get element tuple',\n",
       " 'images rotation right',\n",
       " 'access visual voicemail files iphone thru sdk',\n",
       " 'proximity alert locations saved server',\n",
       " 'tableviewcell button',\n",
       " 'angularjs select mark matching model selected',\n",
       " 'use id action object android using robotium tool',\n",
       " 'pass value constructors collection instances runtime simple injector',\n",
       " 'large binary shifts 8086 assembly',\n",
       " 'directshow format type change filter',\n",
       " 'open model window option selection',\n",
       " 'update value sqlite iphone sdk',\n",
       " 'installing adt plugin eclipse android development',\n",
       " 'automating contextmenu watin',\n",
       " 'evaluate performance cryptographic algorithm say elliptic curve',\n",
       " 'nthchild selector prototype',\n",
       " 'difference performance compiled accelerate code ran ghci shell',\n",
       " 'database design email messaging system',\n",
       " 'java se development kit 8u20 install options',\n",
       " 'reading file chunks',\n",
       " 'twitter style web application based lamp symfony2 backbone possible',\n",
       " 'regexp c preprocessor command',\n",
       " 'cmposition dont quite get',\n",
       " 'cakephp form submits array',\n",
       " 'store feed forward network mongodb',\n",
       " 'bash read strings output one key multiple values',\n",
       " 'http client python fails recive',\n",
       " 'dynamic languages one choose',\n",
       " 'start intentservice wakefulbroadcastreceiver',\n",
       " 'c++ converting wstring unsigned char',\n",
       " 'make echo interpret backslash escapes print trailing newline',\n",
       " 'angularjs httpget working splitting service module longer working',\n",
       " 'determine number elements array reference',\n",
       " 'typeerror nonetype object iterable list',\n",
       " 'replace random image website',\n",
       " 'rotation matrix two camera system',\n",
       " 'animated border wraps around',\n",
       " 'cron job picking oracle query result',\n",
       " 'formview msajax updatepanel',\n",
       " 'update data treestore treeeditor component',\n",
       " 'get kwargs passed url_for flask view',\n",
       " 'reload template working enlive without restar',\n",
       " 'threadsafe get accessor method',\n",
       " 'tell inline worked',\n",
       " 'calling logic user logged using spring security',\n",
       " 'java pattern find two groups two letters abc',\n",
       " 'mysql distincs entry two columns even switched',\n",
       " 'antlr creates tokens',\n",
       " 'play framework 24 java http header cached response',\n",
       " 'list strings grails domain class',\n",
       " 'insert mongodb via nodejs',\n",
       " 'stop pause pandora spotify',\n",
       " 'oracle function replicate wm_concat',\n",
       " 'return user previous page login rails',\n",
       " 'custom layout manager using predefined developerdefined child view',\n",
       " 'ruby specify file another directory input',\n",
       " 'unable read view bag value controller view',\n",
       " 'parameters time stamps oracle sql developer',\n",
       " 'measuring time load page python',\n",
       " 'set height child height parent',\n",
       " 'find element caused another element fire focusout event',\n",
       " 'get latest created table mysql',\n",
       " 'better way reference scope angularjs',\n",
       " 'sharing data elastic beanstalk web worker tiers',\n",
       " 'ios certificate pinning swift nsurlsession',\n",
       " 'sharing udp data across apps background foreground split screen multitasking ios',\n",
       " 'iphone facebook logout feature working',\n",
       " 'autohotkey hotstrings autoreplace working visual studio 2008',\n",
       " 'issue setting android sdk failed start emulator',\n",
       " 'dismissable alert dismissed',\n",
       " 'error executing change data capture sql query',\n",
       " 'multiple queries routeget requires callback functions got object undefined',\n",
       " 'attach custom element shadow dom html web components secure way',\n",
       " 'flash javascript dont work second try',\n",
       " 'egit versions map git versions',\n",
       " 'ftp uploads works php',\n",
       " 'sql xml delphi',\n",
       " 'lookup table query arbitrary length without using loop r',\n",
       " 'c# xml deserialization xmlattribute',\n",
       " 'css jquery animated transform 3 lines menu cross',\n",
       " 'm2e install external jar file need install maven command line tool',\n",
       " 'gsoap restful implementation require definition wsdl',\n",
       " 'automatically create appointment outlook using message content',\n",
       " 'jsoup error javalangillegalargumentexception',\n",
       " 'add button cms_page_edit via observer',\n",
       " 'xor binary forms integer items list',\n",
       " 'add regularization scipy linear programming nonnegative leastsquares',\n",
       " 'highlight backgroung colors words html document java',\n",
       " 'way retrieve process stats using perl python',\n",
       " 'excel namedrangefind method regex pattern match c#',\n",
       " 'cmake error configuring',\n",
       " 'set first column constant value empty npzeros numpy matrix',\n",
       " 'eclipse plugin get launch configurations tree list dialog',\n",
       " 'restful best practices defining query parameter condition',\n",
       " 'extracting text input field using webdriver',\n",
       " 'one hr tag working firefox',\n",
       " 'ajax request xml php',\n",
       " 'embedded java server using grizzly enable http2',\n",
       " 'finding minimum completion time scheduled tasks topological sort',\n",
       " 'set jquery draggable min maxleft min maxright',\n",
       " 'semanticui modal size keeps extending height page',\n",
       " 'direct git command push changes another branch',\n",
       " 'worth integrate java webapp + drools + guvnor',\n",
       " 'debug error messsage odoo',\n",
       " 'calculate differences two numbers',\n",
       " 'data constructor template haskell',\n",
       " 'tying composerjson specific laravel 5 sha',\n",
       " 'django 171 requires default value field entry database',\n",
       " 'addentriesfromdictionary true copy method',\n",
       " 'spring boot oauth2 encrypted jwt access token',\n",
       " 'wrap text longer max_characters',\n",
       " 'iptables duplicating forwarding ports',\n",
       " 'multiple custom fields stored meta_keys connect post',\n",
       " 'android gridview crashes slow devices samsung galaxy s4 s3',\n",
       " 'html css input element weird indent ie7',\n",
       " 'exactly double mean java',\n",
       " 'effective ways extract android cursor sqlite array used alertdialogbuilder',\n",
       " 'jenkins find android sdk',\n",
       " 'open new window change dom calling window javascript',\n",
       " 'dynamically change itemized overlay draw circle using seek bar progress',\n",
       " 'fix djangodbutilsintegrityerror duplicate key value violates unique constraint',\n",
       " 'inno setup creating registry entry software microsoft windows currentversion uninstall',\n",
       " 'build hadoop source code centos',\n",
       " 'c# linqtosql submitchanges update even though pk set',\n",
       " 'read utf16 text file string golang',\n",
       " 'objective c epub framework',\n",
       " 'reducer output different files based keys',\n",
       " 'possible chrome extension get users full browsing history',\n",
       " 'variable number nested loops',\n",
       " 'ordered http request parameters',\n",
       " 'testing oracle to_date function',\n",
       " 'getting error post method another php file',\n",
       " 'multiple selection worksheets one workbook copy paste content one main sheet',\n",
       " 'keep getting developer inactive errors calling beats music api',\n",
       " 'select command doesnt work',\n",
       " 'node js read files line line',\n",
       " 'phpstorm webstorm increase memory 512mb',\n",
       " 'want open googlecom specific location make specific window size',\n",
       " 'database updating new row',\n",
       " 'spring suite tools start error spring boot',\n",
       " 'slider codenameone',\n",
       " 'issue toggle multiple classes',\n",
       " 'load file dir using racket',\n",
       " 'removing quotation mark using javascript remove single quotation marks',\n",
       " 'firebase android childeventlistener triggered onchildremoved onchildadded new data added',\n",
       " 'python error using animationfuncanimation',\n",
       " 'make inline comments orgmode',\n",
       " 'find years distinct digits ccc 2013',\n",
       " 'identify customer visits occurring given time period mysql',\n",
       " 'finding distinct count cassandra column using tableau',\n",
       " 'prism change active view',\n",
       " 'get color int',\n",
       " 'dynamic subversion repos via subdomains apache',\n",
       " 'multithread loop python',\n",
       " 'get recycler view list item count using espresso',\n",
       " 'pivot calculating column average',\n",
       " 'fastest way separate digits int array net',\n",
       " 'escaping special characters sphinxse',\n",
       " 'importing sqlite file r',\n",
       " 'sort order related products working magento 16',\n",
       " 'display 404 found template slugs publication returns empty cursor meteor ironrouter',\n",
       " 'way tell object implemented tostring explicitly c#',\n",
       " 'vfs filemax limit 1231582 reached',\n",
       " 'play 22 essentialaction futures',\n",
       " 'appbarlayout collapsingtoolbarlayout expands indefinitely',\n",
       " 'deselect radio button radio buttongroup button click flash as3',\n",
       " 'numpy array creating sequence',\n",
       " 'sed matching words permutation two characters',\n",
       " 'make child element appear outside parent',\n",
       " 'mobilepin createuserwizard doesnt work',\n",
       " 'fit image canvas using wpf',\n",
       " 'adding fontawesome icon border form input',\n",
       " 'finding pixel location listview item seems return wrong value',\n",
       " 'sails 098 work created controller lift',\n",
       " 'larave file found path exist',\n",
       " 'requiredfieldvalidator causes validation server even validator disabled causesvalidationfalse',\n",
       " 'retrieving html content page requiring authentication using php',\n",
       " 'generate linkedaxis matplotlib',\n",
       " 'print sign string formatting',\n",
       " 'calculate dimensions monitor pyqt4 windows linux',\n",
       " 'vba outlook 2010 retrieving information active directory',\n",
       " 'modifying bootstrap thumbnails',\n",
       " 'aspnet whats keeping old appdomains alive',\n",
       " 'library uses package project importing facebook sdk',\n",
       " 'unable run compiled classes command line',\n",
       " 'possible partially decode update json go',\n",
       " 'use apachecommons dbcp eclipselink jpa tomcat 7x',\n",
       " 'batch geocoding using googlemapsservicesjava',\n",
       " 'inserting img text field html css',\n",
       " 'noclassdeffounderror tomcat graceful shutdown',\n",
       " 'indesign idml file automation using html5 javascript',\n",
       " 'writing objectoutputstream getting rubbish back',\n",
       " 'stop mdcards stretching images full vertical height',\n",
       " 'sql missing end',\n",
       " 'sed search two pattern line insert word end line pattern match found',\n",
       " 'configure run multiple websites respective databases single laravel code instance',\n",
       " 'threejs canvasrenderer setting initial color object together transparency textures',\n",
       " 'ihtmldocument2 click button inside iframe',\n",
       " 'resource 1 works 2 doesnt',\n",
       " 'show image image field button click event c# aspnet',\n",
       " 'use killing array threads',\n",
       " 'mvc scaffolding support entity framework 6 later',\n",
       " 'parse error using remotipart',\n",
       " 'java jaxws deployment java eclipse ee ide',\n",
       " 'kaminari order_by',\n",
       " 'multisampling fragment shader',\n",
       " 'c program change char order sentence',\n",
       " 'reload iframe every x seconds',\n",
       " 'ef6 table per hierarchy unique index derived property',\n",
       " 'shell script add extension file directory',\n",
       " 'absolute beginners guide working audio c c++',\n",
       " 'extract part string',\n",
       " 'stopping toast android actvity',\n",
       " 'clientside ssl working aws api gateway',\n",
       " 'top left menu bar frozen main window shows',\n",
       " 'category axis label alignment multi series bar chart jasper',\n",
       " 'invalid label jquery ajax json request',\n",
       " 'optimizing haskell recursive lists',\n",
       " 'symfony3 service able get arguments',\n",
       " 'reverse geocoding displaying info window markers clicked',\n",
       " 'restrict background click ionic confirmation popup',\n",
       " 'use csparqlreadytogopack09 sbt project',\n",
       " 'sort utf8 lines vim',\n",
       " 'handle notfoundexception elegantly neo4j 20',\n",
       " 'download multiple files simultaneously php forking sockets',\n",
       " 'submit form one server process post results another domain',\n",
       " 'flyway mysql multiline comment directive parsed',\n",
       " 'nonblocking file reads',\n",
       " 'oracle sql dynamic variables stored procedure',\n",
       " 'nested ngfor two data classes angular2',\n",
       " 'crossplatform webview qt56',\n",
       " 'set default encoding utf8 jsps without using page directives',\n",
       " 'xslt creating table varying amount columns',\n",
       " 'send email powershell',\n",
       " 'asynchronous method using result',\n",
       " 'jenkins extensible choice parameter compatible linux',\n",
       " 'starting speech recognition createprocess c++',\n",
       " 'animate adding subviews',\n",
       " 'change default font jekyll website',\n",
       " 'impossible compile fortran code include statement',\n",
       " 'lazy loading images vue laravel',\n",
       " 'web api read header value controller constructor',\n",
       " 'android wear wearablelistview imageview selector',\n",
       " 'function pack returns 0',\n",
       " 'possible firebase authentication via facebook phonegap app',\n",
       " 'php export mysql csv results showing html',\n",
       " 'detect language preference laravel 5',\n",
       " 'vb webbrowser click button',\n",
       " 'reports using java collections',\n",
       " 'write files contain subfolders folders txt file',\n",
       " 'checking negative values google forms',\n",
       " 'libgdx reading json array values',\n",
       " 'custom buddypress notification post save',\n",
       " 'uitableview uitextfield keep data even user scrolls',\n",
       " 'visual studio 2015 update 1 automatically checks files',\n",
       " 'mobilefirst failed synchronizing application administration service',\n",
       " 'cannot execute loop vuejs',\n",
       " 'prevent duplicate item',\n",
       " 'java apache cli optionbuilder working builder pattern',\n",
       " 'whats proper way turn genymotion emulator',\n",
       " 'jade select field populating data',\n",
       " '2 10',\n",
       " 'mysql dump comments directives simple comments',\n",
       " 'cropping library working nexus',\n",
       " 'create segue attach two view controllers swift',\n",
       " 'function search recursively patterns vim',\n",
       " 'integrating wordpress laravel user management',\n",
       " 'behaviour takepicture different different devices android versions',\n",
       " 'exporting plone content get tarball created quintagrouptransmogrifierwriter',\n",
       " 'cassandra hive using spark',\n",
       " 'ruby rails before_filter only_when_user_is_logged_in',\n",
       " 'integrate jacoco reports sonarqube without using maven',\n",
       " 'use nspredicate key nsdictionary',\n",
       " 'proxy authentication failed error',\n",
       " 'could someone explain use updatemanager tidesdk 131 beta',\n",
       " 'properties avoid code repetition',\n",
       " 'pause resume video recording using avcapturemoviefileoutput',\n",
       " 'swift enum recursive associated value',\n",
       " 'grep particular string occurring multiple times',\n",
       " 'hover map area sprite jquery',\n",
       " 'spark livelistenerbus exception freaking',\n",
       " 'use pyplotarrow patchesarrow matplotlib',\n",
       " 'apache windows fiddler',\n",
       " 'pass variable api gateway url another service running ec2',\n",
       " 'open link doubleclicking table row jquery',\n",
       " 'wget span host images stylesheets javascript links',\n",
       " 'trying show data using api data showing custom listview list empty',\n",
       " 'graphing sbts incremental compilation logic',\n",
       " 'get functionality long press gesture ios ver 32',\n",
       " 'change priority headings task api',\n",
       " 'get values row based two rows excel',\n",
       " 'using silverlight hindrance startups',\n",
       " 'spotify session callback get_audio_buffer_stats',\n",
       " 'talend specify jndi datasource',\n",
       " 'long data load time matlab',\n",
       " 'change column width base content vbnet bootstrap',\n",
       " 'alternative microsoftpracticesenterpriselibrarydata',\n",
       " 'facetpivot springdatasolr',\n",
       " 'check empty output fish function',\n",
       " 'pysolr update document error',\n",
       " 'retrieve column twice different values column table',\n",
       " 'updated nodejs connectkeycloak middleware empty response error',\n",
       " 'accordion open page loads',\n",
       " 'activity doesnt refresh associated broadcast receivers onreceive gets called',\n",
       " 'detect doctype transitional strict serverside aspnet',\n",
       " 'firefox 901 broke internal wiki layout',\n",
       " 'onchange function dropdownlist yii2',\n",
       " 'play mp3 without default player',\n",
       " 'convert svg data svg file uploaded',\n",
       " 'folder picker ms word',\n",
       " 'cant hide close form switching another form',\n",
       " 'shellcode linux x64 processor',\n",
       " 'set specific timezone windows ce c#',\n",
       " 'vagrant enters aborted state aptget update',\n",
       " 'attempting make enter button clickable',\n",
       " 'imagemagick convert generating correct color',\n",
       " 'mybatis select nested objects',\n",
       " 'css height auto doesnt work',\n",
       " 'd3 angularjs force directed graph',\n",
       " 'want add 30 days mysql date row',\n",
       " 'use flexypool hikaricpfactory',\n",
       " 'wix installer verify sufficient privileges start system services',\n",
       " 'r ts error stl series less two periods erroneous',\n",
       " 'typo3 adding content footer',\n",
       " 'knockout render template new data model change event dropdown menu',\n",
       " 'manytomany relation save',\n",
       " 'downsampling fmri image fsl',\n",
       " 'use android autocompletetextview xamarinforms',\n",
       " 'fstreamtellg return value enlarged number newlines input text file file formated windows rn',\n",
       " 'determine two points near',\n",
       " 'clicking logo home page breaks navigation menu mobile site',\n",
       " 'use iframe embed csv allow user search',\n",
       " 'install chrome extension windows registry',\n",
       " 'display message success work',\n",
       " 'jquery masked input format date yyyy dd yyyy mm dd yyyy mm yyyy',\n",
       " 'change spring session redis cookie name',\n",
       " 'tool suggest unit reference automatically delphi 2010',\n",
       " 'method return null password',\n",
       " 'sql script manipulate value based previous non zero value',\n",
       " 'rotate image shows memory exception',\n",
       " 'count button clicks',\n",
       " 'joomla custom compoment dev env hot deployment',\n",
       " 'nexus 5 showing connected devices',\n",
       " 'work method trueforall c# linq',\n",
       " 'php simplest way post display',\n",
       " 'update temp table group',\n",
       " 'use parse push cordova appcelerator etc',\n",
       " 'as3 bitmapdata send server picture small upperleft corner',\n",
       " 'set z order index adorner wpf',\n",
       " 'php microseconds',\n",
       " 'creating global database connection mdi form',\n",
       " 'uncaught referenceerror react defined',\n",
       " 'vba search column strings copy row new worksheet',\n",
       " 'record test using espresso without clean install',\n",
       " 'char array reverse order',\n",
       " 'kind sctp support various windows versions',\n",
       " 'saving changes ec2 instance without register ami time',\n",
       " 'auto run jetty boot',\n",
       " 'cache jquery template backbone view via ajax',\n",
       " 'c++ static analysis rule make sense',\n",
       " 'ripple drawable effect appearing differently listview recyclerview',\n",
       " 'r ggplot2 assigning colours factor',\n",
       " 'verifying method called without using ioc',\n",
       " 'seg cs bootsects',\n",
       " 'settimeout keeps firing',\n",
       " 'formatting way string entered database',\n",
       " 'creating jenkins job using python api',\n",
       " 'python create single thread one task quit',\n",
       " 'z order issue constraintlayout android',\n",
       " 'derive class created factory',\n",
       " 'php oop passing session key classes',\n",
       " 'aspnet mvc 3 sql server',\n",
       " 'recreating deleting google services json',\n",
       " 'probe problem writing i2c device driver',\n",
       " 'jersey produce duplicate log messages',\n",
       " 'exit stop array2dinitbased early',\n",
       " 'set array date firedate local notification time',\n",
       " 'alternative async false ajax',\n",
       " 'oracle get percent total query',\n",
       " 'match recursive pattern r b including another string eg test aaabbb regex',\n",
       " 'disable gesturelistener',\n",
       " 'specify code style settings qt creator proshared file',\n",
       " 'cal extension template modification tmpl',\n",
       " 'getting started groovy grails',\n",
       " 'opening ruby programs source file default editor',\n",
       " 'pass array guid via web api',\n",
       " 'backbonerelational find load',\n",
       " 'whats best way format xml string ruby',\n",
       " 'partial classes google closure',\n",
       " 'add repository accountcontroller',\n",
       " 'wikipedia api autocomplete json',\n",
       " 'apache pig unable run pigjar pigwithouthadoopjar',\n",
       " 'optimizing list comprehension find pairs coprime numbers',\n",
       " 'kivy access child id',\n",
       " 'stucture values staying values changed 858993460',\n",
       " 'set toolbar title',\n",
       " 'add row table using swt',\n",
       " 'jquery ui selectmenu vertical position offset relatively buttons line',\n",
       " 'ssis warning failed decrypt encrypted xml node',\n",
       " 'gps getting user location',\n",
       " 'exporting simple model texture blender threejs',\n",
       " 'postman required multipartfile parameter present spring java',\n",
       " 'prevent akka actor restarting child actor',\n",
       " 'uitableview loaded',\n",
       " 'ntfs permission modify date',\n",
       " 'qtreeview tell drag drop event reorder move parents',\n",
       " 'prevent xul notificationbox closing button hit',\n",
       " 'code working notification go day',\n",
       " 'android action bar button show',\n",
       " 'widget function',\n",
       " 'jquery hide taking parameter',\n",
       " 'use one form table multiple mvcs',\n",
       " 'mstest execution order tests within testclass',\n",
       " 'call jquery function html returned ajax',\n",
       " 'oauth2 security considerations client_id',\n",
       " 'google compute instance 100 cpu utilisation',\n",
       " 'incompatible block pointer type returning array',\n",
       " 'calling rest api encrypted pem client certificate',\n",
       " 'select objects list',\n",
       " 'drag insert div another div',\n",
       " 'prevent firefox scrolling bottom page large popup opened',\n",
       " 'handle liststring sessionadd',\n",
       " 'mysql inserting 2 tables primary key foreign key',\n",
       " 'whats right way remove multiple items qtablewidget',\n",
       " 'mstest fails testinitialize doesnt testcleanup get executed',\n",
       " 'php codeigniter application opening page except default controller',\n",
       " 'parsing json data without quotes jquery',\n",
       " 'rewrite url htaccess',\n",
       " 'error socket error errno 111 connection refused',\n",
       " 'git error rpc failed result22 http code 401',\n",
       " 'tfs 2010 set state field certain value',\n",
       " 'actionscript 30 create progressevent instances loop multiple files loaded xml',\n",
       " 'extract query find average',\n",
       " 'c# windows service default arguments install',\n",
       " 'upload large files node js',\n",
       " 'changing table headers cakephp',\n",
       " 'hello world jms glassfish',\n",
       " 'countdown timer using datetimeparse without defined date',\n",
       " 'images drawable folder resized automatically',\n",
       " 'find files size dellete duplicates except one shortest name using shell script',\n",
       " 'writing rules firebase code',\n",
       " 'search words specific starts endings',\n",
       " 'install neo4j 30+ windows service',\n",
       " 'php convert 2 digit year 4 digit year',\n",
       " 'jsdoc autocomplete documentation eclipse working classcreate',\n",
       " 'split infix string array string java',\n",
       " 'folder permissions azure web sites',\n",
       " 'separators uitableviewcells',\n",
       " 'uncaught syntax error unrecognized expression object object',\n",
       " 'need htaccess redirection',\n",
       " 'create bootstrap carousel iframes',\n",
       " 'doctrine2 get entity id flush',\n",
       " 'xquery help sorted parent child relationship',\n",
       " 'load separate pages android gridview clicking blocks items',\n",
       " 'kineticjs rect filltext',\n",
       " 'query string valid',\n",
       " 'convert bytearrays nsstring objective c',\n",
       " 'stdchronoduration based seconds',\n",
       " 'wcf rest client exception',\n",
       " 'using uibinder create widget go dialog',\n",
       " 'onedrive business invalid_request error_descriptionaadsts90014 request body must contain following parameter grant_type',\n",
       " 'options interfacing command prompt process net application standard io',\n",
       " 'adding data database using microsoft access oledb c#',\n",
       " 'jquery ajax header passed',\n",
       " 'angularjs multiple views routing without losing scope',\n",
       " 'backbonejs merge collections',\n",
       " 'specflow could load file assembly techtalkspecflow version2200',\n",
       " 'max byte calculated systemruntimeinteropservicesmarshalsizeof',\n",
       " 'application retrieve custom fields docusign transaction',\n",
       " 'add active state button button group',\n",
       " 'define clear range pixel color',\n",
       " 'roslyn visualbasicscriptengine doesnt recognize hostobject written c#',\n",
       " 'neither bindingresult plain target object bean name categoryoptions available request attribute',\n",
       " 'change wicket behaviour page expired',\n",
       " 'phpunit code coverage show 0 coverage',\n",
       " 'prove code correctness lemmas undefined constant',\n",
       " 'visual studio insufficient privileges debug process debug process visual studio must run administrator',\n",
       " 'webapi entitysetcontroller using composite keys',\n",
       " 'set opengl project using xcode 42 c++',\n",
       " 'initialize static nsstring class level',\n",
       " 'rich text editor inside flux form',\n",
       " 'setting path xampp osx',\n",
       " 'extract data html using php',\n",
       " 'get current location using mapmodule',\n",
       " 'excel vba syntax errors compiling issues',\n",
       " 'read logback configuration file path outside war file',\n",
       " 'jquery ajax getting every div elements',\n",
       " 'tcp socket java byte 128 received 65533',\n",
       " 'sqlbulkcopy keeps throwing connection forcibly closed exception',\n",
       " 'error sending following valid addresses jenkins',\n",
       " 'determine text balanced delimiters',\n",
       " 'flick deck cards',\n",
       " 'selecting sqlite database android',\n",
       " 'tsql merge incorrect syntax near',\n",
       " 'building pocketsphinx android windows',\n",
       " 'add background image div without empty space div footer',\n",
       " 'include github project wordpress plugin',\n",
       " 'django multivaluefield multiwidget compress decompress working',\n",
       " 'android call onresume inside onpause',\n",
       " 'fit picture absolute positioning modal window',\n",
       " 'redirect url php file exist nginx',\n",
       " 'laravel 4 exception notfoundhttpexception',\n",
       " 'start using kostache',\n",
       " 'assigned access application exits ctrl + alt + delete pressed',\n",
       " 'circular dependency error running migrations django 17c2',\n",
       " 'javafx setonshown fires window visible',\n",
       " 'flash develop publishing',\n",
       " 'want use variable declared somewhere else cannot simple sql query',\n",
       " 'buttons displayed',\n",
       " 'prevent twitter responsive layout collapsing width 320px',\n",
       " 'show azure cost analysis data using azure billing api sdk',\n",
       " 'find field names search query',\n",
       " 'oauth 20 openid connect loopback keycloak',\n",
       " 'windows phone retrieve photo media library application instances',\n",
       " 'symfony2 determine controller called development environment production environment',\n",
       " 'uitableview fully reloaded',\n",
       " 'httppost url postdata options set header',\n",
       " 'json stringify outputs empty object empty object',\n",
       " 'displaysyncexec working inside callable',\n",
       " 'xpath first occurrence element text length 200 characters',\n",
       " 'unable push docker image local openshift origin registry',\n",
       " 'slidedown using javascript working intended',\n",
       " 'threadingtasks dispose meaning issue',\n",
       " 'val function javascript',\n",
       " 'using php send form emailhaving issue 405 allowed form submitted',\n",
       " 'netty closefuture sync channel blocks rest api',\n",
       " 'check specific button exists scrapy',\n",
       " 'remove logs ormlite android',\n",
       " 'language detection api library',\n",
       " 'make 1 form upvote button 1 form buttons',\n",
       " 'eclipse gae jdo 30',\n",
       " 'djangocms editors html data attribute cleaned',\n",
       " 'xcode build error clang failed',\n",
       " 'settimeout web worker',\n",
       " 'c# populating listview list',\n",
       " 'javascript working django inline formset using urlifyjs',\n",
       " 'php multi curl performance worse sequential file_get_contents',\n",
       " 'converting php contact form smtp',\n",
       " 'prevent original method called mocking class phpunit',\n",
       " 'ensure footer stick bottom page flex content',\n",
       " 'share files path using fileprovider',\n",
       " 'r build sum arrays third dimension containing nas returning list',\n",
       " 'speeding strangely slow rcpp function',\n",
       " 'create service sends receives udp broadcasts multiple interfaces',\n",
       " 'someone tell replace following javascript code loop',\n",
       " 'uiimageview layer border issue',\n",
       " 'com object created ccomobjectcreateinstance destroyed pointer goes scope',\n",
       " 'run 2 sql query 1 query save query result csv format',\n",
       " 'aws elastic beanstalk vs ec2 container service ecs docker',\n",
       " 'connect remote mongodb instance aspnet',\n",
       " 'copying files unicode names',\n",
       " 'aspnet web application doesnt unload appdomains deploy',\n",
       " 'getting youtube livestream url',\n",
       " 'cant use tostring linq entities query',\n",
       " 'list comprehension create list nodata value feed default value',\n",
       " 'jsx element type xxx construct call signatures',\n",
       " 'subroutine unexpectedly ends workbook closed',\n",
       " 'creating result set using select statement within loop',\n",
       " 'laravel 42 environment detection homesteadyaml vs startphp',\n",
       " 'deploy shell script ruby gem install bin directory',\n",
       " 'change string int',\n",
       " 'stop mysql decimal field rounded',\n",
       " 'respecting argparses privacy vs usability',\n",
       " 'simple web service python',\n",
       " 'emoji uiwebview ios 5',\n",
       " 'getting ioerror errno invalid number channels 9998 using mic pyaudio raspberry pi',\n",
       " 'mono mac os x parallel http downloads limited 2',\n",
       " 'delete files directories buckets amazon s3 java',\n",
       " 'android saving form data swipe rather button',\n",
       " 'description item name paypal payment received email',\n",
       " 'code igniter data mapper giving valid json',\n",
       " 'find official canonical documentation using javascript classic asp',\n",
       " 'broadcastreceiver isnt working',\n",
       " 'array compare count similar values',\n",
       " 'cancel viewwillappear uiimagepickercontroller dismissed',\n",
       " 'scala possible write script refers another script',\n",
       " 'reload page ie retaining scroll position',\n",
       " 'springboot multiple authentication adapter',\n",
       " 'smtp contact form blank screen submit',\n",
       " 'destroy sessions one',\n",
       " 'c# windows ce compact framework 20 set system timezone',\n",
       " 'appropriate representation 2d game board clojure',\n",
       " 'ionic emulate ios shows black screen',\n",
       " 'update api angularjs',\n",
       " 'javascript based redirect hurt seo',\n",
       " 'difference two soap requests',\n",
       " 'microsoft access report cycle pages report print view',\n",
       " 'actor akkaplaydeadletters tell mean new relics trace play framework 20 web transaction',\n",
       " 'jruby 170 install bundler given plenty memory',\n",
       " 'solr multiple tokenizers query',\n",
       " 'possible pass ejs variable angular ngrepeat filter',\n",
       " 'read data using ip address',\n",
       " 'ssis xml decryption message',\n",
       " 'detecting selection change uitextview',\n",
       " 'different css backgroundimage depending month year',\n",
       " 'whats equivalent averageifs standard deviation',\n",
       " 'segmentation faults using f2py',\n",
       " ...]"
      ]
     },
     "execution_count": 79,
     "metadata": {},
     "output_type": "execute_result"
    }
   ],
   "source": [
    "prepared_validation[0]"
   ]
  },
  {
   "cell_type": "code",
   "execution_count": 31,
   "metadata": {},
   "outputs": [],
   "source": [
    "from sklearn.metrics.pairwise import cosine_similarity"
   ]
  },
  {
   "cell_type": "markdown",
   "metadata": {},
   "source": [
    "We will use cosine distance to rank candidate questions which you need to implement in the function *rank_candidates*. The function should return a sorted list of pairs *(initial position in candidates list, candidate)*. Index of some pair corresponds to its rank (the first is the best). For example, if the list of candidates was *[a, b, c]* and the most similar is *c*, then *a* and *b*, the function should return a list *[(2, c), (0, a), (1, b)]*.\n",
    "\n",
    "Pay attention, if you use the function *cosine_similarity* from *sklearn.metrics.pairwise* to calculate similarity because it works in a different way: most similar objects has greatest similarity. It's preferable to use a vectorized version of *cosine_similarity* function. Try to compute similarity at once and not use list comprehension. It should speed up your computations significantly."
   ]
  },
  {
   "cell_type": "code",
   "execution_count": 67,
   "metadata": {},
   "outputs": [],
   "source": [
    "def rank_candidates(question, candidates, embeddings, dim=300):\n",
    "    \"\"\"\n",
    "        question: a string\n",
    "        candidates: a list of strings (candidates) which we want to rank\n",
    "        embeddings: some embeddings\n",
    "        dim: dimension of the current embeddings\n",
    "        \n",
    "        result: a list of pairs (initial position in the list, question)\n",
    "    \"\"\"\n",
    "    \n",
    "    ######################################\n",
    "    ######### YOUR CODE HERE #############\n",
    "    ######################################\n",
    "    vecq = np.array([np.array(question_to_vec(question, embeddings, dim))])\n",
    "    vecc = np.array([np.array(question_to_vec(can, embeddings, dim)) for can in candidates])\n",
    "    scores = list(cosine_similarity(vecq, vecc)[0])\n",
    "    tl = [(i, candidates[i], scores[i]) for i in range(len(candidates))]\n",
    "    stl = sorted(tl, key=lambda x:x[2], reverse=True)\n",
    "    return [(t[0],t[1]) for t in stl]"
   ]
  },
  {
   "cell_type": "markdown",
   "metadata": {},
   "source": [
    "Test your code on the tiny examples:"
   ]
  },
  {
   "cell_type": "code",
   "execution_count": 33,
   "metadata": {},
   "outputs": [],
   "source": [
    "def test_rank_candidates():\n",
    "    questions = ['converting string to list', 'Sending array via Ajax fails']\n",
    "    candidates = [['Convert Google results object (pure js) to Python object', \n",
    "                   'C# create cookie from string and send it',\n",
    "                   'How to use jQuery AJAX for an outside domain?'], \n",
    "                  ['Getting all list items of an unordered list in PHP', \n",
    "                   'WPF- How to update the changes in list item of a list', \n",
    "                   'select2 not displaying search results']]\n",
    "    results = [[(1, 'C# create cookie from string and send it'), \n",
    "                (0, 'Convert Google results object (pure js) to Python object'), \n",
    "                (2, 'How to use jQuery AJAX for an outside domain?')],\n",
    "               [(0, 'Getting all list items of an unordered list in PHP'), \n",
    "                (2, 'select2 not displaying search results'), \n",
    "                (1, 'WPF- How to update the changes in list item of a list')]]\n",
    "    for question, q_candidates, result in zip(questions, candidates, results):\n",
    "        ranks = rank_candidates(question, q_candidates, wv_embeddings, 300)\n",
    "        if not np.all(ranks == result):\n",
    "            return \"Check the function.\"\n",
    "    return \"Basic tests are passed.\""
   ]
  },
  {
   "cell_type": "code",
   "execution_count": 34,
   "metadata": {},
   "outputs": [
    {
     "name": "stdout",
     "output_type": "stream",
     "text": [
      "Basic tests are passed.\n"
     ]
    }
   ],
   "source": [
    "print(test_rank_candidates())"
   ]
  },
  {
   "cell_type": "markdown",
   "metadata": {},
   "source": [
    "Now we can test the quality of the current approach. Run the next two cells to get the results. Pay attention that calculation of similarity between vectors takes time and this calculation is computed approximately in 10 minutes."
   ]
  },
  {
   "cell_type": "code",
   "execution_count": 35,
   "metadata": {},
   "outputs": [],
   "source": [
    "wv_ranking = []\n",
    "for line in validation:\n",
    "    q, *ex = line\n",
    "    ranks = rank_candidates(q, ex, wv_embeddings)\n",
    "    wv_ranking.append([r[0] for r in ranks].index(0) + 1)"
   ]
  },
  {
   "cell_type": "code",
   "execution_count": 36,
   "metadata": {},
   "outputs": [
    {
     "name": "stdout",
     "output_type": "stream",
     "text": [
      "DCG@   1: 0.212 | Hits@   1: 0.212\n",
      "DCG@   5: 0.267 | Hits@   5: 0.315\n",
      "DCG@  10: 0.282 | Hits@  10: 0.363\n",
      "DCG@ 100: 0.320 | Hits@ 100: 0.552\n",
      "DCG@ 500: 0.353 | Hits@ 500: 0.811\n",
      "DCG@1000: 0.373 | Hits@1000: 1.000\n"
     ]
    }
   ],
   "source": [
    "for k in [1, 5, 10, 100, 500, 1000]:\n",
    "    print(\"DCG@%4d: %.3f | Hits@%4d: %.3f\" % (k, dcg_score(wv_ranking, k), k, hits_count(wv_ranking, k)))"
   ]
  },
  {
   "cell_type": "markdown",
   "metadata": {},
   "source": [
    "If you did all the steps correctly, you should be frustrated by the received results. Let's try to understand why the quality is so low. First of all, when you work with some data it is necessary to have an idea how the data looks like. Print several questions from the data:"
   ]
  },
  {
   "cell_type": "markdown",
   "metadata": {},
   "source": [
    "As you can see, we deal with the raw data. It means that we have many punctuation marks, special characters and unlowercased letters. In our case, it could lead to the situation where we can't find some embeddings, e.g. for the word \"grid?\". \n",
    "\n",
    "To solve this problem you should use the functions *text_prepare* from the previous assignments to prepare the data."
   ]
  },
  {
   "cell_type": "code",
   "execution_count": 37,
   "metadata": {},
   "outputs": [],
   "source": [
    "from util import text_prepare"
   ]
  },
  {
   "cell_type": "markdown",
   "metadata": {},
   "source": [
    "Now transform all the questions from the validation set:"
   ]
  },
  {
   "cell_type": "code",
   "execution_count": 38,
   "metadata": {},
   "outputs": [],
   "source": [
    "prepared_validation = []\n",
    "for line in validation:\n",
    "    q, *ex = line\n",
    "    q = text_prepare(q)\n",
    "    for i, e in enumerate(ex):\n",
    "        ex[i] = text_prepare(e)\n",
    "    prepared_validation.append([q, *ex])"
   ]
  },
  {
   "cell_type": "code",
   "execution_count": 39,
   "metadata": {},
   "outputs": [],
   "source": [
    "del validation"
   ]
  },
  {
   "cell_type": "markdown",
   "metadata": {},
   "source": [
    "Let's evaluate the approach again after the preparation:"
   ]
  },
  {
   "cell_type": "code",
   "execution_count": 40,
   "metadata": {},
   "outputs": [
    {
     "ename": "KeyboardInterrupt",
     "evalue": "",
     "output_type": "error",
     "traceback": [
      "\u001b[0;31m---------------------------------------------------------------------------\u001b[0m",
      "\u001b[0;31mKeyboardInterrupt\u001b[0m                         Traceback (most recent call last)",
      "\u001b[0;32m<ipython-input-40-0beac4f4d767>\u001b[0m in \u001b[0;36m<module>\u001b[0;34m()\u001b[0m\n\u001b[1;32m      2\u001b[0m \u001b[0;32mfor\u001b[0m \u001b[0mline\u001b[0m \u001b[0;32min\u001b[0m \u001b[0mprepared_validation\u001b[0m\u001b[0;34m:\u001b[0m\u001b[0;34m\u001b[0m\u001b[0m\n\u001b[1;32m      3\u001b[0m     \u001b[0mq\u001b[0m\u001b[0;34m,\u001b[0m \u001b[0;34m*\u001b[0m\u001b[0mex\u001b[0m \u001b[0;34m=\u001b[0m \u001b[0mline\u001b[0m\u001b[0;34m\u001b[0m\u001b[0m\n\u001b[0;32m----> 4\u001b[0;31m     \u001b[0mranks\u001b[0m \u001b[0;34m=\u001b[0m \u001b[0mrank_candidates\u001b[0m\u001b[0;34m(\u001b[0m\u001b[0mq\u001b[0m\u001b[0;34m,\u001b[0m \u001b[0mex\u001b[0m\u001b[0;34m,\u001b[0m \u001b[0mwv_embeddings\u001b[0m\u001b[0;34m)\u001b[0m\u001b[0;34m\u001b[0m\u001b[0m\n\u001b[0m\u001b[1;32m      5\u001b[0m     \u001b[0mwv_prepared_ranking\u001b[0m\u001b[0;34m.\u001b[0m\u001b[0mappend\u001b[0m\u001b[0;34m(\u001b[0m\u001b[0;34m[\u001b[0m\u001b[0mr\u001b[0m\u001b[0;34m[\u001b[0m\u001b[0;36m0\u001b[0m\u001b[0;34m]\u001b[0m \u001b[0;32mfor\u001b[0m \u001b[0mr\u001b[0m \u001b[0;32min\u001b[0m \u001b[0mranks\u001b[0m\u001b[0;34m]\u001b[0m\u001b[0;34m.\u001b[0m\u001b[0mindex\u001b[0m\u001b[0;34m(\u001b[0m\u001b[0;36m0\u001b[0m\u001b[0;34m)\u001b[0m \u001b[0;34m+\u001b[0m \u001b[0;36m1\u001b[0m\u001b[0;34m)\u001b[0m\u001b[0;34m\u001b[0m\u001b[0m\n",
      "\u001b[0;32m<ipython-input-32-7b0af45cecd3>\u001b[0m in \u001b[0;36mrank_candidates\u001b[0;34m(question, candidates, embeddings, dim)\u001b[0m\n\u001b[1;32m      9\u001b[0m     \"\"\"\n\u001b[1;32m     10\u001b[0m     \u001b[0mvec_q1\u001b[0m \u001b[0;34m=\u001b[0m \u001b[0;34m[\u001b[0m\u001b[0mquestion_to_vec\u001b[0m\u001b[0;34m(\u001b[0m\u001b[0mquestion\u001b[0m\u001b[0;34m,\u001b[0m \u001b[0mwv_embeddings\u001b[0m\u001b[0;34m)\u001b[0m\u001b[0;34m]\u001b[0m\u001b[0;34m\u001b[0m\u001b[0m\n\u001b[0;32m---> 11\u001b[0;31m     \u001b[0mvec_candicates\u001b[0m \u001b[0;34m=\u001b[0m \u001b[0;34m[\u001b[0m\u001b[0mquestion_to_vec\u001b[0m\u001b[0;34m(\u001b[0m\u001b[0mcan\u001b[0m\u001b[0;34m,\u001b[0m \u001b[0mwv_embeddings\u001b[0m\u001b[0;34m)\u001b[0m \u001b[0;32mfor\u001b[0m \u001b[0mcan\u001b[0m \u001b[0;32min\u001b[0m \u001b[0mcandidates\u001b[0m\u001b[0;34m]\u001b[0m\u001b[0;34m\u001b[0m\u001b[0m\n\u001b[0m\u001b[1;32m     12\u001b[0m     \u001b[0mscores\u001b[0m \u001b[0;34m=\u001b[0m \u001b[0mlist\u001b[0m\u001b[0;34m(\u001b[0m\u001b[0mcosine_similarity\u001b[0m\u001b[0;34m(\u001b[0m\u001b[0mvec_q1\u001b[0m\u001b[0;34m,\u001b[0m \u001b[0mvec_candicates\u001b[0m\u001b[0;34m)\u001b[0m\u001b[0;34m[\u001b[0m\u001b[0;36m0\u001b[0m\u001b[0;34m]\u001b[0m\u001b[0;34m)\u001b[0m\u001b[0;34m\u001b[0m\u001b[0m\n\u001b[1;32m     13\u001b[0m     \u001b[0mL1\u001b[0m \u001b[0;34m=\u001b[0m \u001b[0;34m(\u001b[0m\u001b[0;34m(\u001b[0m\u001b[0mi\u001b[0m\u001b[0;34m,\u001b[0m \u001b[0mcandidates\u001b[0m\u001b[0;34m[\u001b[0m\u001b[0mi\u001b[0m\u001b[0;34m]\u001b[0m\u001b[0;34m,\u001b[0m \u001b[0mscores\u001b[0m\u001b[0;34m[\u001b[0m\u001b[0mi\u001b[0m\u001b[0;34m]\u001b[0m\u001b[0;34m)\u001b[0m \u001b[0;32mfor\u001b[0m \u001b[0mi\u001b[0m \u001b[0;32min\u001b[0m \u001b[0mrange\u001b[0m\u001b[0;34m(\u001b[0m\u001b[0mlen\u001b[0m\u001b[0;34m(\u001b[0m\u001b[0mcandidates\u001b[0m\u001b[0;34m)\u001b[0m\u001b[0;34m)\u001b[0m\u001b[0;34m)\u001b[0m\u001b[0;34m\u001b[0m\u001b[0m\n",
      "\u001b[0;32m<ipython-input-32-7b0af45cecd3>\u001b[0m in \u001b[0;36m<listcomp>\u001b[0;34m(.0)\u001b[0m\n\u001b[1;32m      9\u001b[0m     \"\"\"\n\u001b[1;32m     10\u001b[0m     \u001b[0mvec_q1\u001b[0m \u001b[0;34m=\u001b[0m \u001b[0;34m[\u001b[0m\u001b[0mquestion_to_vec\u001b[0m\u001b[0;34m(\u001b[0m\u001b[0mquestion\u001b[0m\u001b[0;34m,\u001b[0m \u001b[0mwv_embeddings\u001b[0m\u001b[0;34m)\u001b[0m\u001b[0;34m]\u001b[0m\u001b[0;34m\u001b[0m\u001b[0m\n\u001b[0;32m---> 11\u001b[0;31m     \u001b[0mvec_candicates\u001b[0m \u001b[0;34m=\u001b[0m \u001b[0;34m[\u001b[0m\u001b[0mquestion_to_vec\u001b[0m\u001b[0;34m(\u001b[0m\u001b[0mcan\u001b[0m\u001b[0;34m,\u001b[0m \u001b[0mwv_embeddings\u001b[0m\u001b[0;34m)\u001b[0m \u001b[0;32mfor\u001b[0m \u001b[0mcan\u001b[0m \u001b[0;32min\u001b[0m \u001b[0mcandidates\u001b[0m\u001b[0;34m]\u001b[0m\u001b[0;34m\u001b[0m\u001b[0m\n\u001b[0m\u001b[1;32m     12\u001b[0m     \u001b[0mscores\u001b[0m \u001b[0;34m=\u001b[0m \u001b[0mlist\u001b[0m\u001b[0;34m(\u001b[0m\u001b[0mcosine_similarity\u001b[0m\u001b[0;34m(\u001b[0m\u001b[0mvec_q1\u001b[0m\u001b[0;34m,\u001b[0m \u001b[0mvec_candicates\u001b[0m\u001b[0;34m)\u001b[0m\u001b[0;34m[\u001b[0m\u001b[0;36m0\u001b[0m\u001b[0;34m]\u001b[0m\u001b[0;34m)\u001b[0m\u001b[0;34m\u001b[0m\u001b[0m\n\u001b[1;32m     13\u001b[0m     \u001b[0mL1\u001b[0m \u001b[0;34m=\u001b[0m \u001b[0;34m(\u001b[0m\u001b[0;34m(\u001b[0m\u001b[0mi\u001b[0m\u001b[0;34m,\u001b[0m \u001b[0mcandidates\u001b[0m\u001b[0;34m[\u001b[0m\u001b[0mi\u001b[0m\u001b[0;34m]\u001b[0m\u001b[0;34m,\u001b[0m \u001b[0mscores\u001b[0m\u001b[0;34m[\u001b[0m\u001b[0mi\u001b[0m\u001b[0;34m]\u001b[0m\u001b[0;34m)\u001b[0m \u001b[0;32mfor\u001b[0m \u001b[0mi\u001b[0m \u001b[0;32min\u001b[0m \u001b[0mrange\u001b[0m\u001b[0;34m(\u001b[0m\u001b[0mlen\u001b[0m\u001b[0;34m(\u001b[0m\u001b[0mcandidates\u001b[0m\u001b[0;34m)\u001b[0m\u001b[0;34m)\u001b[0m\u001b[0;34m)\u001b[0m\u001b[0;34m\u001b[0m\u001b[0m\n",
      "\u001b[0;32m<ipython-input-10-d27f083e83fe>\u001b[0m in \u001b[0;36mquestion_to_vec\u001b[0;34m(question, embeddings, dim)\u001b[0m\n\u001b[1;32m     12\u001b[0m     \u001b[0;32mfor\u001b[0m \u001b[0mword\u001b[0m \u001b[0;32min\u001b[0m \u001b[0mwords\u001b[0m\u001b[0;34m:\u001b[0m\u001b[0;34m\u001b[0m\u001b[0m\n\u001b[1;32m     13\u001b[0m         \u001b[0;32mif\u001b[0m \u001b[0mword\u001b[0m \u001b[0;32min\u001b[0m \u001b[0membeddings\u001b[0m\u001b[0;34m:\u001b[0m\u001b[0;34m\u001b[0m\u001b[0m\n\u001b[0;32m---> 14\u001b[0;31m             \u001b[0mvector\u001b[0m \u001b[0;34m+=\u001b[0m \u001b[0mnp\u001b[0m\u001b[0;34m.\u001b[0m\u001b[0marray\u001b[0m\u001b[0;34m(\u001b[0m\u001b[0membeddings\u001b[0m\u001b[0;34m[\u001b[0m\u001b[0mword\u001b[0m\u001b[0;34m]\u001b[0m\u001b[0;34m)\u001b[0m\u001b[0;34m\u001b[0m\u001b[0m\n\u001b[0m\u001b[1;32m     15\u001b[0m             \u001b[0mcount\u001b[0m \u001b[0;34m+=\u001b[0m \u001b[0;36m1\u001b[0m\u001b[0;34m\u001b[0m\u001b[0m\n\u001b[1;32m     16\u001b[0m     \u001b[0;32mif\u001b[0m \u001b[0mcount\u001b[0m \u001b[0;34m==\u001b[0m \u001b[0;36m0\u001b[0m\u001b[0;34m:\u001b[0m\u001b[0;34m\u001b[0m\u001b[0m\n",
      "\u001b[0;32m/usr/local/lib/python3.5/dist-packages/gensim/models/keyedvectors.py\u001b[0m in \u001b[0;36m__getitem__\u001b[0;34m(self, words)\u001b[0m\n\u001b[1;32m    599\u001b[0m         \u001b[0;32mif\u001b[0m \u001b[0misinstance\u001b[0m\u001b[0;34m(\u001b[0m\u001b[0mwords\u001b[0m\u001b[0;34m,\u001b[0m \u001b[0mstring_types\u001b[0m\u001b[0;34m)\u001b[0m\u001b[0;34m:\u001b[0m\u001b[0;34m\u001b[0m\u001b[0m\n\u001b[1;32m    600\u001b[0m             \u001b[0;31m# allow calls like trained_model['office'], as a shorthand for trained_model[['office']]\u001b[0m\u001b[0;34m\u001b[0m\u001b[0;34m\u001b[0m\u001b[0m\n\u001b[0;32m--> 601\u001b[0;31m             \u001b[0;32mreturn\u001b[0m \u001b[0mself\u001b[0m\u001b[0;34m.\u001b[0m\u001b[0mword_vec\u001b[0m\u001b[0;34m(\u001b[0m\u001b[0mwords\u001b[0m\u001b[0;34m)\u001b[0m\u001b[0;34m\u001b[0m\u001b[0m\n\u001b[0m\u001b[1;32m    602\u001b[0m \u001b[0;34m\u001b[0m\u001b[0m\n\u001b[1;32m    603\u001b[0m         \u001b[0;32mreturn\u001b[0m \u001b[0mvstack\u001b[0m\u001b[0;34m(\u001b[0m\u001b[0;34m[\u001b[0m\u001b[0mself\u001b[0m\u001b[0;34m.\u001b[0m\u001b[0mword_vec\u001b[0m\u001b[0;34m(\u001b[0m\u001b[0mword\u001b[0m\u001b[0;34m)\u001b[0m \u001b[0;32mfor\u001b[0m \u001b[0mword\u001b[0m \u001b[0;32min\u001b[0m \u001b[0mwords\u001b[0m\u001b[0;34m]\u001b[0m\u001b[0;34m)\u001b[0m\u001b[0;34m\u001b[0m\u001b[0m\n",
      "\u001b[0;32m/usr/local/lib/python3.5/dist-packages/gensim/models/keyedvectors.py\u001b[0m in \u001b[0;36mword_vec\u001b[0;34m(self, word, use_norm)\u001b[0m\n\u001b[1;32m    283\u001b[0m                 \u001b[0mresult\u001b[0m \u001b[0;34m=\u001b[0m \u001b[0mself\u001b[0m\u001b[0;34m.\u001b[0m\u001b[0msyn0\u001b[0m\u001b[0;34m[\u001b[0m\u001b[0mself\u001b[0m\u001b[0;34m.\u001b[0m\u001b[0mvocab\u001b[0m\u001b[0;34m[\u001b[0m\u001b[0mword\u001b[0m\u001b[0;34m]\u001b[0m\u001b[0;34m.\u001b[0m\u001b[0mindex\u001b[0m\u001b[0;34m]\u001b[0m\u001b[0;34m\u001b[0m\u001b[0m\n\u001b[1;32m    284\u001b[0m \u001b[0;34m\u001b[0m\u001b[0m\n\u001b[0;32m--> 285\u001b[0;31m             \u001b[0mresult\u001b[0m\u001b[0;34m.\u001b[0m\u001b[0msetflags\u001b[0m\u001b[0;34m(\u001b[0m\u001b[0mwrite\u001b[0m\u001b[0;34m=\u001b[0m\u001b[0;32mFalse\u001b[0m\u001b[0;34m)\u001b[0m\u001b[0;34m\u001b[0m\u001b[0m\n\u001b[0m\u001b[1;32m    286\u001b[0m             \u001b[0;32mreturn\u001b[0m \u001b[0mresult\u001b[0m\u001b[0;34m\u001b[0m\u001b[0m\n\u001b[1;32m    287\u001b[0m         \u001b[0;32melse\u001b[0m\u001b[0;34m:\u001b[0m\u001b[0;34m\u001b[0m\u001b[0m\n",
      "\u001b[0;31mKeyboardInterrupt\u001b[0m: "
     ]
    }
   ],
   "source": [
    "wv_prepared_ranking = []\n",
    "for line in prepared_validation:\n",
    "    q, *ex = line\n",
    "    ranks = rank_candidates(q, ex, wv_embeddings)\n",
    "    wv_prepared_ranking.append([r[0] for r in ranks].index(0) + 1)"
   ]
  },
  {
   "cell_type": "code",
   "execution_count": null,
   "metadata": {},
   "outputs": [],
   "source": [
    "for k in [1, 5, 10, 100, 500, 1000]:\n",
    "    print(\"DCG@%4d: %.3f | Hits@%4d: %.3f\" % (k, dcg_score(wv_prepared_ranking, k), \n",
    "                                              k, hits_count(wv_prepared_ranking, k)))"
   ]
  },
  {
   "cell_type": "markdown",
   "metadata": {},
   "source": [
    "Now, prepare also train and test data, because you will need it in the future:"
   ]
  },
  {
   "cell_type": "code",
   "execution_count": null,
   "metadata": {},
   "outputs": [],
   "source": [
    "def prepare_file(in_, out_):\n",
    "    out = open(out_, 'w')\n",
    "    for line in open(in_, encoding='utf8'):\n",
    "        line = line.strip().split('\\t')\n",
    "        new_line = [text_prepare(q) for q in line]\n",
    "        print(*new_line, sep='\\t', file=out)\n",
    "    out.close()"
   ]
  },
  {
   "cell_type": "code",
   "execution_count": null,
   "metadata": {},
   "outputs": [],
   "source": [
    "prepare_file(\"data/train.tsv\", \"data/p_train_prepare.tsv\")\n",
    "prepare_file(\"data/test.tsv\", \"data/p_test.tsv\")"
   ]
  },
  {
   "cell_type": "markdown",
   "metadata": {},
   "source": [
    "**Task 4 (W2VTokenizedRanks).** For each question from prepared *test.tsv* submit the ranks of the candidates to earn the points. The calculations should take about 3-5 minutes. Pay attention that the function *rank_candidates* returns a ranking, while in this case you should find a position in this ranking. Ranks should start with 1."
   ]
  },
  {
   "cell_type": "code",
   "execution_count": 41,
   "metadata": {},
   "outputs": [],
   "source": [
    "from util import matrix_to_string"
   ]
  },
  {
   "cell_type": "code",
   "execution_count": 42,
   "metadata": {},
   "outputs": [
    {
     "name": "stdout",
     "output_type": "stream",
     "text": [
      "Current answer for task W2VTokenizedRanks is: 95\t94\t7\t9\t64\t36\t31\t93\t23\t100\t99\t20\t60\t6\t97\t48\t70\t37\t41\t96\t29\t56\t2\t65\t68\t44\t27\t25\t57\t62\t11\t87\t50\t66\t7...\n"
     ]
    }
   ],
   "source": [
    "w2v_ranks_results = []\n",
    "prepared_test_data = \"data/p_test.tsv\"\n",
    "for line in open(prepared_test_data):\n",
    "    q, *ex = line.strip().split('\\t')\n",
    "    ranks = rank_candidates(q, ex, wv_embeddings, 300)\n",
    "    ranked_candidates = [r[0] for r in ranks]\n",
    "    w2v_ranks_results.append([ranked_candidates.index(i) + 1 for i in range(len(ranked_candidates))])\n",
    "    \n",
    "grader.submit_tag('W2VTokenizedRanks', matrix_to_string(w2v_ranks_results))"
   ]
  },
  {
   "cell_type": "markdown",
   "metadata": {},
   "source": [
    "## Advanced solution: StarSpace embeddings\n",
    "\n",
    "Now you are ready to train your own word embeddings! In particular, you need to train embeddings specially for our task of duplicates detection. Unfortunately, StarSpace cannot be run on Windows and we recommend to use provided\n",
    "[docker container](https://github.com/hse-aml/natural-language-processing/blob/master/Docker-tutorial.md) or other alternatives. Don't delete results of this task because you will need it in the final project.\n",
    "\n",
    "### How it works and what's the main difference with word2vec?\n",
    "The main point in this section is that StarSpace can be trained specifically for some tasks. In contrast to word2vec model, which tries to train similar embeddings for words in similar contexts, StarSpace uses embeddings for the whole sentence (just as a sum of embeddings of words and phrases). Despite the fact that in both cases we get word embeddings as a result of the training, StarSpace embeddings are trained using some supervised data, e.g. a set of similar sentence pairs, and thus they can better suit the task.\n",
    "\n",
    "In our case, StarSpace should use two types of sentence pairs for training: \"positive\" and \"negative\". \"Positive\" examples are extracted from the train sample (duplicates, high similarity) and the \"negative\" examples are generated randomly (low similarity assumed). \n",
    "\n",
    "### How to choose the best params for the model?\n",
    "Normally, you would start with some default choice and then run extensive experiments to compare different strategies. However, we have some recommendations ready for you to save your time:\n",
    "- Be careful with choosing the suitable training mode. In this task we want to explore texts similarity which corresponds to *trainMode = 3*.\n",
    "- Use adagrad optimization (parameter *adagrad = true*).\n",
    "- Set the length of phrase equal to 1 (parameter *ngrams*), because we need embeddings only for words.\n",
    "- Don't use a large number of *epochs* (we think that 5 should be enough).\n",
    "- Try dimension *dim* equal to 100.\n",
    "- To compare embeddings usually *cosine* *similarity* is used.\n",
    "- Set *minCount* greater than 1 (for example, 2) if you don't want to get embeddings for extremely rare words.\n",
    "- Parameter *verbose = true* could show you the progress of the training process.\n",
    "- Set parameter *fileFormat* equals *labelDoc*.\n",
    "- Parameter *negSearchLimit* is responsible for a number of negative examples which is used during the training. We think that 10 will be enought for this task.\n",
    "- To increase a speed of training we recommend to set *learning rate* to 0.05."
   ]
  },
  {
   "cell_type": "markdown",
   "metadata": {},
   "source": [
    "Train StarSpace embeddings for unigrams on the train dataset. You don't need to change the format of the input data. Just don't forget to use prepared version of the training data. \n",
    "\n",
    "If you follow the instruction, the training process will take about 1 hour."
   ]
  },
  {
   "cell_type": "code",
   "execution_count": null,
   "metadata": {},
   "outputs": [],
   "source": [
    "import pandas\n",
    "import nltk"
   ]
  },
  {
   "cell_type": "code",
   "execution_count": null,
   "metadata": {},
   "outputs": [],
   "source": [
    "!pwd"
   ]
  },
  {
   "cell_type": "code",
   "execution_count": 83,
   "metadata": {
    "scrolled": true
   },
   "outputs": [
    {
     "data": {
      "text/plain": [
       "['phpseclib giving compatible server client encryption algorithms found',\n",
       " 'insert multiple rows access database',\n",
       " 'adding new files git branch shows file master branch well',\n",
       " 'recursion print_r output mean',\n",
       " 'automatically generated user id',\n",
       " 'rounding showing cells',\n",
       " 'css opaque overlay transparent div sections',\n",
       " 'authentication internal external users',\n",
       " 'add newlines mediawiki raw text via api',\n",
       " 'notice compatible server client encryption algorithms found',\n",
       " 'best practice empty belongs_to association',\n",
       " 'object memory layout c++ structure depends platforms',\n",
       " 'jquery pull text inside div p tag',\n",
       " 'mapping multiple tables one list hibernate',\n",
       " 'setting filenames tab',\n",
       " 'alembic care migration files called',\n",
       " 'choosing cloud storage service web api ftp third party server',\n",
       " 'prototypejs selecting odd subset visible children',\n",
       " 'query cpu utilization mysql running redhat',\n",
       " 'model selfdependency onetomany field implementation',\n",
       " 'zoom center image',\n",
       " 'reliable scalable solutions live audio streaming',\n",
       " 'use efficiently paginate doctrine symfony 2',\n",
       " 'query sitecore luceneindex contentsearchapi datetimerange',\n",
       " 'markup extensions object creation',\n",
       " 'assigning value crash powershell',\n",
       " 'displaying text link clicked',\n",
       " 'jquery natively support disable method',\n",
       " 'meaning atsign lisp',\n",
       " 'generate incremental sparql query',\n",
       " 'reason memory gap hard drives',\n",
       " 'use sorting algorithm java',\n",
       " 'mysqli inserting database',\n",
       " 'google map contained meteor template rendered twice',\n",
       " 'powershell setitemproperty working script running c# webapplication',\n",
       " 'find location doxygen latex error',\n",
       " 'want create hyperlinks web page clicking open different divs',\n",
       " 'organizing code files xml files android sdk',\n",
       " 'perl hash substitution special characters keys',\n",
       " 'set plugin_dir aws mysql instance',\n",
       " 'remove oscsid id url oscommerce',\n",
       " 'check cron expression executes daily weekly monthly',\n",
       " 'python turnon excel auto filter cells nonfirst row',\n",
       " 'rate limiting fastcgi perl service',\n",
       " 'aspnet core running windows service gets 500 internal server error',\n",
       " 'windows phone xml file',\n",
       " 'make 4 elements rotate circle',\n",
       " 'systemdatasqlite showing change data source visual studio 2013',\n",
       " 'camera permissions appcelerator',\n",
       " 'point using send instead normal method call',\n",
       " 'restrict user enter 6 digits decimal using html javascript',\n",
       " 'draw bitmap argb_8888 bitmap',\n",
       " 'nsfilehandle readinbackgroundandnotify work',\n",
       " 'xaml syntax highlighting missing',\n",
       " 'drag drop listboxdragdroptarget paneldragdroptarget',\n",
       " 'implement gaussjordan elimination haskell',\n",
       " 'creating histogram multiple data series using multhist r',\n",
       " 'set parameter dynamically created button',\n",
       " 'facebook unity api post screenshot link description',\n",
       " 'changing color cell html table hover',\n",
       " 'creating nswindow programmatically mono using monomacdll ref',\n",
       " 'berkeley db cant compile c++ codes',\n",
       " 'making wpf combobox rounded corners',\n",
       " 'swingutilitiesinvokelater invokenow',\n",
       " 'c# image preserve images checksum',\n",
       " 'regex ignores comments',\n",
       " 'adding arduino driver qt creator installation',\n",
       " 'breezenet connecting entity framework',\n",
       " 'get android contacts gluon application',\n",
       " 'start sqlplus oracle 12c linux',\n",
       " 'refresh contents webview everytime app launched',\n",
       " 'add new item based another database row sqlalchemy',\n",
       " 'ms access bound time filed sql server',\n",
       " 'install pillow dependencies windows without binaries',\n",
       " 'jquery eventpreventdefault working firefox mac pc',\n",
       " 'sort list 1 item get sort list 1 item',\n",
       " 'tool generate database schema xml schema',\n",
       " 'xlsread function matlab systematically loads whole file specified cells',\n",
       " 'ionic run nothing',\n",
       " 'convert writer byte array',\n",
       " 'use map datatype apache pig',\n",
       " 'oracle sql trigger update column',\n",
       " 'chrome firefox load change media source',\n",
       " 'eclipse php ide',\n",
       " 'change value onclick function vars',\n",
       " 'uiscrollview displaying camera',\n",
       " 'guide organizing large django projects',\n",
       " 'cant see sysout statements jboss 500',\n",
       " 'converting pseudocode sql script',\n",
       " 'delayloading testcasesource nunit',\n",
       " 'embedding python c++ calling methods c++ code',\n",
       " 'oauth2 provider architecture requests w access_tokens accompanied client_key client_secret well',\n",
       " 'adding toolbar uitableviewcontroller using swift',\n",
       " 'windows phone 7 ftp client',\n",
       " 'textfield return null cell scrolled window',\n",
       " 'make scaletransform start center instead topleft corner',\n",
       " 'assign azure ssl certificate linux apache vm import azure ssl certificate linux vm',\n",
       " 'android logcat works fine emulators fine real device',\n",
       " 'add progress bar picasso library',\n",
       " 'html dom alerting stylewidth',\n",
       " 'show please wait message form post mvc 5 till controller returns view']"
      ]
     },
     "execution_count": 83,
     "metadata": {},
     "output_type": "execute_result"
    }
   ],
   "source": [
    "test = read_corpus(\"data/p_test.tsv\")\n",
    "test[1]"
   ]
  },
  {
   "cell_type": "code",
   "execution_count": 82,
   "metadata": {},
   "outputs": [
    {
     "data": {
      "text/plain": [
       "['sending array via ajax fails', 'getting list items unordered list php']"
      ]
     },
     "execution_count": 82,
     "metadata": {},
     "output_type": "execute_result"
    }
   ],
   "source": [
    "train[2]"
   ]
  },
  {
   "cell_type": "code",
   "execution_count": 50,
   "metadata": {
    "code_folding": [],
    "scrolled": true
   },
   "outputs": [
    {
     "name": "stdout",
     "output_type": "stream",
     "text": [
      "Arguments: \n",
      "lr: 0.05\n",
      "dim: 100\n",
      "epoch: 5\n",
      "maxTrainTime: 8640000\n",
      "validationPatience: 10\n",
      "saveEveryEpoch: 0\n",
      "loss: hinge\n",
      "margin: 0.05\n",
      "similarity: cosine\n",
      "maxNegSamples: 10\n",
      "negSearchLimit: 10\n",
      "thread: 10\n",
      "minCount: 2\n",
      "minCountLabel: 1\n",
      "label: __label__\n",
      "ngrams: 1\n",
      "bucket: 2000000\n",
      "adagrad: 1\n",
      "trainMode: 3\n",
      "fileFormat: labelDoc\n",
      "normalizeText: 0\n",
      "dropoutLHS: 0\n",
      "dropoutRHS: 0\n",
      "Start to initialize starspace model.\n",
      "Build dict from input file : data/p_train_prepare.tsv\n",
      "Read 12M words\n",
      "Number of words in dictionary:  95058\n",
      "Number of labels in dictionary: 0\n",
      "Loading data from file : data/p_train_prepare.tsv\n",
      "Total number of examples loaded : 999740\n",
      "Training epoch 0: 0.05 0.01\n",
      "Epoch: 59.5%  lr: 0.044394  loss: 0.011283  eta: 0h16m  tot: 0h2m11s  (11.9%)lr: 0.049960  loss: 0.064660  eta: 0h18m  tot: 0h0m1s  (0.1%)1.6%  lr: 0.049920  loss: 0.046516  eta: 0h18m  tot: 0h0m3s  (0.3%)1.8%  lr: 0.049900  loss: 0.043926  eta: 0h18m  tot: 0h0m4s  (0.4%)2.2%  lr: 0.049850  loss: 0.040369  eta: 0h18m  tot: 0h0m5s  (0.4%)2.6%  lr: 0.049810  loss: 0.038465  eta: 0h19m  tot: 0h0m6s  (0.5%)3.0%  lr: 0.049770  loss: 0.036305  eta: 0h19m  tot: 0h0m6s  (0.6%)%  lr: 0.049750  loss: 0.034308  eta: 0h19m  tot: 0h0m7s  (0.7%)3.7%  lr: 0.049700  loss: 0.033038  eta: 0h18m  tot: 0h0m8s  (0.7%)%  lr: 0.049680  loss: 0.032815  eta: 0h18m  tot: 0h0m8s  (0.8%)4.1%  lr: 0.049640  loss: 0.031785  eta: 0h18m  tot: 0h0m9s  (0.8%)0.049590  loss: 0.030680  eta: 0h18m  tot: 0h0m10s  (0.9%)5.0%  lr: 0.049550  loss: 0.029579  eta: 0h19m  tot: 0h0m11s  (1.0%)5.2%  lr: 0.049510  loss: 0.029208  eta: 0h19m  tot: 0h0m12s  (1.0%)5.3%  lr: 0.049500  loss: 0.028945  eta: 0h19m  tot: 0h0m12s  (1.1%)h19m  tot: 0h0m12s  (1.1%)6.8%  lr: 0.049359  loss: 0.026153  eta: 0h18m  tot: 0h0m15s  (1.4%)%  lr: 0.049249  loss: 0.024496  eta: 0h19m  tot: 0h0m19s  (1.6%)9.8%  lr: 0.049069  loss: 0.022252  eta: 0h19m  tot: 0h0m24s  (2.0%)%  lr: 0.049039  loss: 0.022006  eta: 0h20m  tot: 0h0m24s  (2.0%)10.3%  lr: 0.049019  loss: 0.021920  eta: 0h19m  tot: 0h0m25s  (2.1%)10.9%  lr: 0.048959  loss: 0.021601  eta: 0h19m  tot: 0h0m26s  (2.2%)11.2%  lr: 0.048919  loss: 0.021394  eta: 0h19m  tot: 0h0m27s  (2.2%)13.5%  lr: 0.048749  loss: 0.020009  eta: 0h19m  tot: 0h0m32s  (2.7%)13.6%  lr: 0.048749  loss: 0.019974  eta: 0h19m  tot: 0h0m32s  (2.7%)14.3%  lr: 0.048669  loss: 0.019538  eta: 0h19m  tot: 0h0m34s  (2.9%)14.6%  lr: 0.048649  loss: 0.019444  eta: 0h19m  tot: 0h0m35s  (2.9%)14.8%  lr: 0.048629  loss: 0.019332  eta: 0h19m  tot: 0h0m35s  (3.0%)15.0%  lr: 0.048629  loss: 0.019167  eta: 0h19m  tot: 0h0m35s  (3.0%)16.7%  lr: 0.048378  loss: 0.018357  eta: 0h19m  tot: 0h0m39s  (3.3%)16.8%  lr: 0.048348  loss: 0.018322  eta: 0h19m  tot: 0h0m40s  (3.4%)  lr: 0.048328  loss: 0.018272  eta: 0h19m  tot: 0h0m40s  (3.4%)17.2%  lr: 0.048308  loss: 0.018133  eta: 0h19m  tot: 0h0m40s  (3.4%)%  lr: 0.048238  loss: 0.017820  eta: 0h19m  tot: 0h0m42s  (3.6%)18.1%  lr: 0.048208  loss: 0.017782  eta: 0h19m  tot: 0h0m42s  (3.6%)%  lr: 0.048178  loss: 0.017691  eta: 0h18m  tot: 0h0m43s  (3.7%)18.5%  lr: 0.048168  loss: 0.017603  eta: 0h18m  tot: 0h0m43s  (3.7%)18.6%  lr: 0.048148  loss: 0.017589  eta: 0h18m  tot: 0h0m43s  (3.7%)0h0m44s  (3.7%)18.9%  lr: 0.048118  loss: 0.017470  eta: 0h18m  tot: 0h0m44s  (3.8%)19.2%  lr: 0.048108  loss: 0.017393  eta: 0h18m  tot: 0h0m45s  (3.8%)19.5%  lr: 0.048078  loss: 0.017278  eta: 0h18m  tot: 0h0m45s  (3.9%)20.1%  lr: 0.048008  loss: 0.017113  eta: 0h18m  tot: 0h0m46s  (4.0%)20.3%  lr: 0.048008  loss: 0.017027  eta: 0h18m  tot: 0h0m47s  (4.1%)21.1%  lr: 0.047958  loss: 0.016798  eta: 0h18m  tot: 0h0m48s  (4.2%)21.2%  lr: 0.047958  loss: 0.016753  eta: 0h18m  tot: 0h0m48s  (4.2%)21.9%  lr: 0.047918  loss: 0.016528  eta: 0h18m  tot: 0h0m50s  (4.4%)%  lr: 0.047908  loss: 0.016499  eta: 0h18m  tot: 0h0m50s  (4.4%)22.1%  lr: 0.047868  loss: 0.016434  eta: 0h18m  tot: 0h0m50s  (4.4%)%  lr: 0.047858  loss: 0.016420  eta: 0h18m  tot: 0h0m50s  (4.4%)22.9%  lr: 0.047808  loss: 0.016298  eta: 0h18m  tot: 0h0m52s  (4.6%)%  lr: 0.047788  loss: 0.016217  eta: 0h18m  tot: 0h0m52s  (4.6%)23.3%  lr: 0.047788  loss: 0.016167  eta: 0h18m  tot: 0h0m53s  (4.7%)23.4%  lr: 0.047788  loss: 0.016148  eta: 0h18m  tot: 0h0m53s  (4.7%)24.8%  lr: 0.047628  loss: 0.015777  eta: 0h17m  tot: 0h0m56s  (5.0%)25.0%  lr: 0.047608  loss: 0.015706  eta: 0h17m  tot: 0h0m56s  (5.0%)25.1%  lr: 0.047608  loss: 0.015688  eta: 0h17m  tot: 0h0m56s  (5.0%)%  lr: 0.047518  loss: 0.015473  eta: 0h17m  tot: 0h0m58s  (5.2%)26.6%  lr: 0.047478  loss: 0.015279  eta: 0h17m  tot: 0h0m59s  (5.3%)26.7%  lr: 0.047457  loss: 0.015240  eta: 0h17m  tot: 0h1m0s  (5.3%)27.1%  lr: 0.047417  loss: 0.015163  eta: 0h17m  tot: 0h1m0s  (5.4%)27.3%  lr: 0.047407  loss: 0.015124  eta: 0h17m  tot: 0h1m1s  (5.5%)28.3%  lr: 0.047317  loss: 0.014899  eta: 0h17m  tot: 0h1m2s  (5.7%)28.8%  lr: 0.047277  loss: 0.014810  eta: 0h17m  tot: 0h1m3s  (5.8%)1m5s  (5.9%)30.6%  lr: 0.047167  loss: 0.014553  eta: 0h17m  tot: 0h1m7s  (6.1%)30.7%  lr: 0.047137  loss: 0.014546  eta: 0h17m  tot: 0h1m7s  (6.1%)31.2%  lr: 0.047117  loss: 0.014433  eta: 0h17m  tot: 0h1m8s  (6.2%)31.6%  lr: 0.047097  loss: 0.014363  eta: 0h17m  tot: 0h1m9s  (6.3%)32.9%  lr: 0.047017  loss: 0.014088  eta: 0h16m  tot: 0h1m11s  (6.6%)33.3%  lr: 0.047007  loss: 0.014044  eta: 0h16m  tot: 0h1m12s  (6.7%)33.8%  lr: 0.046987  loss: 0.013930  eta: 0h16m  tot: 0h1m13s  (6.8%)34.6%  lr: 0.046907  loss: 0.013804  eta: 0h16m  tot: 0h1m14s  (6.9%)1m15s  (6.9%)34.9%  lr: 0.046867  loss: 0.013734  eta: 0h16m  tot: 0h1m15s  (7.0%)35.1%  lr: 0.046837  loss: 0.013712  eta: 0h16m  tot: 0h1m16s  (7.0%)35.7%  lr: 0.046787  loss: 0.013630  eta: 0h16m  tot: 0h1m17s  (7.1%)  tot: 0h1m17s  (7.2%)36.8%  lr: 0.046687  loss: 0.013478  eta: 0h16m  tot: 0h1m19s  (7.4%)37.1%  lr: 0.046647  loss: 0.013440  eta: 0h16m  tot: 0h1m20s  (7.4%)37.4%  lr: 0.046627  loss: 0.013409  eta: 0h16m  tot: 0h1m21s  (7.5%)37.7%  lr: 0.046567  loss: 0.013358  eta: 0h16m  tot: 0h1m21s  (7.5%)38.1%  lr: 0.046547  loss: 0.013319  eta: 0h16m  tot: 0h1m22s  (7.6%)39.2%  lr: 0.046416  loss: 0.013205  eta: 0h16m  tot: 0h1m24s  (7.8%)40.1%  lr: 0.046276  loss: 0.013115  eta: 0h16m  tot: 0h1m26s  (8.0%)40.2%  lr: 0.046276  loss: 0.013102  eta: 0h16m  tot: 0h1m26s  (8.0%)42.0%  lr: 0.046126  loss: 0.012879  eta: 0h16m  tot: 0h1m30s  (8.4%)42.2%  lr: 0.046106  loss: 0.012853  eta: 0h16m  tot: 0h1m30s  (8.4%)42.8%  lr: 0.046066  loss: 0.012792  eta: 0h16m  tot: 0h1m31s  (8.6%)43.4%  lr: 0.045996  loss: 0.012727  eta: 0h16m  tot: 0h1m32s  (8.7%)43.8%  lr: 0.045966  loss: 0.012680  eta: 0h16m  tot: 0h1m33s  (8.8%)44.4%  lr: 0.045916  loss: 0.012600  eta: 0h16m  tot: 0h1m34s  (8.9%)  loss: 0.012518  eta: 0h16m  tot: 0h1m36s  (9.0%)45.3%  lr: 0.045816  loss: 0.012478  eta: 0h16m  tot: 0h1m37s  (9.1%)46.2%  lr: 0.045686  loss: 0.012397  eta: 0h16m  tot: 0h1m38s  (9.2%)46.6%  lr: 0.045636  loss: 0.012350  eta: 0h16m  tot: 0h1m39s  (9.3%)47.0%  lr: 0.045586  loss: 0.012318  eta: 0h16m  tot: 0h1m40s  (9.4%)47.5%  lr: 0.045496  loss: 0.012267  eta: 0h16m  tot: 0h1m41s  (9.5%)47.7%  lr: 0.045486  loss: 0.012245  eta: 0h16m  tot: 0h1m42s  (9.5%)48.3%  lr: 0.045456  loss: 0.012202  eta: 0h16m  tot: 0h1m43s  (9.7%)%  lr: 0.045456  loss: 0.012176  eta: 0h16m  tot: 0h1m44s  (9.7%)49.1%  lr: 0.045385  loss: 0.012132  eta: 0h16m  tot: 0h1m44s  (9.8%)49.6%  lr: 0.045285  loss: 0.012079  eta: 0h16m  tot: 0h1m46s  (9.9%)50.1%  lr: 0.045265  loss: 0.012036  eta: 0h16m  tot: 0h1m47s  (10.0%)50.1%  lr: 0.045265  loss: 0.012028  eta: 0h16m  tot: 0h1m47s  (10.0%)50.2%  lr: 0.045255  loss: 0.012014  eta: 0h16m  tot: 0h1m47s  (10.0%)50.7%  lr: 0.045175  loss: 0.011990  eta: 0h16m  tot: 0h1m48s  (10.1%)51.0%  lr: 0.045165  loss: 0.011949  eta: 0h16m  tot: 0h1m49s  (10.2%)51.1%  lr: 0.045165  loss: 0.011940  eta: 0h16m  tot: 0h1m49s  (10.2%)51.4%  lr: 0.045125  loss: 0.011902  eta: 0h16m  tot: 0h1m50s  (10.3%)52.0%  lr: 0.045035  loss: 0.011846  eta: 0h16m  tot: 0h1m52s  (10.4%)52.3%  lr: 0.045025  loss: 0.011832  eta: 0h16m  tot: 0h1m53s  (10.5%)53.4%  lr: 0.044905  loss: 0.011755  eta: 0h16m  tot: 0h1m57s  (10.7%)54.6%  lr: 0.044875  loss: 0.011641  eta: 0h16m  tot: 0h2m0s  (10.9%)55.4%  lr: 0.044805  loss: 0.011577  eta: 0h16m  tot: 0h2m2s  (11.1%)56.1%  lr: 0.044695  loss: 0.011523  eta: 0h16m  tot: 0h2m3s  (11.2%)56.9%  lr: 0.044605  loss: 0.011497  eta: 0h16m  tot: 0h2m5s  (11.4%)57.2%  lr: 0.044575  loss: 0.011490  eta: 0h16m  tot: 0h2m5s  (11.4%)57.4%  lr: 0.044565  loss: 0.011461  eta: 0h16m  tot: 0h2m6s  (11.5%)58.1%  lr: 0.044505  loss: 0.011412  eta: 0h16m  tot: 0h2m7s  (11.6%)58.9%  lr: 0.044455  loss: 0.011347  eta: 0h16m  tot: 0h2m9s  (11.8%)59.0%  lr: 0.044455  loss: 0.011339  eta: 0h16m  tot: 0h2m9s  (11.8%)59.1%  lr: 0.044415  loss: 0.011318  eta: 0h16m  tot: 0h2m10s  (11.8%)59.6%  lr: 0.044384  loss: 0.011275  eta: 0h16m  tot: 0h2m11s  (11.9%)Epoch: 100.0%  lr: 0.040160  loss: 0.009224  eta: 0h15m  tot: 0h3m50s  (20.0%)9.8%  lr: 0.044374  loss: 0.011258  eta: 0h16m  tot: 0h2m11s  (12.0%)59.9%  lr: 0.044374  loss: 0.011253  eta: 0h16m  tot: 0h2m11s  (12.0%)60.0%  lr: 0.044354  loss: 0.011243  eta: 0h16m  tot: 0h2m12s  (12.0%)60.3%  lr: 0.044244  loss: 0.011222  eta: 0h16m  tot: 0h2m13s  (12.1%)60.9%  lr: 0.044184  loss: 0.011172  eta: 0h16m  tot: 0h2m14s  (12.2%)61.4%  lr: 0.044134  loss: 0.011125  eta: 0h16m  tot: 0h2m15s  (12.3%)62.2%  lr: 0.044064  loss: 0.011083  eta: 0h16m  tot: 0h2m16s  (12.4%)62.7%  lr: 0.043994  loss: 0.011042  eta: 0h16m  tot: 0h2m17s  (12.5%)62.8%  lr: 0.043974  loss: 0.011027  eta: 0h16m  tot: 0h2m18s  (12.6%)62.9%  lr: 0.043954  loss: 0.011019  eta: 0h16m  tot: 0h2m18s  (12.6%)64.1%  lr: 0.043824  loss: 0.010947  eta: 0h15m  tot: 0h2m20s  (12.8%)64.2%  lr: 0.043814  loss: 0.010942  eta: 0h15m  tot: 0h2m21s  (12.8%)64.4%  lr: 0.043764  loss: 0.010928  eta: 0h15m  tot: 0h2m21s  (12.9%)64.5%  lr: 0.043744  loss: 0.010921  eta: 0h15m  tot: 0h2m21s  (12.9%)64.8%  lr: 0.043724  loss: 0.010896  eta: 0h15m  tot: 0h2m22s  (13.0%)64.9%  lr: 0.043714  loss: 0.010890  eta: 0h15m  tot: 0h2m23s  (13.0%)65.1%  lr: 0.043704  loss: 0.010872  eta: 0h15m  tot: 0h2m23s  (13.0%)%  lr: 0.043584  loss: 0.010835  eta: 0h16m  tot: 0h2m25s  (13.1%)66.1%  lr: 0.043574  loss: 0.010815  eta: 0h16m  tot: 0h2m27s  (13.2%)66.2%  lr: 0.043574  loss: 0.010808  eta: 0h16m  tot: 0h2m27s  (13.2%)67.6%  lr: 0.043414  loss: 0.010720  eta: 0h16m  tot: 0h2m30s  (13.5%)67.8%  lr: 0.043393  loss: 0.010706  eta: 0h16m  tot: 0h2m30s  (13.6%)68.1%  lr: 0.043353  loss: 0.010692  eta: 0h16m  tot: 0h2m31s  (13.6%)68.5%  lr: 0.043323  loss: 0.010677  eta: 0h15m  tot: 0h2m32s  (13.7%)69.6%  lr: 0.043193  loss: 0.010601  eta: 0h16m  tot: 0h2m36s  (13.9%)70.4%  lr: 0.043093  loss: 0.010548  eta: 0h16m  tot: 0h2m38s  (14.1%) (14.4%)72.1%  lr: 0.042983  loss: 0.010458  eta: 0h16m  tot: 0h2m44s  (14.4%)72.2%  lr: 0.042973  loss: 0.010458  eta: 0h16m  tot: 0h2m44s  (14.4%)72.6%  lr: 0.042943  loss: 0.010423  eta: 0h16m  tot: 0h2m46s  (14.5%)0.042913  loss: 0.010407  eta: 0h16m  tot: 0h2m47s  (14.6%)0.042913  loss: 0.010402  eta: 0h16m  tot: 0h2m47s  (14.6%)74.1%  lr: 0.042793  loss: 0.010337  eta: 0h16m  tot: 0h2m50s  (14.8%)74.4%  lr: 0.042763  loss: 0.010319  eta: 0h16m  tot: 0h2m50s  (14.9%)74.4%  lr: 0.042743  loss: 0.010311  eta: 0h16m  tot: 0h2m51s  (14.9%)74.6%  lr: 0.042723  loss: 0.010294  eta: 0h16m  tot: 0h2m51s  (14.9%)75.0%  lr: 0.042683  loss: 0.010289  eta: 0h16m  tot: 0h2m52s  (15.0%)75.6%  lr: 0.042623  loss: 0.010262  eta: 0h16m  tot: 0h2m54s  (15.1%)76.0%  lr: 0.042603  loss: 0.010245  eta: 0h16m  tot: 0h2m55s  (15.2%)h16m  tot: 0h2m56s  (15.2%)2m56s  (15.3%)0.010208  eta: 0h16m  tot: 0h2m57s  (15.3%)76.7%  lr: 0.042553  loss: 0.010200  eta: 0h16m  tot: 0h2m57s  (15.3%)77.3%  lr: 0.042503  loss: 0.010160  eta: 0h16m  tot: 0h2m59s  (15.5%)77.6%  lr: 0.042483  loss: 0.010143  eta: 0h16m  tot: 0h3m0s  (15.5%)77.9%  lr: 0.042453  loss: 0.010132  eta: 0h16m  tot: 0h3m0s  (15.6%)78.0%  lr: 0.042453  loss: 0.010131  eta: 0h16m  tot: 0h3m0s  (15.6%)78.0%  lr: 0.042453  loss: 0.010125  eta: 0h16m  tot: 0h3m1s  (15.6%)78.9%  lr: 0.042342  loss: 0.010091  eta: 0h16m  tot: 0h3m3s  (15.8%)80.2%  lr: 0.042242  loss: 0.010042  eta: 0h16m  tot: 0h3m5s  (16.0%)80.9%  lr: 0.042202  loss: 0.010007  eta: 0h16m  tot: 0h3m7s  (16.2%)83.5%  lr: 0.041892  loss: 0.009895  eta: 0h15m  tot: 0h3m12s  (16.7%)84.1%  lr: 0.041842  loss: 0.009864  eta: 0h15m  tot: 0h3m13s  (16.8%)84.4%  lr: 0.041772  loss: 0.009844  eta: 0h15m  tot: 0h3m14s  (16.9%)84.5%  lr: 0.041772  loss: 0.009845  eta: 0h15m  tot: 0h3m14s  (16.9%)84.7%  lr: 0.041772  loss: 0.009838  eta: 0h15m  tot: 0h3m14s  (16.9%)85.6%  lr: 0.041662  loss: 0.009799  eta: 0h15m  tot: 0h3m16s  (17.1%)85.7%  lr: 0.041662  loss: 0.009793  eta: 0h15m  tot: 0h3m16s  (17.1%)85.8%  lr: 0.041632  loss: 0.009787  eta: 0h15m  tot: 0h3m16s  (17.2%)86.1%  lr: 0.041622  loss: 0.009782  eta: 0h15m  tot: 0h3m17s  (17.2%)86.2%  lr: 0.041602  loss: 0.009775  eta: 0h15m  tot: 0h3m17s  (17.2%)86.6%  lr: 0.041552  loss: 0.009760  eta: 0h15m  tot: 0h3m18s  (17.3%)86.7%  lr: 0.041532  loss: 0.009759  eta: 0h15m  tot: 0h3m19s  (17.3%)87.1%  lr: 0.041452  loss: 0.009736  eta: 0h15m  tot: 0h3m19s  (17.4%)87.1%  lr: 0.041452  loss: 0.009731  eta: 0h15m  tot: 0h3m19s  (17.4%)87.6%  lr: 0.041392  loss: 0.009716  eta: 0h15m  tot: 0h3m20s  (17.5%)88.2%  lr: 0.041311  loss: 0.009681  eta: 0h15m  tot: 0h3m22s  (17.6%)89.4%  lr: 0.041221  loss: 0.009631  eta: 0h15m  tot: 0h3m24s  (17.9%)89.8%  lr: 0.041211  loss: 0.009610  eta: 0h15m  tot: 0h3m25s  (18.0%)90.4%  lr: 0.041151  loss: 0.009590  eta: 0h15m  tot: 0h3m26s  (18.1%)90.7%  lr: 0.041101  loss: 0.009584  eta: 0h15m  tot: 0h3m27s  (18.1%)91.7%  lr: 0.040971  loss: 0.009545  eta: 0h15m  tot: 0h3m29s  (18.3%)  lr: 0.040941  loss: 0.009536  eta: 0h15m  tot: 0h3m29s  (18.4%)92.7%  lr: 0.040881  loss: 0.009499  eta: 0h15m  tot: 0h3m31s  (18.5%)  lr: 0.040861  loss: 0.009497  eta: 0h15m  tot: 0h3m31s  (18.6%)93.0%  lr: 0.040841  loss: 0.009491  eta: 0h15m  tot: 0h3m32s  (18.6%)93.2%  lr: 0.040811  loss: 0.009483  eta: 0h15m  tot: 0h3m32s  (18.6%)93.3%  lr: 0.040771  loss: 0.009481  eta: 0h15m  tot: 0h3m33s  (18.7%)93.4%  lr: 0.040741  loss: 0.009469  eta: 0h15m  tot: 0h3m33s  (18.7%)93.6%  lr: 0.040721  loss: 0.009460  eta: 0h15m  tot: 0h3m34s  (18.7%)%  lr: 0.040721  loss: 0.009461  eta: 0h15m  tot: 0h3m34s  (18.7%)94.1%  lr: 0.040681  loss: 0.009448  eta: 0h15m  tot: 0h3m35s  (18.8%)94.4%  lr: 0.040671  loss: 0.009436  eta: 0h15m  tot: 0h3m36s  (18.9%)94.9%  lr: 0.040611  loss: 0.009419  eta: 0h15m  tot: 0h3m38s  (19.0%)%  lr: 0.040551  loss: 0.009398  eta: 0h15m  tot: 0h3m38s  (19.0%)%  lr: 0.040451  loss: 0.009369  eta: 0h15m  tot: 0h3m41s  (19.2%)96.1%  lr: 0.040441  loss: 0.009365  eta: 0h15m  tot: 0h3m41s  (19.2%)96.1%  lr: 0.040441  loss: 0.009364  eta: 0h15m  tot: 0h3m41s  (19.2%)96.3%  lr: 0.040411  loss: 0.009354  eta: 0h15m  tot: 0h3m42s  (19.3%)96.4%  lr: 0.040401  loss: 0.009350  eta: 0h15m  tot: 0h3m42s  (19.3%)97.3%  lr: 0.040340  loss: 0.009310  eta: 0h15m  tot: 0h3m44s  (19.5%)97.8%  lr: 0.040340  loss: 0.009300  eta: 0h15m  tot: 0h3m45s  (19.6%)97.9%  lr: 0.040340  loss: 0.009297  eta: 0h15m  tot: 0h3m45s  (19.6%)99.7%  lr: 0.040180  loss: 0.009234  eta: 0h15m  tot: 0h3m49s  (19.9%)  loss: 0.009225  eta: 0h15m  tot: 0h3m50s  (20.0%)\n",
      " ---+++                Epoch    0 Train error : 0.00900289 +++--- ���\n",
      "Training epoch 1: 0.04 0.01\n"
     ]
    },
    {
     "name": "stdout",
     "output_type": "stream",
     "text": [
      "Epoch: 59.1%  lr: 0.034364  loss: 0.002699  eta: 0h11m  tot: 0h5m56s  (31.8%).0%  lr: 0.039920  loss: 0.001997  eta: 0h11m  tot: 0h3m56s  (20.2%)1.8%  lr: 0.039880  loss: 0.002376  eta: 0h11m  tot: 0h3m57s  (20.4%)2.2%  lr: 0.039830  loss: 0.002307  eta: 0h12m  tot: 0h3m58s  (20.4%)2.4%  lr: 0.039830  loss: 0.002239  eta: 0h11m  tot: 0h3m58s  (20.5%)2.8%  lr: 0.039800  loss: 0.002272  eta: 0h11m  tot: 0h3m59s  (20.6%)3.1%  lr: 0.039780  loss: 0.002339  eta: 0h11m  tot: 0h4m0s  (20.6%)5.0%  lr: 0.039540  loss: 0.002342  eta: 0h12m  tot: 0h4m3s  (21.0%)5.9%  lr: 0.039429  loss: 0.002400  eta: 0h12m  tot: 0h4m5s  (21.2%)6.0%  lr: 0.039409  loss: 0.002407  eta: 0h12m  tot: 0h4m5s  (21.2%)6.1%  lr: 0.039409  loss: 0.002407  eta: 0h12m  tot: 0h4m5s  (21.2%)%  lr: 0.039349  loss: 0.002380  eta: 0h12m  tot: 0h4m6s  (21.3%)7.2%  lr: 0.039289  loss: 0.002402  eta: 0h12m  tot: 0h4m7s  (21.4%)7.3%  lr: 0.039289  loss: 0.002411  eta: 0h12m  tot: 0h4m8s  (21.5%)8.5%  lr: 0.039199  loss: 0.002400  eta: 0h12m  tot: 0h4m10s  (21.7%)8.7%  lr: 0.039169  loss: 0.002369  eta: 0h12m  tot: 0h4m10s  (21.7%)9.2%  lr: 0.039129  loss: 0.002402  eta: 0h11m  tot: 0h4m11s  (21.8%)9.5%  lr: 0.039109  loss: 0.002400  eta: 0h11m  tot: 0h4m11s  (21.9%)10.0%  lr: 0.039059  loss: 0.002428  eta: 0h12m  tot: 0h4m12s  (22.0%)10.2%  lr: 0.039049  loss: 0.002442  eta: 0h11m  tot: 0h4m13s  (22.0%)10.4%  lr: 0.039039  loss: 0.002440  eta: 0h11m  tot: 0h4m13s  (22.1%)10.5%  lr: 0.039029  loss: 0.002442  eta: 0h11m  tot: 0h4m13s  (22.1%)10.6%  lr: 0.039019  loss: 0.002432  eta: 0h11m  tot: 0h4m14s  (22.1%)10.9%  lr: 0.038979  loss: 0.002444  eta: 0h11m  tot: 0h4m14s  (22.2%)%  lr: 0.038909  loss: 0.002480  eta: 0h12m  tot: 0h4m16s  (22.4%)11.9%  lr: 0.038899  loss: 0.002497  eta: 0h12m  tot: 0h4m16s  (22.4%)  lr: 0.038889  loss: 0.002485  eta: 0h12m  tot: 0h4m16s  (22.4%)12.3%  lr: 0.038879  loss: 0.002467  eta: 0h12m  tot: 0h4m17s  (22.5%)13.1%  lr: 0.038759  loss: 0.002474  eta: 0h12m  tot: 0h4m19s  (22.6%)13.2%  lr: 0.038749  loss: 0.002464  eta: 0h12m  tot: 0h4m19s  (22.6%)13.8%  lr: 0.038699  loss: 0.002481  eta: 0h12m  tot: 0h4m21s  (22.8%)14.0%  lr: 0.038669  loss: 0.002482  eta: 0h12m  tot: 0h4m21s  (22.8%)14.2%  lr: 0.038639  loss: 0.002488  eta: 0h12m  tot: 0h4m21s  (22.8%)14.7%  lr: 0.038569  loss: 0.002487  eta: 0h12m  tot: 0h4m22s  (22.9%)%  lr: 0.038479  loss: 0.002539  eta: 0h12m  tot: 0h4m24s  (23.1%)15.8%  lr: 0.038479  loss: 0.002530  eta: 0h12m  tot: 0h4m25s  (23.2%)s  (23.3%)16.6%  lr: 0.038398  loss: 0.002559  eta: 0h12m  tot: 0h4m26s  (23.3%)16.8%  lr: 0.038348  loss: 0.002557  eta: 0h12m  tot: 0h4m27s  (23.4%)17.1%  lr: 0.038328  loss: 0.002581  eta: 0h12m  tot: 0h4m27s  (23.4%)17.2%  lr: 0.038308  loss: 0.002582  eta: 0h12m  tot: 0h4m28s  (23.4%)17.9%  lr: 0.038228  loss: 0.002586  eta: 0h12m  tot: 0h4m29s  (23.6%)18.1%  lr: 0.038188  loss: 0.002599  eta: 0h12m  tot: 0h4m29s  (23.6%)18.3%  lr: 0.038158  loss: 0.002597  eta: 0h12m  tot: 0h4m30s  (23.7%)18.4%  lr: 0.038158  loss: 0.002599  eta: 0h12m  tot: 0h4m30s  (23.7%)18.9%  lr: 0.038118  loss: 0.002607  eta: 0h12m  tot: 0h4m32s  (23.8%)19.1%  lr: 0.038108  loss: 0.002606  eta: 0h12m  tot: 0h4m32s  (23.8%)19.8%  lr: 0.038038  loss: 0.002609  eta: 0h12m  tot: 0h4m34s  (24.0%)20.2%  lr: 0.038008  loss: 0.002610  eta: 0h12m  tot: 0h4m35s  (24.0%)20.5%  lr: 0.037948  loss: 0.002620  eta: 0h12m  tot: 0h4m35s  (24.1%)21.0%  lr: 0.037888  loss: 0.002624  eta: 0h12m  tot: 0h4m37s  (24.2%)21.2%  lr: 0.037858  loss: 0.002615  eta: 0h12m  tot: 0h4m37s  (24.2%)21.4%  lr: 0.037848  loss: 0.002636  eta: 0h12m  tot: 0h4m38s  (24.3%)21.9%  lr: 0.037778  loss: 0.002643  eta: 0h13m  tot: 0h4m39s  (24.4%)23.2%  lr: 0.037668  loss: 0.002640  eta: 0h12m  tot: 0h4m42s  (24.6%)23.4%  lr: 0.037648  loss: 0.002652  eta: 0h12m  tot: 0h4m42s  (24.7%)23.5%  lr: 0.037648  loss: 0.002649  eta: 0h12m  tot: 0h4m42s  (24.7%)%  lr: 0.037488  loss: 0.002669  eta: 0h12m  tot: 0h4m45s  (25.0%)25.3%  lr: 0.037437  loss: 0.002691  eta: 0h12m  tot: 0h4m46s  (25.1%)25.7%  lr: 0.037417  loss: 0.002684  eta: 0h12m  tot: 0h4m47s  (25.1%)26.0%  lr: 0.037397  loss: 0.002701  eta: 0h12m  tot: 0h4m48s  (25.2%)26.5%  lr: 0.037347  loss: 0.002691  eta: 0h12m  tot: 0h4m48s  (25.3%)27.0%  lr: 0.037317  loss: 0.002697  eta: 0h12m  tot: 0h4m50s  (25.4%)27.8%  lr: 0.037247  loss: 0.002702  eta: 0h12m  tot: 0h4m51s  (25.6%)  eta: 0h12m  tot: 0h4m54s  (25.7%)%  lr: 0.037157  loss: 0.002726  eta: 0h12m  tot: 0h4m55s  (25.9%)%  lr: 0.037097  loss: 0.002730  eta: 0h12m  tot: 0h4m56s  (25.9%)30.0%  lr: 0.037057  loss: 0.002723  eta: 0h12m  tot: 0h4m57s  (26.0%)%  lr: 0.037047  loss: 0.002718  eta: 0h12m  tot: 0h4m57s  (26.0%)30.4%  lr: 0.037037  loss: 0.002717  eta: 0h12m  tot: 0h4m58s  (26.1%)31.1%  lr: 0.036997  loss: 0.002725  eta: 0h12m  tot: 0h4m59s  (26.2%)31.5%  lr: 0.036937  loss: 0.002726  eta: 0h12m  tot: 0h5m0s  (26.3%)31.8%  lr: 0.036937  loss: 0.002728  eta: 0h12m  tot: 0h5m1s  (26.4%)32.4%  lr: 0.036867  loss: 0.002733  eta: 0h12m  tot: 0h5m3s  (26.5%)33.4%  lr: 0.036787  loss: 0.002740  eta: 0h12m  tot: 0h5m5s  (26.7%)33.8%  lr: 0.036747  loss: 0.002751  eta: 0h12m  tot: 0h5m6s  (26.8%)33.9%  lr: 0.036737  loss: 0.002746  eta: 0h12m  tot: 0h5m6s  (26.8%)34.0%  lr: 0.036727  loss: 0.002749  eta: 0h12m  tot: 0h5m6s  (26.8%)34.1%  lr: 0.036707  loss: 0.002745  eta: 0h12m  tot: 0h5m6s  (26.8%)34.5%  lr: 0.036657  loss: 0.002736  eta: 0h12m  tot: 0h5m7s  (26.9%)36.4%  lr: 0.036517  loss: 0.002743  eta: 0h12m  tot: 0h5m11s  (27.3%)0h12m  tot: 0h5m14s  (27.6%)37.9%  lr: 0.036376  loss: 0.002746  eta: 0h12m  tot: 0h5m14s  (27.6%)%  lr: 0.036286  loss: 0.002747  eta: 0h12m  tot: 0h5m15s  (27.7%)39.0%  lr: 0.036246  loss: 0.002740  eta: 0h12m  tot: 0h5m16s  (27.8%)39.8%  lr: 0.036106  loss: 0.002739  eta: 0h12m  tot: 0h5m18s  (28.0%)40.1%  lr: 0.036056  loss: 0.002752  eta: 0h12m  tot: 0h5m18s  (28.0%)41.0%  lr: 0.035986  loss: 0.002767  eta: 0h12m  tot: 0h5m20s  (28.2%)41.4%  lr: 0.035926  loss: 0.002771  eta: 0h12m  tot: 0h5m21s  (28.3%)41.5%  lr: 0.035916  loss: 0.002770  eta: 0h12m  tot: 0h5m21s  (28.3%)42.5%  lr: 0.035836  loss: 0.002757  eta: 0h12m  tot: 0h5m23s  (28.5%)42.9%  lr: 0.035796  loss: 0.002761  eta: 0h12m  tot: 0h5m24s  (28.6%)  lr: 0.035746  loss: 0.002757  eta: 0h12m  tot: 0h5m25s  (28.7%)43.9%  lr: 0.035736  loss: 0.002755  eta: 0h12m  tot: 0h5m26s  (28.8%)44.5%  lr: 0.035696  loss: 0.002755  eta: 0h12m  tot: 0h5m26s  (28.9%)44.7%  lr: 0.035686  loss: 0.002763  eta: 0h12m  tot: 0h5m27s  (28.9%)45.8%  lr: 0.035576  loss: 0.002746  eta: 0h12m  tot: 0h5m29s  (29.2%)46.0%  lr: 0.035556  loss: 0.002747  eta: 0h12m  tot: 0h5m29s  (29.2%)46.6%  lr: 0.035516  loss: 0.002752  eta: 0h12m  tot: 0h5m30s  (29.3%)46.7%  lr: 0.035506  loss: 0.002749  eta: 0h12m  tot: 0h5m30s  (29.3%)%  lr: 0.035506  loss: 0.002751  eta: 0h12m  tot: 0h5m31s  (29.4%)47.4%  lr: 0.035476  loss: 0.002745  eta: 0h12m  tot: 0h5m32s  (29.5%)48.3%  lr: 0.035415  loss: 0.002741  eta: 0h12m  tot: 0h5m34s  (29.7%)48.7%  lr: 0.035375  loss: 0.002734  eta: 0h12m  tot: 0h5m35s  (29.7%)49.0%  lr: 0.035335  loss: 0.002735  eta: 0h12m  tot: 0h5m35s  (29.8%)49.2%  lr: 0.035295  loss: 0.002729  eta: 0h12m  tot: 0h5m36s  (29.8%)49.3%  lr: 0.035265  loss: 0.002731  eta: 0h12m  tot: 0h5m36s  (29.9%)49.6%  lr: 0.035235  loss: 0.002726  eta: 0h12m  tot: 0h5m36s  (29.9%)%  lr: 0.035175  loss: 0.002716  eta: 0h12m  tot: 0h5m38s  (30.0%)50.4%  lr: 0.035115  loss: 0.002714  eta: 0h12m  tot: 0h5m38s  (30.1%)51.1%  lr: 0.035035  loss: 0.002715  eta: 0h12m  tot: 0h5m40s  (30.2%)53.0%  lr: 0.034895  loss: 0.002717  eta: 0h11m  tot: 0h5m43s  (30.6%)53.1%  lr: 0.034895  loss: 0.002718  eta: 0h11m  tot: 0h5m44s  (30.6%)53.4%  lr: 0.034885  loss: 0.002715  eta: 0h11m  tot: 0h5m44s  (30.7%)h11m  tot: 0h5m44s  (30.7%)55.2%  lr: 0.034765  loss: 0.002719  eta: 0h11m  tot: 0h5m48s  (31.0%)55.3%  lr: 0.034755  loss: 0.002719  eta: 0h11m  tot: 0h5m48s  (31.1%)55.6%  lr: 0.034695  loss: 0.002720  eta: 0h11m  tot: 0h5m49s  (31.1%)0.002711  eta: 0h11m  tot: 0h5m52s  (31.5%)%  lr: 0.034384  loss: 0.002700  eta: 0h11m  tot: 0h5m55s  (31.7%)0h11m  tot: 0h5m55s  (31.7%)59.1%  lr: 0.034344  loss: 0.002696  eta: 0h11m  tot: 0h5m56s  (31.8%)"
     ]
    },
    {
     "name": "stdout",
     "output_type": "stream",
     "text": [
      "Epoch: 100.0%  lr: 0.030180  loss: 0.002673  eta: 0h10m  tot: 0h7m15s  (40.0%)9.8%  lr: 0.034284  loss: 0.002690  eta: 0h11m  tot: 0h5m58s  (32.0%)60.0%  lr: 0.034264  loss: 0.002696  eta: 0h11m  tot: 0h5m58s  (32.0%)60.1%  lr: 0.034244  loss: 0.002696  eta: 0h11m  tot: 0h5m58s  (32.0%)60.3%  lr: 0.034184  loss: 0.002698  eta: 0h11m  tot: 0h5m59s  (32.1%)60.6%  lr: 0.034184  loss: 0.002693  eta: 0h11m  tot: 0h5m59s  (32.1%)60.9%  lr: 0.034174  loss: 0.002691  eta: 0h11m  tot: 0h6m0s  (32.2%)62.0%  lr: 0.034004  loss: 0.002691  eta: 0h11m  tot: 0h6m2s  (32.4%)62.7%  lr: 0.033904  loss: 0.002697  eta: 0h11m  tot: 0h6m3s  (32.5%)62.8%  lr: 0.033884  loss: 0.002697  eta: 0h11m  tot: 0h6m4s  (32.6%)63.9%  lr: 0.033784  loss: 0.002683  eta: 0h11m  tot: 0h6m6s  (32.8%)64.0%  lr: 0.033784  loss: 0.002684  eta: 0h11m  tot: 0h6m6s  (32.8%)65.0%  lr: 0.033714  loss: 0.002696  eta: 0h11m  tot: 0h6m8s  (33.0%)65.2%  lr: 0.033714  loss: 0.002695  eta: 0h11m  tot: 0h6m8s  (33.0%)65.7%  lr: 0.033654  loss: 0.002693  eta: 0h11m  tot: 0h6m9s  (33.1%)66.2%  lr: 0.033614  loss: 0.002692  eta: 0h11m  tot: 0h6m10s  (33.2%)66.3%  lr: 0.033604  loss: 0.002691  eta: 0h11m  tot: 0h6m10s  (33.3%)66.6%  lr: 0.033574  loss: 0.002691  eta: 0h11m  tot: 0h6m11s  (33.3%)66.7%  lr: 0.033544  loss: 0.002691  eta: 0h11m  tot: 0h6m11s  (33.3%)66.8%  lr: 0.033534  loss: 0.002689  eta: 0h11m  tot: 0h6m11s  (33.4%)67.3%  lr: 0.033484  loss: 0.002694  eta: 0h11m  tot: 0h6m12s  (33.5%)67.7%  lr: 0.033454  loss: 0.002688  eta: 0h11m  tot: 0h6m13s  (33.5%)68.0%  lr: 0.033434  loss: 0.002688  eta: 0h11m  tot: 0h6m13s  (33.6%)69.1%  lr: 0.033333  loss: 0.002681  eta: 0h11m  tot: 0h6m15s  (33.8%)69.5%  lr: 0.033283  loss: 0.002682  eta: 0h11m  tot: 0h6m16s  (33.9%)70.4%  lr: 0.033143  loss: 0.002679  eta: 0h11m  tot: 0h6m18s  (34.1%)71.2%  lr: 0.033093  loss: 0.002691  eta: 0h11m  tot: 0h6m19s  (34.2%)71.4%  lr: 0.033073  loss: 0.002690  eta: 0h11m  tot: 0h6m19s  (34.3%)71.5%  lr: 0.033073  loss: 0.002689  eta: 0h11m  tot: 0h6m19s  (34.3%)72.0%  lr: 0.033073  loss: 0.002695  eta: 0h11m  tot: 0h6m21s  (34.4%)72.3%  lr: 0.033063  loss: 0.002693  eta: 0h11m  tot: 0h6m21s  (34.5%)%  lr: 0.033033  loss: 0.002692  eta: 0h11m  tot: 0h6m23s  (34.5%)73.1%  lr: 0.033023  loss: 0.002691  eta: 0h11m  tot: 0h6m23s  (34.6%)73.4%  lr: 0.032943  loss: 0.002694  eta: 0h11m  tot: 0h6m24s  (34.7%)74.5%  lr: 0.032793  loss: 0.002697  eta: 0h11m  tot: 0h6m26s  (34.9%)76.4%  lr: 0.032543  loss: 0.002695  eta: 0h11m  tot: 0h6m30s  (35.3%)77.2%  lr: 0.032503  loss: 0.002692  eta: 0h11m  tot: 0h6m33s  (35.4%)77.8%  lr: 0.032433  loss: 0.002690  eta: 0h11m  tot: 0h6m34s  (35.6%)79.9%  lr: 0.032302  loss: 0.002687  eta: 0h10m  tot: 0h6m38s  (36.0%)80.1%  lr: 0.032292  loss: 0.002689  eta: 0h10m  tot: 0h6m38s  (36.0%)m  tot: 0h6m39s  (36.1%)81.7%  lr: 0.032072  loss: 0.002692  eta: 0h10m  tot: 0h6m42s  (36.3%)81.9%  lr: 0.032062  loss: 0.002694  eta: 0h10m  tot: 0h6m43s  (36.4%)82.3%  lr: 0.032022  loss: 0.002694  eta: 0h10m  tot: 0h6m44s  (36.5%)82.6%  lr: 0.031972  loss: 0.002692  eta: 0h10m  tot: 0h6m45s  (36.5%)83.1%  lr: 0.031922  loss: 0.002693  eta: 0h10m  tot: 0h6m46s  (36.6%)85.0%  lr: 0.031732  loss: 0.002685  eta: 0h10m  tot: 0h6m50s  (37.0%)85.3%  lr: 0.031702  loss: 0.002684  eta: 0h10m  tot: 0h6m50s  (37.1%)85.6%  lr: 0.031672  loss: 0.002690  eta: 0h10m  tot: 0h6m51s  (37.1%)85.7%  lr: 0.031672  loss: 0.002688  eta: 0h10m  tot: 0h6m51s  (37.1%)86.3%  lr: 0.031582  loss: 0.002684  eta: 0h10m  tot: 0h6m52s  (37.3%)89.6%  lr: 0.031241  loss: 0.002679  eta: 0h10m  tot: 0h6m58s  (37.9%)90.0%  lr: 0.031181  loss: 0.002678  eta: 0h10m  tot: 0h6m58s  (38.0%)90.4%  lr: 0.031151  loss: 0.002677  eta: 0h10m  tot: 0h6m59s  (38.1%)90.5%  lr: 0.031131  loss: 0.002676  eta: 0h10m  tot: 0h6m59s  (38.1%)90.7%  lr: 0.031101  loss: 0.002676  eta: 0h10m  tot: 0h7m0s  (38.1%)91.2%  lr: 0.031061  loss: 0.002685  eta: 0h10m  tot: 0h7m0s  (38.2%)91.4%  lr: 0.031031  loss: 0.002687  eta: 0h10m  tot: 0h7m1s  (38.3%)92.0%  lr: 0.030971  loss: 0.002685  eta: 0h10m  tot: 0h7m2s  (38.4%)92.4%  lr: 0.030931  loss: 0.002683  eta: 0h10m  tot: 0h7m2s  (38.5%)92.5%  lr: 0.030921  loss: 0.002682  eta: 0h10m  tot: 0h7m3s  (38.5%)92.5%  lr: 0.030921  loss: 0.002683  eta: 0h10m  tot: 0h7m3s  (38.5%)93.0%  lr: 0.030881  loss: 0.002681  eta: 0h10m  tot: 0h7m3s  (38.6%)93.2%  lr: 0.030841  loss: 0.002682  eta: 0h10m  tot: 0h7m4s  (38.6%)93.6%  lr: 0.030841  loss: 0.002678  eta: 0h10m  tot: 0h7m4s  (38.7%)h7m5s  (38.8%)94.2%  lr: 0.030801  loss: 0.002680  eta: 0h10m  tot: 0h7m5s  (38.8%)95.0%  lr: 0.030671  loss: 0.002677  eta: 0h10m  tot: 0h7m7s  (39.0%)95.9%  lr: 0.030581  loss: 0.002677  eta: 0h10m  tot: 0h7m8s  (39.2%)96.0%  lr: 0.030581  loss: 0.002677  eta: 0h10m  tot: 0h7m8s  (39.2%)96.4%  lr: 0.030511  loss: 0.002675  eta: 0h10m  tot: 0h7m9s  (39.3%)97.0%  lr: 0.030481  loss: 0.002673  eta: 0h10m  tot: 0h7m10s  (39.4%)97.7%  lr: 0.030421  loss: 0.002669  eta: 0h10m  tot: 0h7m11s  (39.5%)98.0%  lr: 0.030391  loss: 0.002669  eta: 0h10m  tot: 0h7m12s  (39.6%)98.6%  lr: 0.030340  loss: 0.002671  eta: 0h10m  tot: 0h7m12s  (39.7%)98.8%  lr: 0.030310  loss: 0.002671  eta: 0h10m  tot: 0h7m13s  (39.8%)99.1%  lr: 0.030270  loss: 0.002671  eta: 0h10m  tot: 0h7m13s  (39.8%)99.5%  lr: 0.030230  loss: 0.002673  eta: 0h10m  tot: 0h7m14s  (39.9%)99.6%  lr: 0.030220  loss: 0.002671  eta: 0h10m  tot: 0h7m14s  (39.9%)99.7%  lr: 0.030200  loss: 0.002671  eta: 0h10m  tot: 0h7m15s  (39.9%)\n",
      " ---+++                Epoch    1 Train error : 0.00269327 +++--- ���\n",
      "Training epoch 2: 0.03 0.01\n",
      "Epoch: 69.6%  lr: 0.023183  loss: 0.001959  eta: 0h6m  tot: 0h9m18s  (53.9%).7%  lr: 0.029960  loss: 0.001780  eta: 0h4m  tot: 0h7m19s  (40.1%)0.8%  lr: 0.029960  loss: 0.001709  eta: 0h5m  tot: 0h7m19s  (40.2%)0.9%  lr: 0.029930  loss: 0.001644  eta: 0h5m  tot: 0h7m19s  (40.2%)1.3%  lr: 0.029900  loss: 0.001462  eta: 0h6m  tot: 0h7m20s  (40.3%)1.6%  lr: 0.029850  loss: 0.001565  eta: 0h6m  tot: 0h7m21s  (40.3%)%  lr: 0.029750  loss: 0.001802  eta: 0h7m  tot: 0h7m22s  (40.5%)2.8%  lr: 0.029720  loss: 0.001985  eta: 0h7m  tot: 0h7m23s  (40.6%)3.4%  lr: 0.029660  loss: 0.001950  eta: 0h7m  tot: 0h7m24s  (40.7%)%  lr: 0.029660  loss: 0.001924  eta: 0h7m  tot: 0h7m24s  (40.7%)4.1%  lr: 0.029630  loss: 0.001851  eta: 0h7m  tot: 0h7m24s  (40.8%)4.5%  lr: 0.029590  loss: 0.001852  eta: 0h7m  tot: 0h7m25s  (40.9%)m  tot: 0h7m26s  (41.0%)5.1%  lr: 0.029550  loss: 0.001806  eta: 0h7m  tot: 0h7m27s  (41.0%)6.0%  lr: 0.029520  loss: 0.001769  eta: 0h7m  tot: 0h7m28s  (41.2%)6.3%  lr: 0.029469  loss: 0.001797  eta: 0h7m  tot: 0h7m28s  (41.3%)6.7%  lr: 0.029419  loss: 0.001783  eta: 0h7m  tot: 0h7m29s  (41.3%)7.2%  lr: 0.029349  loss: 0.001806  eta: 0h7m  tot: 0h7m30s  (41.4%)8.8%  lr: 0.029219  loss: 0.001837  eta: 0h8m  tot: 0h7m33s  (41.8%)9.8%  lr: 0.029109  loss: 0.001860  eta: 0h8m  tot: 0h7m35s  (42.0%)9.9%  lr: 0.029099  loss: 0.001862  eta: 0h8m  tot: 0h7m35s  (42.0%)0.001863  eta: 0h8m  tot: 0h7m36s  (42.0%)10.5%  lr: 0.029079  loss: 0.001883  eta: 0h8m  tot: 0h7m37s  (42.1%)0.029069  loss: 0.001881  eta: 0h8m  tot: 0h7m37s  (42.1%)11.3%  lr: 0.028999  loss: 0.001885  eta: 0h8m  tot: 0h7m38s  (42.3%)11.3%  lr: 0.028979  loss: 0.001874  eta: 0h8m  tot: 0h7m38s  (42.3%)12.1%  lr: 0.028899  loss: 0.001887  eta: 0h8m  tot: 0h7m40s  (42.4%)h7m41s  (42.6%)13.1%  lr: 0.028859  loss: 0.001928  eta: 0h8m  tot: 0h7m42s  (42.6%)13.3%  lr: 0.028819  loss: 0.001945  eta: 0h8m  tot: 0h7m42s  (42.7%)13.7%  lr: 0.028789  loss: 0.001945  eta: 0h8m  tot: 0h7m43s  (42.7%)13.8%  lr: 0.028769  loss: 0.001945  eta: 0h8m  tot: 0h7m43s  (42.8%)14.0%  lr: 0.028759  loss: 0.001957  eta: 0h8m  tot: 0h7m43s  (42.8%)14.0%  lr: 0.028739  loss: 0.001954  eta: 0h8m  tot: 0h7m43s  (42.8%)14.1%  lr: 0.028739  loss: 0.001955  eta: 0h8m  tot: 0h7m43s  (42.8%)15.3%  lr: 0.028619  loss: 0.001961  eta: 0h8m  tot: 0h7m46s  (43.1%)15.4%  lr: 0.028619  loss: 0.001964  eta: 0h8m  tot: 0h7m46s  (43.1%)15.7%  lr: 0.028619  loss: 0.001958  eta: 0h8m  tot: 0h7m46s  (43.1%)16.3%  lr: 0.028599  loss: 0.001999  eta: 0h8m  tot: 0h7m48s  (43.3%)16.5%  lr: 0.028589  loss: 0.002003  eta: 0h8m  tot: 0h7m48s  (43.3%)16.8%  lr: 0.028569  loss: 0.002000  eta: 0h8m  tot: 0h7m48s  (43.4%)17.2%  lr: 0.028559  loss: 0.001981  eta: 0h8m  tot: 0h7m49s  (43.4%)17.7%  lr: 0.028499  loss: 0.001997  eta: 0h8m  tot: 0h7m50s  (43.5%)17.8%  lr: 0.028479  loss: 0.001993  eta: 0h8m  tot: 0h7m50s  (43.6%)18.8%  lr: 0.028278  loss: 0.001972  eta: 0h8m  tot: 0h7m52s  (43.8%)20.5%  lr: 0.028158  loss: 0.001945  eta: 0h8m  tot: 0h7m55s  (44.1%)20.8%  lr: 0.028128  loss: 0.001963  eta: 0h8m  tot: 0h7m55s  (44.2%)21.3%  lr: 0.028098  loss: 0.001955  eta: 0h8m  tot: 0h7m56s  (44.3%)22.2%  lr: 0.028028  loss: 0.001955  eta: 0h8m  tot: 0h7m58s  (44.4%)22.4%  lr: 0.028028  loss: 0.001951  eta: 0h8m  tot: 0h7m58s  (44.5%)22.7%  lr: 0.028008  loss: 0.001965  eta: 0h8m  tot: 0h7m59s  (44.5%)23.6%  lr: 0.027918  loss: 0.001946  eta: 0h8m  tot: 0h8m1s  (44.7%)24.1%  lr: 0.027888  loss: 0.001960  eta: 0h8m  tot: 0h8m2s  (44.8%)24.3%  lr: 0.027878  loss: 0.001959  eta: 0h8m  tot: 0h8m2s  (44.9%)24.6%  lr: 0.027838  loss: 0.001968  eta: 0h8m  tot: 0h8m3s  (44.9%)25.4%  lr: 0.027778  loss: 0.001954  eta: 0h8m  tot: 0h8m4s  (45.1%)26.7%  lr: 0.027538  loss: 0.001938  eta: 0h8m  tot: 0h8m7s  (45.3%)27.3%  lr: 0.027468  loss: 0.001951  eta: 0h8m  tot: 0h8m8s  (45.5%)27.7%  lr: 0.027457  loss: 0.001962  eta: 0h8m  tot: 0h8m9s  (45.5%)27.9%  lr: 0.027407  loss: 0.001973  eta: 0h8m  tot: 0h8m9s  (45.6%)28.4%  lr: 0.027377  loss: 0.001984  eta: 0h8m  tot: 0h8m10s  (45.7%)29.2%  lr: 0.027297  loss: 0.001987  eta: 0h8m  tot: 0h8m11s  (45.8%)29.7%  lr: 0.027227  loss: 0.001982  eta: 0h8m  tot: 0h8m12s  (45.9%)30.3%  lr: 0.027147  loss: 0.001982  eta: 0h8m  tot: 0h8m13s  (46.1%)31.0%  lr: 0.027107  loss: 0.001980  eta: 0h8m  tot: 0h8m14s  (46.2%)31.1%  lr: 0.027087  loss: 0.001981  eta: 0h8m  tot: 0h8m15s  (46.2%)32.0%  lr: 0.027027  loss: 0.001979  eta: 0h8m  tot: 0h8m16s  (46.4%)33.2%  lr: 0.026937  loss: 0.001977  eta: 0h7m  tot: 0h8m18s  (46.6%)34.1%  lr: 0.026827  loss: 0.001966  eta: 0h7m  tot: 0h8m19s  (46.8%)34.9%  lr: 0.026747  loss: 0.001980  eta: 0h7m  tot: 0h8m21s  (47.0%)35.8%  lr: 0.026567  loss: 0.001991  eta: 0h7m  tot: 0h8m22s  (47.2%)36.1%  lr: 0.026517  loss: 0.001999  eta: 0h7m  tot: 0h8m23s  (47.2%)36.6%  lr: 0.026507  loss: 0.001998  eta: 0h7m  tot: 0h8m23s  (47.3%)%  lr: 0.026467  loss: 0.001995  eta: 0h7m  tot: 0h8m24s  (47.4%)37.4%  lr: 0.026406  loss: 0.001992  eta: 0h7m  tot: 0h8m25s  (47.5%)37.6%  lr: 0.026406  loss: 0.001987  eta: 0h7m  tot: 0h8m25s  (47.5%)37.8%  lr: 0.026396  loss: 0.001985  eta: 0h7m  tot: 0h8m25s  (47.6%)38.4%  lr: 0.026356  loss: 0.001984  eta: 0h7m  tot: 0h8m26s  (47.7%)38.8%  lr: 0.026296  loss: 0.001988  eta: 0h7m  tot: 0h8m27s  (47.8%)38.9%  lr: 0.026286  loss: 0.001992  eta: 0h7m  tot: 0h8m27s  (47.8%)39.4%  lr: 0.026246  loss: 0.001993  eta: 0h7m  tot: 0h8m28s  (47.9%)39.7%  lr: 0.026236  loss: 0.001991  eta: 0h7m  tot: 0h8m28s  (47.9%)40.4%  lr: 0.026166  loss: 0.001990  eta: 0h7m  tot: 0h8m29s  (48.1%)41.0%  lr: 0.026106  loss: 0.001984  eta: 0h7m  tot: 0h8m30s  (48.2%)41.8%  lr: 0.026066  loss: 0.001974  eta: 0h7m  tot: 0h8m31s  (48.4%)42.2%  lr: 0.025986  loss: 0.001973  eta: 0h7m  tot: 0h8m32s  (48.4%)  eta: 0h7m  tot: 0h8m33s  (48.5%)43.0%  lr: 0.025936  loss: 0.001977  eta: 0h7m  tot: 0h8m34s  (48.6%)43.3%  lr: 0.025906  loss: 0.001972  eta: 0h7m  tot: 0h8m34s  (48.7%)44.1%  lr: 0.025806  loss: 0.001975  eta: 0h7m  tot: 0h8m36s  (48.8%)44.2%  lr: 0.025806  loss: 0.001973  eta: 0h7m  tot: 0h8m36s  (48.8%)%  lr: 0.025696  loss: 0.001962  eta: 0h7m  tot: 0h8m37s  (49.0%)46.5%  lr: 0.025576  loss: 0.001965  eta: 0h7m  tot: 0h8m40s  (49.3%)47.0%  lr: 0.025526  loss: 0.001966  eta: 0h7m  tot: 0h8m40s  (49.4%)47.4%  lr: 0.025496  loss: 0.001962  eta: 0h7m  tot: 0h8m41s  (49.5%)48.9%  lr: 0.025355  loss: 0.001967  eta: 0h7m  tot: 0h8m43s  (49.8%)49.3%  lr: 0.025345  loss: 0.001966  eta: 0h7m  tot: 0h8m44s  (49.9%)50.0%  lr: 0.025295  loss: 0.001972  eta: 0h7m  tot: 0h8m45s  (50.0%)51.7%  lr: 0.025175  loss: 0.001974  eta: 0h7m  tot: 0h8m47s  (50.3%)52.3%  lr: 0.025105  loss: 0.001976  eta: 0h7m  tot: 0h8m48s  (50.5%)53.8%  lr: 0.024985  loss: 0.001969  eta: 0h7m  tot: 0h8m51s  (50.8%)%  lr: 0.024975  loss: 0.001972  eta: 0h7m  tot: 0h8m51s  (50.8%)54.2%  lr: 0.024965  loss: 0.001978  eta: 0h7m  tot: 0h8m51s  (50.8%)54.3%  lr: 0.024945  loss: 0.001977  eta: 0h7m  tot: 0h8m52s  (50.9%)57.1%  lr: 0.024615  loss: 0.001971  eta: 0h6m  tot: 0h8m56s  (51.4%)58.3%  lr: 0.024445  loss: 0.001978  eta: 0h6m  tot: 0h8m58s  (51.7%)58.8%  lr: 0.024334  loss: 0.001975  eta: 0h6m  tot: 0h8m59s  (51.8%)  lr: 0.024094  loss: 0.001967  eta: 0h6m  tot: 0h9m2s  (52.1%)s  (52.3%)61.6%  lr: 0.024004  loss: 0.001964  eta: 0h6m  tot: 0h9m4s  (52.3%)%  lr: 0.023984  loss: 0.001965  eta: 0h6m  tot: 0h9m4s  (52.4%)%  lr: 0.023934  loss: 0.001963  eta: 0h6m  tot: 0h9m5s  (52.5%)62.7%  lr: 0.023914  loss: 0.001963  eta: 0h6m  tot: 0h9m5s  (52.5%) (52.5%)63.1%  lr: 0.023814  loss: 0.001966  eta: 0h6m  tot: 0h9m6s  (52.6%)63.6%  lr: 0.023744  loss: 0.001961  eta: 0h6m  tot: 0h9m7s  (52.7%)  lr: 0.023694  loss: 0.001958  eta: 0h6m  tot: 0h9m8s  (52.8%)64.1%  lr: 0.023674  loss: 0.001956  eta: 0h6m  tot: 0h9m8s  (52.8%)65.6%  lr: 0.023594  loss: 0.001966  eta: 0h6m  tot: 0h9m11s  (53.1%)67.1%  lr: 0.023444  loss: 0.001966  eta: 0h6m  tot: 0h9m13s  (53.4%)68.0%  lr: 0.023343  loss: 0.001962  eta: 0h6m  tot: 0h9m15s  (53.6%)69.2%  lr: 0.023183  loss: 0.001957  eta: 0h6m  tot: 0h9m17s  (53.8%)69.5%  lr: 0.023183  loss: 0.001959  eta: 0h6m  tot: 0h9m18s  (53.9%)69.7%  lr: 0.023153  loss: 0.001958  eta: 0h6m  tot: 0h9m18s  (53.9%)Epoch: 100.0%  lr: 0.020270  loss: 0.001947  eta: 0h6m  tot: 0h10m21s  (60.0%).2%  lr: 0.023123  loss: 0.001958  eta: 0h6m  tot: 0h9m19s  (54.0%)70.4%  lr: 0.023103  loss: 0.001957  eta: 0h6m  tot: 0h9m19s  (54.1%)70.8%  lr: 0.023053  loss: 0.001953  eta: 0h6m  tot: 0h9m20s  (54.2%)70.8%  lr: 0.023053  loss: 0.001952  eta: 0h6m  tot: 0h9m21s  (54.2%)70.9%  lr: 0.023053  loss: 0.001954  eta: 0h6m  tot: 0h9m21s  (54.2%)71.8%  lr: 0.022953  loss: 0.001955  eta: 0h6m  tot: 0h9m22s  (54.4%)72.1%  lr: 0.022893  loss: 0.001955  eta: 0h6m  tot: 0h9m23s  (54.4%)72.6%  lr: 0.022863  loss: 0.001955  eta: 0h6m  tot: 0h9m24s  (54.5%)74.0%  lr: 0.022723  loss: 0.001955  eta: 0h6m  tot: 0h9m27s  (54.8%)74.1%  lr: 0.022723  loss: 0.001957  eta: 0h6m  tot: 0h9m27s  (54.8%)74.4%  lr: 0.022703  loss: 0.001957  eta: 0h6m  tot: 0h9m27s  (54.9%)75.7%  lr: 0.022503  loss: 0.001960  eta: 0h6m  tot: 0h9m30s  (55.1%)76.2%  lr: 0.022463  loss: 0.001960  eta: 0h6m  tot: 0h9m31s  (55.2%)76.2%  lr: 0.022463  loss: 0.001959  eta: 0h6m  tot: 0h9m31s  (55.2%)76.7%  lr: 0.022443  loss: 0.001960  eta: 0h6m  tot: 0h9m32s  (55.3%)76.8%  lr: 0.022433  loss: 0.001959  eta: 0h6m  tot: 0h9m32s  (55.4%)77.2%  lr: 0.022423  loss: 0.001960  eta: 0h6m  tot: 0h9m33s  (55.4%)78.2%  lr: 0.022232  loss: 0.001958  eta: 0h6m  tot: 0h9m35s  (55.6%)79.8%  lr: 0.022122  loss: 0.001955  eta: 0h6m  tot: 0h9m39s  (56.0%)79.9%  lr: 0.022102  loss: 0.001955  eta: 0h6m  tot: 0h9m40s  (56.0%)81.0%  lr: 0.022012  loss: 0.001950  eta: 0h6m  tot: 0h9m42s  (56.2%)81.8%  lr: 0.021912  loss: 0.001949  eta: 0h6m  tot: 0h9m44s  (56.4%)82.0%  lr: 0.021902  loss: 0.001947  eta: 0h6m  tot: 0h9m44s  (56.4%)%  lr: 0.021842  loss: 0.001947  eta: 0h6m  tot: 0h9m45s  (56.5%)82.9%  lr: 0.021802  loss: 0.001946  eta: 0h6m  tot: 0h9m46s  (56.6%)83.3%  lr: 0.021752  loss: 0.001946  eta: 0h6m  tot: 0h9m47s  (56.7%)83.6%  lr: 0.021682  loss: 0.001948  eta: 0h6m  tot: 0h9m47s  (56.7%)83.8%  lr: 0.021652  loss: 0.001947  eta: 0h6m  tot: 0h9m48s  (56.8%)84.6%  lr: 0.021602  loss: 0.001951  eta: 0h6m  tot: 0h9m50s  (56.9%)85.3%  lr: 0.021572  loss: 0.001954  eta: 0h6m  tot: 0h9m51s  (57.1%)85.3%  lr: 0.021572  loss: 0.001954  eta: 0h6m  tot: 0h9m51s  (57.1%)85.6%  lr: 0.021522  loss: 0.001955  eta: 0h6m  tot: 0h9m52s  (57.1%)86.6%  lr: 0.021472  loss: 0.001949  eta: 0h6m  tot: 0h9m54s  (57.3%)88.1%  lr: 0.021311  loss: 0.001950  eta: 0h6m  tot: 0h9m58s  (57.6%)88.2%  lr: 0.021301  loss: 0.001953  eta: 0h6m  tot: 0h9m58s  (57.6%)88.3%  lr: 0.021301  loss: 0.001953  eta: 0h6m  tot: 0h9m58s  (57.7%)89.2%  lr: 0.021231  loss: 0.001948  eta: 0h6m  tot: 0h10m0s  (57.8%)89.5%  lr: 0.021201  loss: 0.001948  eta: 0h6m  tot: 0h10m0s  (57.9%)89.8%  lr: 0.021181  loss: 0.001947  eta: 0h6m  tot: 0h10m1s  (58.0%)%  lr: 0.021061  loss: 0.001950  eta: 0h6m  tot: 0h10m3s  (58.2%)91.2%  lr: 0.021061  loss: 0.001950  eta: 0h6m  tot: 0h10m4s  (58.2%)92.1%  lr: 0.021011  loss: 0.001952  eta: 0h6m  tot: 0h10m5s  (58.4%)93.5%  lr: 0.020891  loss: 0.001946  eta: 0h6m  tot: 0h10m8s  (58.7%)%  lr: 0.020821  loss: 0.001947  eta: 0h6m  tot: 0h10m9s  (58.8%)94.4%  lr: 0.020801  loss: 0.001946  eta: 0h6m  tot: 0h10m10s  (58.9%)94.5%  lr: 0.020791  loss: 0.001947  eta: 0h6m  tot: 0h10m10s  (58.9%)94.6%  lr: 0.020781  loss: 0.001946  eta: 0h6m  tot: 0h10m11s  (58.9%)94.9%  lr: 0.020761  loss: 0.001949  eta: 0h6m  tot: 0h10m11s  (59.0%)95.2%  lr: 0.020741  loss: 0.001947  eta: 0h6m  tot: 0h10m12s  (59.0%)95.3%  lr: 0.020741  loss: 0.001948  eta: 0h6m  tot: 0h10m12s  (59.1%)95.9%  lr: 0.020701  loss: 0.001946  eta: 0h6m  tot: 0h10m13s  (59.2%)%  lr: 0.020691  loss: 0.001947  eta: 0h6m  tot: 0h10m13s  (59.2%)96.1%  lr: 0.020681  loss: 0.001946  eta: 0h6m  tot: 0h10m14s  (59.2%)97.0%  lr: 0.020581  loss: 0.001944  eta: 0h6m  tot: 0h10m15s  (59.4%)97.5%  lr: 0.020501  loss: 0.001948  eta: 0h6m  tot: 0h10m16s  (59.5%)98.0%  lr: 0.020471  loss: 0.001946  eta: 0h6m  tot: 0h10m17s  (59.6%)98.7%  lr: 0.020401  loss: 0.001947  eta: 0h6m  tot: 0h10m18s  (59.7%)99.2%  lr: 0.020310  loss: 0.001946  eta: 0h6m  tot: 0h10m20s  (59.8%)99.3%  lr: 0.020300  loss: 0.001948  eta: 0h6m  tot: 0h10m20s  (59.9%)99.4%  lr: 0.020300  loss: 0.001948  eta: 0h6m  tot: 0h10m20s  (59.9%)99.7%  lr: 0.020290  loss: 0.001947  eta: 0h6m  tot: 0h10m21s  (59.9%)\n",
      " ---+++                Epoch    2 Train error : 0.00191040 +++--- ���\n",
      "Training epoch 3: 0.02 0.01\n"
     ]
    },
    {
     "name": "stdout",
     "output_type": "stream",
     "text": [
      "Epoch: 57.8%  lr: 0.014174  loss: 0.001574  eta: 0h5m  tot: 0h12m31s  (71.6%)0.3%  lr: 0.019940  loss: 0.001507  eta: 0h7m  tot: 0h10m28s  (60.1%)1.2%  lr: 0.019820  loss: 0.001723  eta: 0h6m  tot: 0h10m30s  (60.2%)  lr: 0.019810  loss: 0.001773  eta: 0h6m  tot: 0h10m31s  (60.3%)1.5%  lr: 0.019790  loss: 0.001765  eta: 0h6m  tot: 0h10m31s  (60.3%)2.3%  lr: 0.019710  loss: 0.001640  eta: 0h6m  tot: 0h10m33s  (60.5%)2.4%  lr: 0.019680  loss: 0.001611  eta: 0h6m  tot: 0h10m33s  (60.5%)2.5%  lr: 0.019660  loss: 0.001614  eta: 0h6m  tot: 0h10m33s  (60.5%)3.1%  lr: 0.019600  loss: 0.001587  eta: 0h6m  tot: 0h10m34s  (60.6%)3.9%  lr: 0.019489  loss: 0.001520  eta: 0h6m  tot: 0h10m36s  (60.8%)4.1%  lr: 0.019449  loss: 0.001534  eta: 0h6m  tot: 0h10m36s  (60.8%)4.6%  lr: 0.019389  loss: 0.001589  eta: 0h6m  tot: 0h10m37s  (60.9%)4.8%  lr: 0.019369  loss: 0.001567  eta: 0h6m  tot: 0h10m38s  (61.0%)5.0%  lr: 0.019369  loss: 0.001545  eta: 0h6m  tot: 0h10m38s  (61.0%)6.2%  lr: 0.019269  loss: 0.001583  eta: 0h6m  tot: 0h10m40s  (61.2%)6.7%  lr: 0.019239  loss: 0.001600  eta: 0h6m  tot: 0h10m41s  (61.3%)6.8%  lr: 0.019229  loss: 0.001591  eta: 0h6m  tot: 0h10m41s  (61.4%)6.9%  lr: 0.019219  loss: 0.001603  eta: 0h6m  tot: 0h10m42s  (61.4%)7.5%  lr: 0.019179  loss: 0.001612  eta: 0h6m  tot: 0h10m43s  (61.5%)7.9%  lr: 0.019139  loss: 0.001604  eta: 0h6m  tot: 0h10m44s  (61.6%)8.4%  lr: 0.019089  loss: 0.001580  eta: 0h6m  tot: 0h10m45s  (61.7%)8.5%  lr: 0.019079  loss: 0.001580  eta: 0h6m  tot: 0h10m45s  (61.7%)8.6%  lr: 0.019069  loss: 0.001583  eta: 0h6m  tot: 0h10m45s  (61.7%)8.9%  lr: 0.019039  loss: 0.001588  eta: 0h6m  tot: 0h10m46s  (61.8%)9.1%  lr: 0.019029  loss: 0.001587  eta: 0h6m  tot: 0h10m46s  (61.8%)10.1%  lr: 0.018879  loss: 0.001627  eta: 0h6m  tot: 0h10m48s  (62.0%)10.2%  lr: 0.018869  loss: 0.001626  eta: 0h6m  tot: 0h10m49s  (62.0%)10.7%  lr: 0.018839  loss: 0.001620  eta: 0h6m  tot: 0h10m49s  (62.1%)11.0%  lr: 0.018809  loss: 0.001603  eta: 0h6m  tot: 0h10m50s  (62.2%)11.7%  lr: 0.018739  loss: 0.001569  eta: 0h6m  tot: 0h10m51s  (62.3%)11.8%  lr: 0.018729  loss: 0.001563  eta: 0h6m  tot: 0h10m51s  (62.4%)12.7%  lr: 0.018649  loss: 0.001570  eta: 0h6m  tot: 0h10m53s  (62.5%)12.9%  lr: 0.018649  loss: 0.001576  eta: 0h6m  tot: 0h10m54s  (62.6%)13.2%  lr: 0.018599  loss: 0.001574  eta: 0h6m  tot: 0h10m54s  (62.6%)14.0%  lr: 0.018489  loss: 0.001574  eta: 0h6m  tot: 0h10m56s  (62.8%)14.2%  lr: 0.018479  loss: 0.001569  eta: 0h6m  tot: 0h10m57s  (62.8%)14.3%  lr: 0.018479  loss: 0.001563  eta: 0h6m  tot: 0h10m57s  (62.9%)0h6m  tot: 0h10m57s  (62.9%)15.2%  lr: 0.018398  loss: 0.001539  eta: 0h6m  tot: 0h10m58s  (63.0%)15.3%  lr: 0.018378  loss: 0.001538  eta: 0h6m  tot: 0h10m59s  (63.1%)16.3%  lr: 0.018278  loss: 0.001538  eta: 0h6m  tot: 0h11m0s  (63.3%)17.0%  lr: 0.018248  loss: 0.001540  eta: 0h6m  tot: 0h11m1s  (63.4%)%  lr: 0.017958  loss: 0.001542  eta: 0h5m  tot: 0h11m5s  (63.8%)19.4%  lr: 0.017908  loss: 0.001540  eta: 0h5m  tot: 0h11m6s  (63.9%)19.5%  lr: 0.017908  loss: 0.001538  eta: 0h5m  tot: 0h11m7s  (63.9%)19.6%  lr: 0.017898  loss: 0.001542  eta: 0h5m  tot: 0h11m7s  (63.9%)20.2%  lr: 0.017838  loss: 0.001532  eta: 0h5m  tot: 0h11m8s  (64.0%)20.5%  lr: 0.017778  loss: 0.001536  eta: 0h5m  tot: 0h11m9s  (64.1%)11m9s  (64.2%)21.8%  lr: 0.017648  loss: 0.001582  eta: 0h5m  tot: 0h11m11s  (64.4%)22.6%  lr: 0.017558  loss: 0.001570  eta: 0h5m  tot: 0h11m12s  (64.5%)22.9%  lr: 0.017518  loss: 0.001575  eta: 0h5m  tot: 0h11m13s  (64.6%)23.7%  lr: 0.017417  loss: 0.001561  eta: 0h5m  tot: 0h11m14s  (64.7%)23.9%  lr: 0.017417  loss: 0.001553  eta: 0h5m  tot: 0h11m15s  (64.8%)24.0%  lr: 0.017417  loss: 0.001552  eta: 0h5m  tot: 0h11m15s  (64.8%)24.4%  lr: 0.017367  loss: 0.001552  eta: 0h5m  tot: 0h11m16s  (64.9%)25.1%  lr: 0.017297  loss: 0.001547  eta: 0h5m  tot: 0h11m17s  (65.0%)25.5%  lr: 0.017247  loss: 0.001556  eta: 0h5m  tot: 0h11m18s  (65.1%)%  lr: 0.017217  loss: 0.001553  eta: 0h5m  tot: 0h11m18s  (65.1%)28.1%  lr: 0.016947  loss: 0.001579  eta: 0h5m  tot: 0h11m23s  (65.6%)28.4%  lr: 0.016947  loss: 0.001585  eta: 0h5m  tot: 0h11m24s  (65.7%)%  lr: 0.016947  loss: 0.001579  eta: 0h5m  tot: 0h11m24s  (65.7%)%  lr: 0.016937  loss: 0.001578  eta: 0h5m  tot: 0h11m24s  (65.8%)29.6%  lr: 0.016837  loss: 0.001574  eta: 0h5m  tot: 0h11m26s  (65.9%)30.9%  lr: 0.016737  loss: 0.001563  eta: 0h5m  tot: 0h11m28s  (66.2%)31.3%  lr: 0.016657  loss: 0.001569  eta: 0h5m  tot: 0h11m29s  (66.3%)%  lr: 0.016647  loss: 0.001573  eta: 0h5m  tot: 0h11m30s  (66.3%)32.8%  lr: 0.016567  loss: 0.001573  eta: 0h5m  tot: 0h11m32s  (66.6%)32.9%  lr: 0.016567  loss: 0.001573  eta: 0h5m  tot: 0h11m32s  (66.6%)%  lr: 0.016557  loss: 0.001572  eta: 0h5m  tot: 0h11m33s  (66.6%)33.5%  lr: 0.016547  loss: 0.001583  eta: 0h5m  tot: 0h11m33s  (66.7%)33.7%  lr: 0.016517  loss: 0.001586  eta: 0h5m  tot: 0h11m34s  (66.7%)33.8%  lr: 0.016517  loss: 0.001582  eta: 0h5m  tot: 0h11m34s  (66.8%)66.9%)34.7%  lr: 0.016447  loss: 0.001583  eta: 0h5m  tot: 0h11m36s  (66.9%)35.1%  lr: 0.016376  loss: 0.001580  eta: 0h5m  tot: 0h11m37s  (67.0%)37s  (67.1%)%  lr: 0.016366  loss: 0.001582  eta: 0h5m  tot: 0h11m37s  (67.1%)35.9%  lr: 0.016316  loss: 0.001581  eta: 0h5m  tot: 0h11m38s  (67.2%)%  lr: 0.016226  loss: 0.001578  eta: 0h5m  tot: 0h11m41s  (67.5%)37.9%  lr: 0.016136  loss: 0.001582  eta: 0h5m  tot: 0h11m43s  (67.6%)38.1%  lr: 0.016136  loss: 0.001581  eta: 0h5m  tot: 0h11m43s  (67.6%)38.3%  lr: 0.016116  loss: 0.001582  eta: 0h5m  tot: 0h11m43s  (67.7%)38.6%  lr: 0.016056  loss: 0.001578  eta: 0h5m  tot: 0h11m44s  (67.7%)39.5%  lr: 0.015956  loss: 0.001562  eta: 0h5m  tot: 0h11m46s  (67.9%)40.1%  lr: 0.015896  loss: 0.001558  eta: 0h5m  tot: 0h11m47s  (68.0%)40.2%  lr: 0.015896  loss: 0.001558  eta: 0h5m  tot: 0h11m47s  (68.0%) (68.1%)  eta: 0h5m  tot: 0h11m48s  (68.1%)40.6%  lr: 0.015846  loss: 0.001552  eta: 0h5m  tot: 0h11m49s  (68.1%)41.0%  lr: 0.015836  loss: 0.001557  eta: 0h5m  tot: 0h11m50s  (68.2%)41.5%  lr: 0.015786  loss: 0.001555  eta: 0h5m  tot: 0h11m51s  (68.3%)  lr: 0.015776  loss: 0.001560  eta: 0h5m  tot: 0h11m52s  (68.4%)%  lr: 0.015736  loss: 0.001558  eta: 0h5m  tot: 0h11m53s  (68.5%)%  lr: 0.015616  loss: 0.001568  eta: 0h5m  tot: 0h11m55s  (68.7%)43.8%  lr: 0.015616  loss: 0.001571  eta: 0h5m  tot: 0h11m55s  (68.8%)43.8%  lr: 0.015616  loss: 0.001578  eta: 0h5m  tot: 0h11m55s  (68.8%)44.7%  lr: 0.015526  loss: 0.001575  eta: 0h5m  tot: 0h11m57s  (68.9%)44.8%  lr: 0.015506  loss: 0.001576  eta: 0h5m  tot: 0h11m57s  (69.0%)45.5%  lr: 0.015466  loss: 0.001571  eta: 0h5m  tot: 0h11m59s  (69.1%)46.5%  lr: 0.015385  loss: 0.001574  eta: 0h5m  tot: 0h12m1s  (69.3%)47.2%  lr: 0.015295  loss: 0.001579  eta: 0h5m  tot: 0h12m3s  (69.4%)%  lr: 0.015275  loss: 0.001576  eta: 0h5m  tot: 0h12m4s  (69.5%)47.7%  lr: 0.015265  loss: 0.001576  eta: 0h5m  tot: 0h12m4s  (69.5%)47.8%  lr: 0.015255  loss: 0.001575  eta: 0h5m  tot: 0h12m4s  (69.6%)48.0%  lr: 0.015255  loss: 0.001575  eta: 0h5m  tot: 0h12m5s  (69.6%)48.5%  lr: 0.015165  loss: 0.001572  eta: 0h5m  tot: 0h12m6s  (69.7%)48.6%  lr: 0.015155  loss: 0.001572  eta: 0h5m  tot: 0h12m7s  (69.7%)49.8%  lr: 0.015035  loss: 0.001563  eta: 0h5m  tot: 0h12m9s  (70.0%)50.4%  lr: 0.014935  loss: 0.001566  eta: 0h5m  tot: 0h12m10s  (70.1%)52.3%  lr: 0.014765  loss: 0.001572  eta: 0h5m  tot: 0h12m15s  (70.5%)  lr: 0.014665  loss: 0.001572  eta: 0h5m  tot: 0h12m17s  (70.6%)53.0%  lr: 0.014635  loss: 0.001572  eta: 0h5m  tot: 0h12m17s  (70.6%)53.8%  lr: 0.014565  loss: 0.001568  eta: 0h5m  tot: 0h12m19s  (70.8%)53.9%  lr: 0.014565  loss: 0.001567  eta: 0h5m  tot: 0h12m19s  (70.8%)0.014535  loss: 0.001572  eta: 0h5m  tot: 0h12m20s  (70.8%)54.5%  lr: 0.014485  loss: 0.001569  eta: 0h5m  tot: 0h12m21s  (70.9%)54.7%  lr: 0.014485  loss: 0.001569  eta: 0h5m  tot: 0h12m21s  (70.9%)54.8%  lr: 0.014455  loss: 0.001570  eta: 0h5m  tot: 0h12m22s  (71.0%)55.2%  lr: 0.014415  loss: 0.001568  eta: 0h5m  tot: 0h12m22s  (71.0%)55.3%  lr: 0.014415  loss: 0.001568  eta: 0h5m  tot: 0h12m23s  (71.1%)55.5%  lr: 0.014415  loss: 0.001574  eta: 0h4m  tot: 0h12m23s  (71.1%)57.6%  lr: 0.014194  loss: 0.001575  eta: 0h5m  tot: 0h12m30s  (71.5%)57.9%  lr: 0.014174  loss: 0.001574  eta: 0h5m  tot: 0h12m31s  (71.6%)"
     ]
    },
    {
     "name": "stdout",
     "output_type": "stream",
     "text": [
      "Epoch: 100.0%  lr: 0.010140  loss: 0.001559  eta: 0h3m  tot: 0h14m19s  (80.0%)8.3%  lr: 0.014124  loss: 0.001573  eta: 0h5m  tot: 0h12m32s  (71.7%)58.8%  lr: 0.014074  loss: 0.001575  eta: 0h5m  tot: 0h12m33s  (71.8%)59.4%  lr: 0.013974  loss: 0.001582  eta: 0h5m  tot: 0h12m35s  (71.9%)59.7%  lr: 0.013954  loss: 0.001578  eta: 0h4m  tot: 0h12m35s  (71.9%)59.9%  lr: 0.013944  loss: 0.001578  eta: 0h4m  tot: 0h12m36s  (72.0%)60.0%  lr: 0.013944  loss: 0.001581  eta: 0h4m  tot: 0h12m36s  (72.0%)60.2%  lr: 0.013934  loss: 0.001580  eta: 0h4m  tot: 0h12m37s  (72.0%)60.7%  lr: 0.013924  loss: 0.001579  eta: 0h4m  tot: 0h12m37s  (72.1%)61.3%  lr: 0.013824  loss: 0.001580  eta: 0h4m  tot: 0h12m39s  (72.3%)61.8%  lr: 0.013784  loss: 0.001577  eta: 0h4m  tot: 0h12m40s  (72.4%)62.2%  lr: 0.013754  loss: 0.001577  eta: 0h4m  tot: 0h12m41s  (72.4%)62.6%  lr: 0.013714  loss: 0.001572  eta: 0h4m  tot: 0h12m42s  (72.5%)62.9%  lr: 0.013684  loss: 0.001569  eta: 0h4m  tot: 0h12m43s  (72.6%)63.3%  lr: 0.013644  loss: 0.001570  eta: 0h4m  tot: 0h12m44s  (72.7%)63.4%  lr: 0.013624  loss: 0.001570  eta: 0h4m  tot: 0h12m44s  (72.7%)64.4%  lr: 0.013554  loss: 0.001571  eta: 0h4m  tot: 0h12m47s  (72.9%)64.5%  lr: 0.013554  loss: 0.001572  eta: 0h4m  tot: 0h12m47s  (72.9%)64.6%  lr: 0.013514  loss: 0.001573  eta: 0h4m  tot: 0h12m47s  (72.9%)0.013343  loss: 0.001570  eta: 0h4m  tot: 0h12m51s  (73.3%)66.7%  lr: 0.013323  loss: 0.001569  eta: 0h4m  tot: 0h12m51s  (73.3%)  eta: 0h4m  tot: 0h12m52s  (73.4%)66.9%  lr: 0.013323  loss: 0.001570  eta: 0h4m  tot: 0h12m52s  (73.4%)67.1%  lr: 0.013313  loss: 0.001568  eta: 0h4m  tot: 0h12m52s  (73.4%)68.0%  lr: 0.013253  loss: 0.001569  eta: 0h4m  tot: 0h12m54s  (73.6%)68.1%  lr: 0.013243  loss: 0.001569  eta: 0h4m  tot: 0h12m54s  (73.6%)68.2%  lr: 0.013233  loss: 0.001568  eta: 0h4m  tot: 0h12m54s  (73.6%)68.9%  lr: 0.013163  loss: 0.001565  eta: 0h4m  tot: 0h12m56s  (73.8%)69.1%  lr: 0.013153  loss: 0.001565  eta: 0h4m  tot: 0h12m57s  (73.8%)69.2%  lr: 0.013143  loss: 0.001564  eta: 0h4m  tot: 0h12m57s  (73.8%)%  lr: 0.013083  loss: 0.001565  eta: 0h4m  tot: 0h12m57s  (73.9%)69.9%  lr: 0.013063  loss: 0.001565  eta: 0h4m  tot: 0h12m58s  (74.0%)70.0%  lr: 0.013063  loss: 0.001566  eta: 0h4m  tot: 0h12m58s  (74.0%)70.8%  lr: 0.012953  loss: 0.001568  eta: 0h4m  tot: 0h13m0s  (74.2%)72.8%  lr: 0.012783  loss: 0.001571  eta: 0h4m  tot: 0h13m4s  (74.6%)74.4%  lr: 0.012643  loss: 0.001575  eta: 0h4m  tot: 0h13m10s  (74.9%)74.6%  lr: 0.012643  loss: 0.001574  eta: 0h4m  tot: 0h13m11s  (74.9%)74.8%  lr: 0.012633  loss: 0.001574  eta: 0h4m  tot: 0h13m12s  (75.0%)  lr: 0.012633  loss: 0.001574  eta: 0h4m  tot: 0h13m12s  (75.0%)%  lr: 0.012613  loss: 0.001570  eta: 0h4m  tot: 0h13m13s  (75.1%)75.3%  lr: 0.012603  loss: 0.001571  eta: 0h4m  tot: 0h13m14s  (75.1%)75.5%  lr: 0.012603  loss: 0.001572  eta: 0h4m  tot: 0h13m14s  (75.1%)76.0%  lr: 0.012563  loss: 0.001573  eta: 0h4m  tot: 0h13m16s  (75.2%)76.9%  lr: 0.012443  loss: 0.001572  eta: 0h4m  tot: 0h13m18s  (75.4%)77.3%  lr: 0.012362  loss: 0.001572  eta: 0h4m  tot: 0h13m19s  (75.5%)77.7%  lr: 0.012342  loss: 0.001571  eta: 0h4m  tot: 0h13m20s  (75.5%)78.0%  lr: 0.012332  loss: 0.001573  eta: 0h4m  tot: 0h13m20s  (75.6%)78.2%  lr: 0.012302  loss: 0.001571  eta: 0h4m  tot: 0h13m21s  (75.6%)78.4%  lr: 0.012302  loss: 0.001573  eta: 0h4m  tot: 0h13m21s  (75.7%)%  lr: 0.012202  loss: 0.001581  eta: 0h4m  tot: 0h13m23s  (75.8%)79.2%  lr: 0.012192  loss: 0.001579  eta: 0h4m  tot: 0h13m23s  (75.8%)80.0%  lr: 0.012102  loss: 0.001579  eta: 0h4m  tot: 0h13m25s  (76.0%)81.2%  lr: 0.012052  loss: 0.001586  eta: 0h4m  tot: 0h13m27s  (76.2%)0.012012  loss: 0.001586  eta: 0h4m  tot: 0h13m29s  (76.3%)%  lr: 0.011962  loss: 0.001585  eta: 0h4m  tot: 0h13m30s  (76.4%)82.9%  lr: 0.011882  loss: 0.001582  eta: 0h4m  tot: 0h13m31s  (76.6%)m  tot: 0h13m35s  (76.9%)86.0%  lr: 0.011602  loss: 0.001573  eta: 0h4m  tot: 0h13m38s  (77.2%)87.0%  lr: 0.011472  loss: 0.001571  eta: 0h4m  tot: 0h13m40s  (77.4%)%  lr: 0.011281  loss: 0.001570  eta: 0h4m  tot: 0h13m46s  (77.8%)89.1%  lr: 0.011241  loss: 0.001568  eta: 0h4m  tot: 0h13m46s  (77.8%)89.6%  lr: 0.011211  loss: 0.001567  eta: 0h4m  tot: 0h13m48s  (77.9%)89.8%  lr: 0.011151  loss: 0.001567  eta: 0h4m  tot: 0h13m50s  (78.0%)90.8%  lr: 0.011101  loss: 0.001566  eta: 0h4m  tot: 0h13m53s  (78.2%)91.0%  lr: 0.011091  loss: 0.001567  eta: 0h4m  tot: 0h13m53s  (78.2%)91.5%  lr: 0.011041  loss: 0.001566  eta: 0h4m  tot: 0h13m56s  (78.3%)91.8%  lr: 0.011011  loss: 0.001564  eta: 0h4m  tot: 0h13m57s  (78.4%)92.1%  lr: 0.010981  loss: 0.001561  eta: 0h4m  tot: 0h13m57s  (78.4%)92.3%  lr: 0.010971  loss: 0.001560  eta: 0h4m  tot: 0h13m58s  (78.5%)94.1%  lr: 0.010801  loss: 0.001567  eta: 0h4m  tot: 0h14m2s  (78.8%)94.4%  lr: 0.010771  loss: 0.001565  eta: 0h4m  tot: 0h14m3s  (78.9%)94.5%  lr: 0.010761  loss: 0.001566  eta: 0h4m  tot: 0h14m3s  (78.9%)95.0%  lr: 0.010721  loss: 0.001566  eta: 0h3m  tot: 0h14m4s  (79.0%)95.3%  lr: 0.010661  loss: 0.001566  eta: 0h3m  tot: 0h14m5s  (79.1%)95.5%  lr: 0.010641  loss: 0.001566  eta: 0h3m  tot: 0h14m5s  (79.1%)%  lr: 0.010551  loss: 0.001562  eta: 0h3m  tot: 0h14m8s  (79.2%)97.5%  lr: 0.010391  loss: 0.001562  eta: 0h3m  tot: 0h14m13s  (79.5%)97.6%  lr: 0.010391  loss: 0.001562  eta: 0h3m  tot: 0h14m14s  (79.5%)97.9%  lr: 0.010361  loss: 0.001563  eta: 0h3m  tot: 0h14m15s  (79.6%)98.0%  lr: 0.010320  loss: 0.001562  eta: 0h3m  tot: 0h14m15s  (79.6%)%  lr: 0.010320  loss: 0.001562  eta: 0h3m  tot: 0h14m16s  (79.7%)99.7%  lr: 0.010160  loss: 0.001560  eta: 0h3m  tot: 0h14m18s  (79.9%)\n",
      " ---+++                Epoch    3 Train error : 0.00155729 +++--- ���\n",
      "Training epoch 4: 0.01 0.01\n",
      "Epoch: 64.8%  lr: 0.003323  loss: 0.001369  eta: 0h1m  tot: 0h16m55s  (93.0%).6%  lr: 0.009970  loss: 0.001294  eta: 0h3m  tot: 0h14m23s  (80.1%)1.2%  lr: 0.009940  loss: 0.001069  eta: 0h3m  tot: 0h14m25s  (80.2%)1.3%  lr: 0.009940  loss: 0.001030  eta: 0h3m  tot: 0h14m25s  (80.3%)1.3%  lr: 0.009940  loss: 0.001138  eta: 0h3m  tot: 0h14m25s  (80.3%)1.7%  lr: 0.009900  loss: 0.001101  eta: 0h3m  tot: 0h14m26s  (80.3%)1.8%  lr: 0.009880  loss: 0.001113  eta: 0h3m  tot: 0h14m26s  (80.4%)2.0%  lr: 0.009880  loss: 0.001158  eta: 0h3m  tot: 0h14m27s  (80.4%)2.2%  lr: 0.009870  loss: 0.001127  eta: 0h3m  tot: 0h14m27s  (80.4%)3.7%  lr: 0.009780  loss: 0.001046  eta: 0h3m  tot: 0h14m30s  (80.7%)3.9%  lr: 0.009780  loss: 0.001078  eta: 0h3m  tot: 0h14m30s  (80.8%)4.5%  lr: 0.009700  loss: 0.001135  eta: 0h3m  tot: 0h14m32s  (80.9%)5.1%  lr: 0.009560  loss: 0.001207  eta: 0h3m  tot: 0h14m33s  (81.0%)5.6%  lr: 0.009489  loss: 0.001234  eta: 0h3m  tot: 0h14m34s  (81.1%)5.7%  lr: 0.009459  loss: 0.001241  eta: 0h3m  tot: 0h14m35s  (81.1%)6.3%  lr: 0.009429  loss: 0.001245  eta: 0h3m  tot: 0h14m36s  (81.3%)6.8%  lr: 0.009399  loss: 0.001245  eta: 0h3m  tot: 0h14m37s  (81.4%)7.8%  lr: 0.009259  loss: 0.001280  eta: 0h3m  tot: 0h14m40s  (81.6%)8.4%  lr: 0.009229  loss: 0.001295  eta: 0h3m  tot: 0h14m42s  (81.7%)%  lr: 0.009169  loss: 0.001320  eta: 0h3m  tot: 0h14m44s  (81.8%)9.5%  lr: 0.009129  loss: 0.001356  eta: 0h3m  tot: 0h14m46s  (81.9%)10.4%  lr: 0.009079  loss: 0.001349  eta: 0h3m  tot: 0h14m49s  (82.1%)11.7%  lr: 0.008989  loss: 0.001359  eta: 0h3m  tot: 0h14m52s  (82.3%)  loss: 0.001380  eta: 0h3m  tot: 0h14m54s  (82.5%)12.4%  lr: 0.008959  loss: 0.001378  eta: 0h3m  tot: 0h14m54s  (82.5%)13.8%  lr: 0.008719  loss: 0.001352  eta: 0h3m  tot: 0h14m58s  (82.8%)14.9%  lr: 0.008549  loss: 0.001339  eta: 0h3m  tot: 0h15m1s  (83.0%)18.5%  lr: 0.008138  loss: 0.001344  eta: 0h3m  tot: 0h15m9s  (83.7%)18.8%  lr: 0.008078  loss: 0.001344  eta: 0h3m  tot: 0h15m10s  (83.8%)18.9%  lr: 0.008078  loss: 0.001342  eta: 0h3m  tot: 0h15m10s  (83.8%)19.3%  lr: 0.008038  loss: 0.001340  eta: 0h3m  tot: 0h15m11s  (83.9%)20.2%  lr: 0.007938  loss: 0.001346  eta: 0h3m  tot: 0h15m14s  (84.0%)%  lr: 0.007918  loss: 0.001341  eta: 0h3m  tot: 0h15m14s  (84.1%)20.8%  lr: 0.007888  loss: 0.001336  eta: 0h3m  tot: 0h15m15s  (84.2%)21.2%  lr: 0.007868  loss: 0.001334  eta: 0h3m  tot: 0h15m17s  (84.2%)21.3%  lr: 0.007868  loss: 0.001332  eta: 0h3m  tot: 0h15m17s  (84.3%)21.7%  lr: 0.007808  loss: 0.001342  eta: 0h3m  tot: 0h15m18s  (84.3%)22.3%  lr: 0.007738  loss: 0.001345  eta: 0h3m  tot: 0h15m20s  (84.5%)%  lr: 0.007678  loss: 0.001359  eta: 0h3m  tot: 0h15m21s  (84.6%)23.1%  lr: 0.007658  loss: 0.001359  eta: 0h3m  tot: 0h15m21s  (84.6%)23.4%  lr: 0.007598  loss: 0.001357  eta: 0h3m  tot: 0h15m22s  (84.7%)24.0%  lr: 0.007538  loss: 0.001363  eta: 0h3m  tot: 0h15m23s  (84.8%)24.4%  lr: 0.007498  loss: 0.001355  eta: 0h3m  tot: 0h15m24s  (84.9%)24.5%  lr: 0.007478  loss: 0.001352  eta: 0h3m  tot: 0h15m24s  (84.9%)24.8%  lr: 0.007437  loss: 0.001349  eta: 0h3m  tot: 0h15m25s  (85.0%)25.6%  lr: 0.007347  loss: 0.001369  eta: 0h3m  tot: 0h15m27s  (85.1%)26.6%  lr: 0.007287  loss: 0.001375  eta: 0h3m  tot: 0h15m29s  (85.3%)26.8%  lr: 0.007247  loss: 0.001384  eta: 0h3m  tot: 0h15m30s  (85.4%)27.0%  lr: 0.007237  loss: 0.001380  eta: 0h3m  tot: 0h15m30s  (85.4%)27.5%  lr: 0.007217  loss: 0.001370  eta: 0h3m  tot: 0h15m31s  (85.5%)27.8%  lr: 0.007177  loss: 0.001366  eta: 0h3m  tot: 0h15m32s  (85.6%)28.5%  lr: 0.007107  loss: 0.001372  eta: 0h2m  tot: 0h15m33s  (85.7%)%  lr: 0.007097  loss: 0.001372  eta: 0h2m  tot: 0h15m34s  (85.7%)29.3%  lr: 0.007057  loss: 0.001378  eta: 0h2m  tot: 0h15m35s  (85.9%)29.3%  lr: 0.007057  loss: 0.001378  eta: 0h2m  tot: 0h15m35s  (85.9%)30.5%  lr: 0.006927  loss: 0.001390  eta: 0h2m  tot: 0h15m37s  (86.1%)31.1%  lr: 0.006847  loss: 0.001379  eta: 0h2m  tot: 0h15m38s  (86.2%)32.5%  lr: 0.006687  loss: 0.001388  eta: 0h2m  tot: 0h15m42s  (86.5%)33.0%  lr: 0.006587  loss: 0.001387  eta: 0h2m  tot: 0h15m43s  (86.6%)33.1%  lr: 0.006577  loss: 0.001391  eta: 0h2m  tot: 0h15m43s  (86.6%)33.4%  lr: 0.006557  loss: 0.001394  eta: 0h2m  tot: 0h15m44s  (86.7%)36.2%  lr: 0.006246  loss: 0.001394  eta: 0h2m  tot: 0h15m50s  (87.2%)36.6%  lr: 0.006196  loss: 0.001398  eta: 0h2m  tot: 0h15m51s  (87.3%)37.0%  lr: 0.006156  loss: 0.001397  eta: 0h2m  tot: 0h15m52s  (87.4%)%  lr: 0.006096  loss: 0.001389  eta: 0h2m  tot: 0h15m54s  (87.7%)39.8%  lr: 0.006016  loss: 0.001388  eta: 0h2m  tot: 0h15m57s  (88.0%)40.2%  lr: 0.005986  loss: 0.001389  eta: 0h2m  tot: 0h15m58s  (88.0%)41.4%  lr: 0.005876  loss: 0.001385  eta: 0h2m  tot: 0h16m1s  (88.3%)41.8%  lr: 0.005876  loss: 0.001386  eta: 0h2m  tot: 0h16m1s  (88.4%)41.9%  lr: 0.005846  loss: 0.001386  eta: 0h2m  tot: 0h16m1s  (88.4%)42.3%  lr: 0.005796  loss: 0.001386  eta: 0h2m  tot: 0h16m2s  (88.5%)%  lr: 0.005786  loss: 0.001385  eta: 0h2m  tot: 0h16m3s  (88.5%)42.6%  lr: 0.005776  loss: 0.001385  eta: 0h2m  tot: 0h16m3s  (88.5%)42.8%  lr: 0.005746  loss: 0.001386  eta: 0h2m  tot: 0h16m4s  (88.6%)44.7%  lr: 0.005546  loss: 0.001374  eta: 0h2m  tot: 0h16m9s  (88.9%)44.7%  lr: 0.005506  loss: 0.001373  eta: 0h2m  tot: 0h16m9s  (88.9%)45.3%  lr: 0.005456  loss: 0.001368  eta: 0h2m  tot: 0h16m10s  (89.1%)%  lr: 0.005446  loss: 0.001372  eta: 0h2m  tot: 0h16m10s  (89.1%)45.5%  lr: 0.005436  loss: 0.001371  eta: 0h2m  tot: 0h16m11s  (89.1%)45.6%  lr: 0.005436  loss: 0.001371  eta: 0h2m  tot: 0h16m11s  (89.1%)47.1%  lr: 0.005325  loss: 0.001378  eta: 0h2m  tot: 0h16m15s  (89.4%)48.1%  lr: 0.005195  loss: 0.001373  eta: 0h2m  tot: 0h16m17s  (89.6%)48.2%  lr: 0.005165  loss: 0.001374  eta: 0h2m  tot: 0h16m18s  (89.6%)%  lr: 0.005075  loss: 0.001372  eta: 0h2m  tot: 0h16m19s  (89.8%)  loss: 0.001372  eta: 0h2m  tot: 0h16m19s  (89.8%)49.1%  lr: 0.005025  loss: 0.001371  eta: 0h2m  tot: 0h16m20s  (89.8%)50.2%  lr: 0.004925  loss: 0.001369  eta: 0h1m  tot: 0h16m23s  (90.0%)50.4%  lr: 0.004905  loss: 0.001367  eta: 0h1m  tot: 0h16m23s  (90.1%)50.9%  lr: 0.004875  loss: 0.001370  eta: 0h1m  tot: 0h16m24s  (90.2%)51.1%  lr: 0.004845  loss: 0.001369  eta: 0h1m  tot: 0h16m25s  (90.2%)51.8%  lr: 0.004775  loss: 0.001372  eta: 0h1m  tot: 0h16m26s  (90.4%)52.0%  lr: 0.004775  loss: 0.001371  eta: 0h1m  tot: 0h16m27s  (90.4%)52.5%  lr: 0.004735  loss: 0.001367  eta: 0h1m  tot: 0h16m28s  (90.5%)53.0%  lr: 0.004685  loss: 0.001368  eta: 0h1m  tot: 0h16m30s  (90.6%)53.4%  lr: 0.004655  loss: 0.001368  eta: 0h1m  tot: 0h16m30s  (90.7%)53.6%  lr: 0.004625  loss: 0.001369  eta: 0h1m  tot: 0h16m31s  (90.7%)53.7%  lr: 0.004595  loss: 0.001368  eta: 0h1m  tot: 0h16m31s  (90.7%)54.4%  lr: 0.004545  loss: 0.001371  eta: 0h1m  tot: 0h16m32s  (90.9%)55.0%  lr: 0.004515  loss: 0.001373  eta: 0h1m  tot: 0h16m33s  (91.0%)55.2%  lr: 0.004485  loss: 0.001374  eta: 0h1m  tot: 0h16m34s  (91.0%)56.9%  lr: 0.004264  loss: 0.001373  eta: 0h1m  tot: 0h16m39s  (91.4%)57.1%  lr: 0.004254  loss: 0.001376  eta: 0h1m  tot: 0h16m39s  (91.4%)57.2%  lr: 0.004224  loss: 0.001377  eta: 0h1m  tot: 0h16m40s  (91.4%)%  lr: 0.004134  loss: 0.001375  eta: 0h1m  tot: 0h16m41s  (91.5%)58.7%  lr: 0.004054  loss: 0.001370  eta: 0h1m  tot: 0h16m43s  (91.7%)59.1%  lr: 0.004024  loss: 0.001370  eta: 0h1m  tot: 0h16m44s  (91.8%)59.6%  lr: 0.003934  loss: 0.001370  eta: 0h1m  tot: 0h16m45s  (91.9%)59.8%  lr: 0.003914  loss: 0.001368  eta: 0h1m  tot: 0h16m45s  (92.0%)60.4%  lr: 0.003864  loss: 0.001366  eta: 0h1m  tot: 0h16m46s  (92.1%)60.6%  lr: 0.003834  loss: 0.001369  eta: 0h1m  tot: 0h16m47s  (92.1%)%  lr: 0.003814  loss: 0.001371  eta: 0h1m  tot: 0h16m47s  (92.1%)62.3%  lr: 0.003594  loss: 0.001376  eta: 0h1m  tot: 0h16m50s  (92.5%)62.6%  lr: 0.003584  loss: 0.001375  eta: 0h1m  tot: 0h16m51s  (92.5%)62.7%  lr: 0.003574  loss: 0.001375  eta: 0h1m  tot: 0h16m51s  (92.5%)63.2%  lr: 0.003534  loss: 0.001373  eta: 0h1m  tot: 0h16m52s  (92.6%)64.2%  lr: 0.003434  loss: 0.001371  eta: 0h1m  tot: 0h16m54s  (92.8%)64.5%  lr: 0.003373  loss: 0.001371  eta: 0h1m  tot: 0h16m54s  (92.9%)64.7%  lr: 0.003333  loss: 0.001369  eta: 0h1m  tot: 0h16m55s  (92.9%)64.9%  lr: 0.003323  loss: 0.001369  eta: 0h1m  tot: 0h16m55s  (93.0%)Epoch: 100.0%  lr: 0.000260  loss: 0.001391  eta: <1min   tot: 0h18m1s  (100.0%)1%  lr: 0.003323  loss: 0.001371  eta: 0h1m  tot: 0h16m55s  (93.0%)65.2%  lr: 0.003303  loss: 0.001372  eta: 0h1m  tot: 0h16m56s  (93.0%)65.5%  lr: 0.003263  loss: 0.001370  eta: 0h1m  tot: 0h16m56s  (93.1%)65.7%  lr: 0.003243  loss: 0.001375  eta: 0h1m  tot: 0h16m57s  (93.1%)66.4%  lr: 0.003203  loss: 0.001376  eta: 0h1m  tot: 0h16m58s  (93.3%)66.6%  lr: 0.003193  loss: 0.001374  eta: 0h1m  tot: 0h16m58s  (93.3%)68.0%  lr: 0.003123  loss: 0.001370  eta: 0h1m  tot: 0h17m0s  (93.6%)69.0%  lr: 0.003023  loss: 0.001369  eta: 0h1m  tot: 0h17m2s  (93.8%)69.9%  lr: 0.002983  loss: 0.001370  eta: 0h1m  tot: 0h17m4s  (94.0%)71.2%  lr: 0.002873  loss: 0.001370  eta: 0h1m  tot: 0h17m6s  (94.2%)71.7%  lr: 0.002843  loss: 0.001368  eta: 0h1m  tot: 0h17m7s  (94.3%)71.9%  lr: 0.002813  loss: 0.001368  eta: 0h1m  tot: 0h17m7s  (94.4%)73.2%  lr: 0.002643  loss: 0.001366  eta: 0h1m  tot: 0h17m10s  (94.6%)73.3%  lr: 0.002633  loss: 0.001365  eta: 0h1m  tot: 0h17m10s  (94.7%)73.4%  lr: 0.002623  loss: 0.001367  eta: 0h1m  tot: 0h17m10s  (94.7%)73.7%  lr: 0.002583  loss: 0.001369  eta: 0h1m  tot: 0h17m11s  (94.7%)75.3%  lr: 0.002402  loss: 0.001374  eta: <1min   tot: 0h17m14s  (95.1%)%  lr: 0.002332  loss: 0.001372  eta: <1min   tot: 0h17m16s  (95.3%)%  lr: 0.002322  loss: 0.001371  eta: <1min   tot: 0h17m16s  (95.3%)76.8%  lr: 0.002302  loss: 0.001370  eta: <1min   tot: 0h17m17s  (95.4%)77.5%  lr: 0.002202  loss: 0.001372  eta: <1min   tot: 0h17m18s  (95.5%)77.8%  lr: 0.002192  loss: 0.001378  eta: <1min   tot: 0h17m18s  (95.6%)78.7%  lr: 0.002152  loss: 0.001384  eta: <1min   tot: 0h17m20s  (95.7%)78.9%  lr: 0.002122  loss: 0.001382  eta: <1min   tot: 0h17m21s  (95.8%)h17m22s  (95.9%)79.6%  lr: 0.002002  loss: 0.001381  eta: <1min   tot: 0h17m22s  (95.9%)79.7%  lr: 0.001962  loss: 0.001381  eta: <1min   tot: 0h17m22s  (95.9%)80.2%  lr: 0.001932  loss: 0.001382  eta: <1min   tot: 0h17m23s  (96.0%)80.5%  lr: 0.001912  loss: 0.001383  eta: <1min   tot: 0h17m24s  (96.1%)80.8%  lr: 0.001892  loss: 0.001383  eta: <1min   tot: 0h17m25s  (96.2%)%  lr: 0.001882  loss: 0.001382  eta: <1min   tot: 0h17m25s  (96.2%)81.2%  lr: 0.001832  loss: 0.001382  eta: <1min   tot: 0h17m26s  (96.2%)81.5%  lr: 0.001802  loss: 0.001379  eta: <1min   tot: 0h17m27s  (96.3%)82.0%  lr: 0.001762  loss: 0.001381  eta: <1min   tot: 0h17m28s  (96.4%)82.6%  lr: 0.001722  loss: 0.001382  eta: <1min   tot: 0h17m29s  (96.5%)82.8%  lr: 0.001682  loss: 0.001381  eta: <1min   tot: 0h17m29s  (96.6%)83.5%  lr: 0.001622  loss: 0.001381  eta: <1min   tot: 0h17m30s  (96.7%)83.8%  lr: 0.001612  loss: 0.001380  eta: <1min   tot: 0h17m31s  (96.8%)84.1%  lr: 0.001612  loss: 0.001379  eta: <1min   tot: 0h17m31s  (96.8%)84.4%  lr: 0.001592  loss: 0.001379  eta: <1min   tot: 0h17m32s  (96.9%)84.7%  lr: 0.001572  loss: 0.001382  eta: <1min   tot: 0h17m33s  (96.9%)85.1%  lr: 0.001522  loss: 0.001383  eta: <1min   tot: 0h17m34s  (97.0%)85.7%  lr: 0.001502  loss: 0.001381  eta: <1min   tot: 0h17m35s  (97.1%)87.9%  lr: 0.001221  loss: 0.001380  eta: <1min   tot: 0h17m39s  (97.6%)88.0%  lr: 0.001211  loss: 0.001379  eta: <1min   tot: 0h17m40s  (97.6%)88.7%  lr: 0.001161  loss: 0.001380  eta: <1min   tot: 0h17m41s  (97.7%)90.0%  lr: 0.001051  loss: 0.001380  eta: <1min   tot: 0h17m43s  (98.0%)92.3%  lr: 0.000861  loss: 0.001382  eta: <1min   tot: 0h17m47s  (98.5%)92.5%  lr: 0.000821  loss: 0.001382  eta: <1min   tot: 0h17m48s  (98.5%)92.8%  lr: 0.000821  loss: 0.001383  eta: <1min   tot: 0h17m48s  (98.6%)93.7%  lr: 0.000761  loss: 0.001382  eta: <1min   tot: 0h17m50s  (98.7%)93.8%  lr: 0.000761  loss: 0.001383  eta: <1min   tot: 0h17m50s  (98.8%)93.9%  lr: 0.000761  loss: 0.001383  eta: <1min   tot: 0h17m50s  (98.8%)94.2%  lr: 0.000761  loss: 0.001383  eta: <1min   tot: 0h17m51s  (98.8%)96.2%  lr: 0.000631  loss: 0.001386  eta: <1min   tot: 0h17m54s  (99.2%)97.0%  lr: 0.000561  loss: 0.001386  eta: <1min   tot: 0h17m56s  (99.4%)97.9%  lr: 0.000471  loss: 0.001389  eta: <1min   tot: 0h17m57s  (99.6%)97.9%  lr: 0.000471  loss: 0.001389  eta: <1min   tot: 0h17m58s  (99.6%)98.3%  lr: 0.000431  loss: 0.001387  eta: <1min   tot: 0h17m58s  (99.7%)98.8%  lr: 0.000370  loss: 0.001389  eta: <1min   tot: 0h17m59s  (99.8%)99.1%  lr: 0.000350  loss: 0.001392  eta: <1min   tot: 0h18m0s  (99.8%)99.3%  lr: 0.000350  loss: 0.001392  eta: <1min   tot: 0h18m0s  (99.9%)99.8%  lr: 0.000320  loss: 0.001391  eta: <1min   tot: 0h18m1s  (100.0%)\n",
      " ---+++                Epoch    4 Train error : 0.00138627 +++--- ���\n",
      "Saving model to file : mdl\n",
      "Saving model in tsv format : mdl.tsv\n"
     ]
    }
   ],
   "source": [
    "!../Starspace/starspace train -trainFile 'data/p_train_prepare.tsv' -model \"mdl\" -trainMode 3 \\\n",
    "    -adagrad true -ngrams 1 -epoch 5 -dim 100 -minCount 2 -verbose False -fileFormat \"labelDoc\" \\\n",
    "    -negSearchLimit 10 -similarity \"cosine\" -lr 0.05"
   ]
  },
  {
   "cell_type": "markdown",
   "metadata": {
    "collapsed": true
   },
   "source": [
    "And now we can compare the new embeddings with the previous ones. You can find trained word vectors in the file *[model_file_name].tsv*. Upload the embeddings from StarSpace into a dict. "
   ]
  },
  {
   "cell_type": "code",
   "execution_count": 51,
   "metadata": {},
   "outputs": [],
   "source": [
    "import numpy as np\n",
    "starspace_embeddings = {}\n",
    "for line in open(\"./mdl.tsv\"):\n",
    "    word, *vec = line.strip().split()\n",
    "    vf = []\n",
    "    for v in vec:\n",
    "        vf.append(float(v))\n",
    "    starspace_embeddings[word] = np.array(vf)\n"
   ]
  },
  {
   "cell_type": "code",
   "execution_count": 73,
   "metadata": {},
   "outputs": [],
   "source": [
    "ss_prepared_ranking = []\n",
    "for line in prepared_validation:\n",
    "    q, *ex = line\n",
    "    ranks = rank_candidates(q, ex, starspace_embeddings, 100)\n",
    "    ss_prepared_ranking.append([r[0] for r in ranks].index(0) + 1)"
   ]
  },
  {
   "cell_type": "code",
   "execution_count": 74,
   "metadata": {},
   "outputs": [
    {
     "name": "stdout",
     "output_type": "stream",
     "text": [
      "DCG@   1: 0.520 | Hits@   1: 0.520\n",
      "DCG@   5: 0.614 | Hits@   5: 0.696\n",
      "DCG@  10: 0.634 | Hits@  10: 0.756\n",
      "DCG@ 100: 0.666 | Hits@ 100: 0.910\n",
      "DCG@ 500: 0.675 | Hits@ 500: 0.984\n",
      "DCG@1000: 0.677 | Hits@1000: 1.000\n"
     ]
    }
   ],
   "source": [
    "for k in [1, 5, 10, 100, 500, 1000]:\n",
    "    print(\"DCG@%4d: %.3f | Hits@%4d: %.3f\" % (k, dcg_score(ss_prepared_ranking, k), \n",
    "                                               k, hits_count(ss_prepared_ranking, k)))"
   ]
  },
  {
   "cell_type": "markdown",
   "metadata": {},
   "source": [
    "Due to training for the particular task with the supervised data, you should expect to obtain a higher quality than for the previous approach. In additiion, despite the fact that StarSpace's trained vectors have a smaller dimension than word2vec's, it provides better results in this task."
   ]
  },
  {
   "cell_type": "markdown",
   "metadata": {},
   "source": [
    "**Task 5 (StarSpaceRanks).** For each question from prepared *test.tsv* submit the ranks of the candidates for trained representation."
   ]
  },
  {
   "cell_type": "code",
   "execution_count": 58,
   "metadata": {
    "scrolled": true
   },
   "outputs": [
    {
     "data": {
      "text/html": [
       "<div>\n",
       "<style scoped>\n",
       "    .dataframe tbody tr th:only-of-type {\n",
       "        vertical-align: middle;\n",
       "    }\n",
       "\n",
       "    .dataframe tbody tr th {\n",
       "        vertical-align: top;\n",
       "    }\n",
       "\n",
       "    .dataframe thead th {\n",
       "        text-align: right;\n",
       "    }\n",
       "</style>\n",
       "<table border=\"1\" class=\"dataframe\">\n",
       "  <thead>\n",
       "    <tr style=\"text-align: right;\">\n",
       "      <th></th>\n",
       "      <th>access structure member without knowing name\tgwt servlet classnotfoundexception\tslowcheetah transforming entityframework migrations\tdevelopment tools permission set\tgo scene without using button flash asc3\tobjectivec get last 2 characters string\tinserting rails link google maps infowindow\trequire files rails application\tdowhile loop r\txercesc++ dom node line column number location\tpython netcdf4 hdf5\tgenerating md5 hash qt\txsl scenario node present every loop\tabsolute beginners guide working audio c c++\tdescription item name paypal payment received email\tlatex annotation matlab\treplace slashes double quote characters using sed\tiostream library included codeblocks\tsafe processstart implementation untrusted url strings\ttrouble linking php database\tgoogle analytics api error\tpossible return one column using jpa\tneed htaccess redirection\tget full description activity cleartool\tcrystal reports cutting text pdf\tphantomjs mac os x works command line via exec\tdiff multiple files single base file\tremove script tags dom\tliferay login page redirect\twriting dataannotations best approach\tnet claim three namespaces\treturn value function color\tdatatable filter date range\tlayout sqlite resuts\tandroid calendar delete event\tsending email via gmail net 4\tvim regex searching alter placement cursor matched strings\twordpress rest api plugin get slow response\tbroken windowsandroid usbconnection device pc\tpointers primitive types c++\tangularfire impossible recover time entered user database\tc program crashes function called\tcleaner way right operator vector\tstream youtube video mediaelement windows store app\tcheck one vector subset another\tadd dictionarystring liststring datatable c#\tcheck whether object observablecollection\tdoesnt timer work\tspring data elastic search sort document types\tdetermine available physical memory linux\tcheck multiple values unique codeigniter\topensagres allowed use apache poilike packages\tuicolors values change serialization deserialization\tunable read checkbox gridview\tc++ java communication image processing application\tnothing showing installation field parsecom objc\tuser input restriction goes haywire\temail nodejs expressjs angularjs nodemiailer sending mail\tc# serialize class list elements type class\tfind mindistance parameter requestlocationupdates used\tcalling vbnet function javascript\tminimize function selection function call overhead\tdatagridview showing columns data\tdisable context menu internet explorer control\tbest way simple gameloop javascript\tsound app running iphone low\tusing phoenix cloudera hbase installed repo\tweb crawler working nested divs\timporting another module another subdirectory current directorys parent directory python\tcalculus engine vb\tipad problems table rows popovercontrol\tway make cell editable column readonly xtragrid\tpull uiscrollview hold position\twrite ironrouter nested template\traphael paper editing\tproblem jquery editinplace live function need ninja\tssrs using iff dividing\tapply lubridate\tcakephp 20 cannot save\tcuda injecting ptx function\texcel script hyperlink extraction\tsequential image presentation pygame\ttesting web application using angularjs mvc implementation\tpushing navigation controller supported ios 71 works fine ios 8\tsorting array nsstring + number using nssortdescriptor ios\tlarge photo version contacts android\tgce managed groups api horizontally scaling kubernetes nodes\tmethod sorting arabic words alphabetically ios7\tdelphi prism load winform without showing\tcant solve add androidsupportv4appfragment list applied makeapplicationfragment\tcontroller names restful routes optional\tplus 1 button doesnt render properly ie9\tmarkdown live preview textarea\tcreating new linear layout specific paramaters inside another linear layout\tinclude prebuilt static library existing aosp module\tcorrect way query hive spark maximum performance\tadding pagination repeater\tmultiple inputs using typeaheadjs different sources consolidated\tuinavigationcontroller back button doesnt pop previous vc\tpass variable clause oracle sql\tdoctrine preupdate invokes doesnt change related entity property prepersist</th>\n",
       "    </tr>\n",
       "  </thead>\n",
       "  <tbody>\n",
       "    <tr>\n",
       "      <th>0</th>\n",
       "      <td>phpseclib giving compatible server client encr...</td>\n",
       "    </tr>\n",
       "  </tbody>\n",
       "</table>\n",
       "</div>"
      ],
      "text/plain": [
       "  access structure member without knowing name\\tgwt servlet classnotfoundexception\\tslowcheetah transforming entityframework migrations\\tdevelopment tools permission set\\tgo scene without using button flash asc3\\tobjectivec get last 2 characters string\\tinserting rails link google maps infowindow\\trequire files rails application\\tdowhile loop r\\txercesc++ dom node line column number location\\tpython netcdf4 hdf5\\tgenerating md5 hash qt\\txsl scenario node present every loop\\tabsolute beginners guide working audio c c++\\tdescription item name paypal payment received email\\tlatex annotation matlab\\treplace slashes double quote characters using sed\\tiostream library included codeblocks\\tsafe processstart implementation untrusted url strings\\ttrouble linking php database\\tgoogle analytics api error\\tpossible return one column using jpa\\tneed htaccess redirection\\tget full description activity cleartool\\tcrystal reports cutting text pdf\\tphantomjs mac os x works command line via exec\\tdiff multiple files single base file\\tremove script tags dom\\tliferay login page redirect\\twriting dataannotations best approach\\tnet claim three namespaces\\treturn value function color\\tdatatable filter date range\\tlayout sqlite resuts\\tandroid calendar delete event\\tsending email via gmail net 4\\tvim regex searching alter placement cursor matched strings\\twordpress rest api plugin get slow response\\tbroken windowsandroid usbconnection device pc\\tpointers primitive types c++\\tangularfire impossible recover time entered user database\\tc program crashes function called\\tcleaner way right operator vector\\tstream youtube video mediaelement windows store app\\tcheck one vector subset another\\tadd dictionarystring liststring datatable c#\\tcheck whether object observablecollection\\tdoesnt timer work\\tspring data elastic search sort document types\\tdetermine available physical memory linux\\tcheck multiple values unique codeigniter\\topensagres allowed use apache poilike packages\\tuicolors values change serialization deserialization\\tunable read checkbox gridview\\tc++ java communication image processing application\\tnothing showing installation field parsecom objc\\tuser input restriction goes haywire\\temail nodejs expressjs angularjs nodemiailer sending mail\\tc# serialize class list elements type class\\tfind mindistance parameter requestlocationupdates used\\tcalling vbnet function javascript\\tminimize function selection function call overhead\\tdatagridview showing columns data\\tdisable context menu internet explorer control\\tbest way simple gameloop javascript\\tsound app running iphone low\\tusing phoenix cloudera hbase installed repo\\tweb crawler working nested divs\\timporting another module another subdirectory current directorys parent directory python\\tcalculus engine vb\\tipad problems table rows popovercontrol\\tway make cell editable column readonly xtragrid\\tpull uiscrollview hold position\\twrite ironrouter nested template\\traphael paper editing\\tproblem jquery editinplace live function need ninja\\tssrs using iff dividing\\tapply lubridate\\tcakephp 20 cannot save\\tcuda injecting ptx function\\texcel script hyperlink extraction\\tsequential image presentation pygame\\ttesting web application using angularjs mvc implementation\\tpushing navigation controller supported ios 71 works fine ios 8\\tsorting array nsstring + number using nssortdescriptor ios\\tlarge photo version contacts android\\tgce managed groups api horizontally scaling kubernetes nodes\\tmethod sorting arabic words alphabetically ios7\\tdelphi prism load winform without showing\\tcant solve add androidsupportv4appfragment list applied makeapplicationfragment\\tcontroller names restful routes optional\\tplus 1 button doesnt render properly ie9\\tmarkdown live preview textarea\\tcreating new linear layout specific paramaters inside another linear layout\\tinclude prebuilt static library existing aosp module\\tcorrect way query hive spark maximum performance\\tadding pagination repeater\\tmultiple inputs using typeaheadjs different sources consolidated\\tuinavigationcontroller back button doesnt pop previous vc\\tpass variable clause oracle sql\\tdoctrine preupdate invokes doesnt change related entity property prepersist\n",
       "0  phpseclib giving compatible server client encr...                                                                                                                                                                                                                                                                                                                                                                                                                                                                                                                                                                                                                                                                                                                                                                                                                                                                                                                                                                                                                                                                                                                                                                                                                                                                                                                                                                                                                                                                                                                                                                                                                                                                                                                                                                                                                                                                                                                                                                                                                                                                                                                                                                                                                                                                                                                                                                                                                                                                                                                                                                                                                                                                                                                                                                                                                                                                                                                                                                                                                                                                                                                                                                                                                                                                                                                                                                                                                                                                                                                                                                                                                                                                                                                                                                                                                                                                                                                                                                                                                                                                                                                                                                                                                                                                                                                           "
      ]
     },
     "execution_count": 58,
     "metadata": {},
     "output_type": "execute_result"
    }
   ],
   "source": [
    "a = pd.read_csv(\"data/p_test.tsv\")\n",
    "a.head(1)"
   ]
  },
  {
   "cell_type": "code",
   "execution_count": 68,
   "metadata": {},
   "outputs": [
    {
     "name": "stdout",
     "output_type": "stream",
     "text": [
      "Current answer for task StarSpaceRanks is: 85\t57\t60\t28\t23\t98\t91\t89\t46\t70\t36\t25\t4\t26\t74\t49\t22\t47\t16\t94\t78\t24\t11\t39\t84\t13\t76\t99\t83\t15\t53\t51\t71\t87...\n"
     ]
    }
   ],
   "source": [
    "starspace_ranks_results = []\n",
    "prepared_test_data = \"data/p_test.tsv\"\n",
    "for line in open(prepared_test_data):\n",
    "    q, *ex = line.strip().split('\\t')\n",
    "    ranks = rank_candidates(q, ex, starspace_embeddings, 100)\n",
    "    ranked_candidates = [r[0] for r in ranks]\n",
    "    starspace_ranks_results.append([ranked_candidates.index(i) + 1 for i in range(len(ranked_candidates))])\n",
    "    \n",
    "grader.submit_tag('StarSpaceRanks', matrix_to_string(starspace_ranks_results))"
   ]
  },
  {
   "cell_type": "markdown",
   "metadata": {},
   "source": [
    "### Authorization & Submission\n",
    "To submit assignment parts to Cousera platform, please, enter your e-mail and token into variables below. You can generate token on this programming assignment page. <b>Note:</b> Token expires 30 minutes after generation."
   ]
  },
  {
   "cell_type": "code",
   "execution_count": 71,
   "metadata": {},
   "outputs": [
    {
     "name": "stdout",
     "output_type": "stream",
     "text": [
      "You want to submit these parts:\n",
      "Task Question2Vec: 0.019293891266\n",
      "-0.0287272129208\n",
      "0.0460561104119\n",
      "0.0852593332529\n",
      "0.0243055559695\n",
      "-0.0729031041265\n",
      "0.0...\n",
      "Task HitsCount: 0.9999999900000002\n",
      "0.4999999975\n",
      "0.999999995\n",
      "0.4999999975\n",
      "0.999999995\n",
      "0.3333333322222222\n",
      "0.6666666644...\n",
      "Task DCGScore: 0.99999999\n",
      "0.4999999975\n",
      "0.815464872708\n",
      "0.4999999975\n",
      "0.815464872708\n",
      "0.333333332222\n",
      "0.543643249378\n",
      "0.7...\n",
      "Task W2VTokenizedRanks: 95\t94\t7\t9\t64\t36\t31\t93\t23\t100\t99\t20\t60\t6\t97\t48\t70\t37\t41\t96\t29\t56\t2\t65\t68\t44\t27\t25\t57\t62\t11\t87\t50\t66\t7...\n",
      "Task StarSpaceRanks: 85\t57\t60\t28\t23\t98\t91\t89\t46\t70\t36\t25\t4\t26\t74\t49\t22\t47\t16\t94\t78\t24\t11\t39\t84\t13\t76\t99\t83\t15\t53\t51\t71\t87...\n"
     ]
    }
   ],
   "source": [
    "STUDENT_EMAIL = \"15700080242@163.com\" # EMAIL \n",
    "STUDENT_TOKEN = \"OReZTRzdRlU9YX51\"# TOKEN \n",
    "grader.status()"
   ]
  },
  {
   "cell_type": "markdown",
   "metadata": {},
   "source": [
    "If you want to submit these answers, run cell below"
   ]
  },
  {
   "cell_type": "code",
   "execution_count": 72,
   "metadata": {},
   "outputs": [
    {
     "name": "stdout",
     "output_type": "stream",
     "text": [
      "Submitted to Coursera platform. See results on assignment page!\n"
     ]
    }
   ],
   "source": [
    "grader.submit(STUDENT_EMAIL, STUDENT_TOKEN)"
   ]
  },
  {
   "cell_type": "code",
   "execution_count": null,
   "metadata": {},
   "outputs": [],
   "source": []
  }
 ],
 "metadata": {
  "kernelspec": {
   "display_name": "Python 3",
   "language": "python",
   "name": "python3"
  },
  "language_info": {
   "codemirror_mode": {
    "name": "ipython",
    "version": 3
   },
   "file_extension": ".py",
   "mimetype": "text/x-python",
   "name": "python",
   "nbconvert_exporter": "python",
   "pygments_lexer": "ipython3",
   "version": "3.5.0"
  }
 },
 "nbformat": 4,
 "nbformat_minor": 2
}
