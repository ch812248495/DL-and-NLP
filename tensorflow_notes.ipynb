{
 "cells": [
  {
   "cell_type": "code",
   "execution_count": 2,
   "metadata": {},
   "outputs": [],
   "source": [
    "import tensorflow as tf"
   ]
  },
  {
   "cell_type": "code",
   "execution_count": 3,
   "metadata": {},
   "outputs": [],
   "source": [
    "s = tf.InteractiveSession()"
   ]
  },
  {
   "cell_type": "markdown",
   "metadata": {},
   "source": [
    "# Tensorflow teaser\n",
    "implement a tensorflow function to compute the sum of squares of numbers from 0 to N-1"
   ]
  },
  {
   "cell_type": "code",
   "execution_count": 6,
   "metadata": {},
   "outputs": [],
   "source": [
    "N = tf.placeholder(\"int64\", name = \"input_to_your_function\")\n",
    "\n",
    "result = tf.reduce_sum(tf.range(N)**2)"
   ]
  },
  {
   "cell_type": "code",
   "execution_count": 11,
   "metadata": {},
   "outputs": [
    {
     "name": "stdout",
     "output_type": "stream",
     "text": [
      "662921401752298880\n",
      "CPU times: user 660 ms, sys: 350 ms, total: 1.01 s\n",
      "Wall time: 582 ms\n"
     ]
    }
   ],
   "source": [
    "%%time\n",
    "print(s.run(result, {N:10**8}))\n",
    "# print(result.eval, {N:10**8})"
   ]
  },
  {
   "cell_type": "markdown",
   "metadata": {},
   "source": [
    "# The way tensorflow works\n",
    "1. define placeholders where we will send inputs\n",
    "2. make symbolic graph: a recipe for mathematical transformation of those placeholders\n",
    "3. compute outputs of the graph with particular values for each placeholder\n",
    " * output.eval({placeholder:value})\n",
    " * s.run(output, {placeholder:value})\n",
    "4. So far there are 2 entities mentiones, the transormations is like the way numbers compute in numpy, :\n",
    "     * a+b, a/b, a**b\n",
    "     * np.mean -> tf.reduce_mean\n",
    "     * np.arange -> tf.range\n",
    "     * np.cumsum -> tf.cumsum"
   ]
  },
  {
   "cell_type": "markdown",
   "metadata": {},
   "source": [
    "## placeholders "
   ]
  },
  {
   "cell_type": "code",
   "execution_count": 12,
   "metadata": {},
   "outputs": [],
   "source": [
    "arbitrary_inputs = tf.placeholder(\"float32\")\n",
    "input_vector = tf.placeholder(\"float32\", shape = (None,))\n",
    "fixed_vector = tf.placeholder(\"int32\", shape = (10,))    #10 elements\n",
    "input_matrix = tf.placeholder(\"float32\", shape = (None, 15))    #15 columns"
   ]
  },
  {
   "cell_type": "code",
   "execution_count": 13,
   "metadata": {},
   "outputs": [],
   "source": [
    "#multiplication\n",
    "double_the_vector = input_vector * 2\n",
    "\n",
    "elementwise_cosine = tf.cos(input_vector)\n",
    "\n",
    "vector_squares = input_vector**2 - input_vector"
   ]
  },
  {
   "cell_type": "code",
   "execution_count": 15,
   "metadata": {},
   "outputs": [
    {
     "name": "stdout",
     "output_type": "stream",
     "text": [
      "Tensor(\"truediv:0\", dtype=float32)\n"
     ]
    }
   ],
   "source": [
    "#practice\n",
    "my_vec1 = tf.placeholder(\"float32\")\n",
    "my_vec2 = tf.placeholder(\"float32\")\n",
    "\n",
    "my_transformation = my_vec1 * my_vec2 / tf.sin(my_vec1 + 1)\n",
    "print(my_transformation)"
   ]
  },
  {
   "cell_type": "code",
   "execution_count": 18,
   "metadata": {},
   "outputs": [
    {
     "data": {
      "text/plain": [
       "array([  0.        ,   3.2992506 ,  28.34467125,  -3.964046  ,  -0.        ], dtype=float32)"
      ]
     },
     "execution_count": 18,
     "metadata": {},
     "output_type": "execute_result"
    }
   ],
   "source": [
    "import numpy as np\n",
    "dummy = np.arange(5).astype(\"float32\")\n",
    "s.run(my_transformation, {my_vec1:dummy, my_vec2:dummy[::-1]})"
   ]
  },
  {
   "cell_type": "markdown",
   "metadata": {},
   "source": [
    "# Visualizing graph\n"
   ]
  },
  {
   "cell_type": "code",
   "execution_count": 26,
   "metadata": {},
   "outputs": [],
   "source": [
    "\n",
    "input1 = tf.constant([1,2,3], dtype=\"float32\")\n",
    "input2 = tf.Variable(tf.random_uniform([3]), dtype=\"float32\")\n",
    "output = tf.add_n([input1, input2], name = \"add\")\n",
    "# show graph to tensorboard\n",
    "writer = tf.summary.FileWriter(\"./tboard\", graph=tf.get_default_graph())\n",
    "writer.close()"
   ]
  },
  {
   "cell_type": "code",
   "execution_count": 27,
   "metadata": {},
   "outputs": [
    {
     "name": "stdout",
     "output_type": "stream",
     "text": [
      "/root/coursera/PycharmProjects/coursera/new\r\n"
     ]
    }
   ],
   "source": [
    "!pwd"
   ]
  },
  {
   "cell_type": "code",
   "execution_count": 32,
   "metadata": {},
   "outputs": [
    {
     "data": {
      "text/plain": [
       "0"
      ]
     },
     "execution_count": 32,
     "metadata": {},
     "output_type": "execute_result"
    }
   ],
   "source": [
    "import os\n",
    "os.system(\"tensorboard --logdir = ./tboard --port = 6006 &\" )"
   ]
  },
  {
   "cell_type": "markdown",
   "metadata": {},
   "source": [
    "# variables\n"
   ]
  },
  {
   "cell_type": "code",
   "execution_count": 33,
   "metadata": {},
   "outputs": [
    {
     "name": "stdout",
     "output_type": "stream",
     "text": [
      "initial value [ 1.  1.  1.  1.  1.]\n"
     ]
    }
   ],
   "source": [
    "shared_vector_1 = tf.Variable(initial_value=np.ones(5))\n",
    "s.run(tf.global_variables_initializer())\n",
    "\n",
    "print('initial value', s.run(shared_vector_1))\n"
   ]
  },
  {
   "cell_type": "code",
   "execution_count": 36,
   "metadata": {},
   "outputs": [
    {
     "name": "stdout",
     "output_type": "stream",
     "text": [
      "new value [ 0.  1.  2.  3.  4.]\n"
     ]
    }
   ],
   "source": [
    "#assign new values\n",
    "s.run(shared_vector_1.assign(np.arange(5)))\n",
    "print(\"new value\", s.run(shared_vector_1))"
   ]
  },
  {
   "cell_type": "markdown",
   "metadata": {},
   "source": [
    "# tf.gradients  "
   ]
  },
  {
   "cell_type": "code",
   "execution_count": 38,
   "metadata": {},
   "outputs": [
    {
     "name": "stdout",
     "output_type": "stream",
     "text": [
      "Tensor(\"gradients_1/pow_4_grad/Reshape:0\", dtype=float32)\n"
     ]
    }
   ],
   "source": [
    "my_scalar = tf.placeholder(\"float32\")\n",
    "\n",
    "scalar_squared = my_scalar ** 2\n",
    "\n",
    "derivative = tf.gradients(scalar_squared, my_scalar)[0]\n",
    "print(derivative)"
   ]
  },
  {
   "cell_type": "code",
   "execution_count": 40,
   "metadata": {},
   "outputs": [
    {
     "data": {
      "text/plain": [
       "<matplotlib.legend.Legend at 0x7febcd0aa390>"
      ]
     },
     "execution_count": 40,
     "metadata": {},
     "output_type": "execute_result"
    },
    {
     "data": {
      "image/png": "[encoded data removed]",
      "text/plain": [
       "<matplotlib.figure.Figure at 0x7febcd3f8dd8>"
      ]
     },
     "metadata": {},
     "output_type": "display_data"
    }
   ],
   "source": [
    "import matplotlib.pyplot as plt\n",
    "%matplotlib inline\n",
    "\n",
    "x = np.linspace(-3,3)\n",
    "x_squared, x_squared_der = s.run([scalar_squared, derivative], {my_scalar:x})\n",
    "\n",
    "plt.plot(x,x_squared, label = \"x^2\")\n",
    "plt.plot(x, x_squared_der, label = \"derivative\")\n",
    "plt.legend()"
   ]
  },
  {
   "cell_type": "code",
   "execution_count": 41,
   "metadata": {},
   "outputs": [],
   "source": [
    "# another example\n",
    "my_vector = tf.placeholder(\"float32\", [None])\n",
    "my_scalar = tf.placeholder(\"float32\")\n",
    "weird_function = tf.reduce_mean((my_vector+my_scalar)**(1+tf.nn.moments(my_vector,[0])[1]) + 1./ tf.atan(my_scalar))/(my_scalar**2 + 1) + 0.01*tf.sin(2*my_scalar**1.5)*(tf.reduce_sum(my_vector)* my_scalar**2)*tf.exp((my_scalar-4)**2)/(1+tf.exp((my_scalar-4)**2))*(1.-(tf.exp(-(my_scalar-4)**2))/(1+tf.exp(-(my_scalar-4)**2)))**2\n",
    "\n",
    "der_by_scalar = tf.gradients(weird_function, my_scalar)\n",
    "der_by_vector = tf.gradients(weird_function, my_vector)"
   ]
  },
  {
   "cell_type": "code",
   "execution_count": 43,
   "metadata": {},
   "outputs": [],
   "source": [
    "scalar_space = np.linspace(1,7,100)\n",
    "y = [s.run(weird_function, {my_scalar:x, my_vector:[1,2,3]}) for x in scalar_space]"
   ]
  },
  {
   "cell_type": "code",
   "execution_count": 45,
   "metadata": {},
   "outputs": [
    {
     "data": {
      "text/plain": [
       "<matplotlib.legend.Legend at 0x7febcd03d978>"
      ]
     },
     "execution_count": 45,
     "metadata": {},
     "output_type": "execute_result"
    },
    {
     "data": {
      "image/png": "[encoded data removed]",
      "text/plain": [
       "<matplotlib.figure.Figure at 0x7febcc6f0160>"
      ]
     },
     "metadata": {},
     "output_type": "display_data"
    }
   ],
   "source": [
    "\n",
    "plt.plot(scalar_space, y, label = \"function\")\n",
    "y_der_by_scalar = [s.run(der_by_scalar, {my_scalar:x, my_vector:[1,2,3]}) for x in scalar_space]\n",
    "\n",
    "plt.plot(scalar_space, y_der_by_scalar, label = \"derivative\")\n",
    "plt.grid()\n",
    "plt.legend()"
   ]
  },
  {
   "cell_type": "markdown",
   "metadata": {},
   "source": [
    "# optimizers "
   ]
  },
  {
   "cell_type": "code",
   "execution_count": 46,
   "metadata": {},
   "outputs": [],
   "source": [
    "y_guess = tf.Variable(np.zeros(2, dtype=\"float32\"))\n",
    "y_true = tf.range(1,3, dtype=\"float32\")\n",
    "\n",
    "loss = tf.reduce_mean((y_guess - y_true + tf.random_normal([2]))**2)\n",
    "optimizer = tf.train.MomentumOptimizer(0.01, 0.9).minimize(loss, var_list = y_guess)\n"
   ]
  },
  {
   "cell_type": "code",
   "execution_count": 47,
   "metadata": {},
   "outputs": [
    {
     "data": {
      "image/png": "[encoded data removed]",
      "text/plain": [
       "<matplotlib.figure.Figure at 0x7febcc097ac8>"
      ]
     },
     "metadata": {},
     "output_type": "display_data"
    }
   ],
   "source": [
    "from IPython.display import clear_output\n",
    "s.run(tf.global_variables_initializer())\n",
    "\n",
    "guesses = [s.run(y_guess)]\n",
    "for _ in range(100):\n",
    "    s.run(optimizer)\n",
    "    guesses.append(s.run(y_guess))\n",
    "    \n",
    "    clear_output(True)\n",
    "    plt.plot(*zip(*guesses), marker = '.')\n",
    "    plt.scatter(*s.run(y_true), c = \"red\")\n",
    "    plt.show()"
   ]
  },
  {
   "cell_type": "markdown",
   "metadata": {},
   "source": [
    "# Logistic regression example"
   ]
  },
  {
   "cell_type": "code",
   "execution_count": 4,
   "metadata": {},
   "outputs": [
    {
     "name": "stdout",
     "output_type": "stream",
     "text": [
      "(360,)\n",
      "(360, 64)\n"
     ]
    }
   ],
   "source": [
    "from sklearn.datasets import load_digits\n",
    "mnist = load_digits(2)\n",
    "X,y = mnist.data, mnist.target\n",
    "print(y.shape)\n",
    "print(X.shape)"
   ]
  },
  {
   "cell_type": "code",
   "execution_count": 9,
   "metadata": {},
   "outputs": [
    {
     "name": "stdout",
     "output_type": "stream",
     "text": [
      "[0 1 0 1 0]\n",
      "[  0.   0.   0.  12.  13.   5.   0.   0.   0.   0.   0.  11.  16.   9.   0.\n",
      "   0.   0.   0.   3.  15.  16.   6.   0.   0.   0.   7.  15.  16.  16.   2.\n",
      "   0.   0.   0.   0.   1.  16.  16.   3.   0.   0.   0.   0.   1.  16.  16.\n",
      "   6.   0.   0.   0.   0.   1.  16.  16.   6.   0.   0.   0.   0.   0.  11.\n",
      "  16.  10.   0.   0.]\n"
     ]
    }
   ],
   "source": [
    "print(y[:5])\n",
    "print(X[1])"
   ]
  },
  {
   "cell_type": "code",
   "execution_count": 7,
   "metadata": {},
   "outputs": [
    {
     "data": {
      "text/plain": [
       "<matplotlib.image.AxesImage at 0x122f46748>"
      ]
     },
     "execution_count": 7,
     "metadata": {},
     "output_type": "execute_result"
    },
    {
     "data": {
      "image/png": "[encoded data removed]",
      "text/plain": [
       "<Figure size 432x288 with 1 Axes>"
      ]
     },
     "metadata": {},
     "output_type": "display_data"
    }
   ],
   "source": [
    "import matplotlib.pyplot as plt\n",
    "import numpy as np\n",
    "plt.imshow(X[0].reshape(8,8), cmap = \"gray\")"
   ]
  },
  {
   "cell_type": "code",
   "execution_count": 110,
   "metadata": {},
   "outputs": [
    {
     "name": "stdout",
     "output_type": "stream",
     "text": [
      "Tensor(\"Placeholder_34:0\", shape=(?, 64), dtype=float32) Tensor(\"Placeholder_35:0\", dtype=int32) <tf.Variable 'Variable_136:0' shape=(64, 2) dtype=float32_ref>\n"
     ]
    }
   ],
   "source": [
    "weights = tf.Variable(initial_value=np.zeros([64,2]), dtype=\"float32\")\n",
    "input_X = tf.placeholder(\"float32\", shape=(None, 64))    #许多图片, 每张图片64个点\n",
    "input_y = tf.placeholder(\"int32\", shape=(None))     #每张图片不是0就是1,一维  \n",
    "print(input_X, input_y, weights)"
   ]
  },
  {
   "cell_type": "code",
   "execution_count": 17,
   "metadata": {},
   "outputs": [
    {
     "name": "stdout",
     "output_type": "stream",
     "text": [
      "Tensor(\"Softmax:0\", shape=(?, 2), dtype=float32)\n",
      "Tensor(\"ArgMax:0\", shape=(?,), dtype=int64)\n",
      "Tensor(\"one_hot:0\", dtype=float32)\n",
      "Tensor(\"Neg:0\", shape=(), dtype=float32)\n"
     ]
    }
   ],
   "source": [
    "predicted_y = tf.nn.softmax(tf.matmul(input_X, weights))\n",
    "print(predicted_y)\n",
    "\n",
    "predictions = tf.argmax(predicted_y, axis=1)\n",
    "print(predictions)\n",
    "\n",
    "y_onehot = tf.one_hot(input_y, 2, dtype=\"float32\")\n",
    "print(y_onehot)\n",
    "\n",
    "loss = -tf.reduce_mean(y_onehot * tf.log(predicted_y + 1e-10))\n",
    "print(loss)"
   ]
  },
  {
   "cell_type": "code",
   "execution_count": 18,
   "metadata": {},
   "outputs": [
    {
     "name": "stdout",
     "output_type": "stream",
     "text": [
      "name: \"GradientDescent\"\n",
      "op: \"NoOp\"\n",
      "input: \"^GradientDescent/update_Variable_3/ApplyGradientDescent\"\n",
      "\n"
     ]
    }
   ],
   "source": [
    "optimizer = tf.train.GradientDescentOptimizer(0.01).minimize(loss)\n",
    "print(optimizer)"
   ]
  },
  {
   "cell_type": "code",
   "execution_count": 58,
   "metadata": {},
   "outputs": [],
   "source": [
    "from sklearn.utils import shuffle\n",
    "def train_function(X, y):\n",
    "    num_samples = X.shape[0]\n",
    "    batch_size = 20\n",
    "    X, y = shuffle(X, y)\n",
    "    \n",
    "    losses = []\n",
    "    for i in range(0, num_samples, batch_size):\n",
    "        end = min(i + batch_size, num_samples)\n",
    "        batch_xs, batch_ys = X[i:end], y[i:end]\n",
    "        \n",
    "        _, l = sess.run([optimizer, loss], feed_dict={input_X: batch_xs, input_y: batch_ys})\n",
    "        losses.append(l)\n",
    "    return np.mean(losses)"
   ]
  },
  {
   "cell_type": "code",
   "execution_count": 46,
   "metadata": {},
   "outputs": [],
   "source": [
    "def predict_function(X):\n",
    "    preds = sess.run([predictions], feed_dict = {input_X: X})\n",
    "    return(np.array(preds).reshape(-1,))      #[1,0,1,0....]"
   ]
  },
  {
   "cell_type": "code",
   "execution_count": 47,
   "metadata": {},
   "outputs": [
    {
     "name": "stdout",
     "output_type": "stream",
     "text": [
      "0.129193\n",
      "0.00504077\n",
      "0.00405025\n",
      "0.00341731\n",
      "0.00282569\n",
      "0.00255229\n",
      "0.00228098\n",
      "0.00204358\n",
      "0.00194247\n",
      "0.00171492\n",
      "Optimization Finished\n"
     ]
    }
   ],
   "source": [
    "init = tf.global_variables_initializer()\n",
    "\n",
    "with tf.Session() as s:\n",
    "    s.run(init)\n",
    "    for epoch in range(10):\n",
    "        mean_loss = train_function(X, y)\n",
    "        print(mean_loss)\n",
    "print(\"Optimization Finished\")"
   ]
  },
  {
   "cell_type": "code",
   "execution_count": 48,
   "metadata": {},
   "outputs": [],
   "source": [
    "from sklearn.model_selection import train_test_split\n",
    "X_train, X_test, y_train, y_test = train_test_split(X, y)"
   ]
  },
  {
   "cell_type": "code",
   "execution_count": 49,
   "metadata": {},
   "outputs": [
    {
     "name": "stdout",
     "output_type": "stream",
     "text": [
      "(270,)\n"
     ]
    }
   ],
   "source": [
    "print(y_train.shape)"
   ]
  },
  {
   "cell_type": "code",
   "execution_count": 59,
   "metadata": {},
   "outputs": [
    {
     "name": "stdout",
     "output_type": "stream",
     "text": [
      "loss at iter {}:{}.format(i, loss_i)\n",
      "train auc: 1.0\n",
      "test auc: 1.0\n",
      "loss at iter {}:{}.format(i, loss_i)\n",
      "train auc: 1.0\n",
      "test auc: 1.0\n",
      "loss at iter {}:{}.format(i, loss_i)\n",
      "train auc: 1.0\n",
      "test auc: 1.0\n",
      "loss at iter {}:{}.format(i, loss_i)\n",
      "train auc: 1.0\n",
      "test auc: 1.0\n",
      "loss at iter {}:{}.format(i, loss_i)\n",
      "train auc: 1.0\n",
      "test auc: 1.0\n",
      "resulting weights:\n"
     ]
    },
    {
     "data": {
      "image/png": "[encoded data removed]",
      "text/plain": [
       "<Figure size 432x288 with 2 Axes>"
      ]
     },
     "metadata": {},
     "output_type": "display_data"
    }
   ],
   "source": [
    "from sklearn.metrics import roc_auc_score\n",
    "\n",
    "init = tf.global_variables_initializer()\n",
    "with tf.Session() as sess:\n",
    "    sess.run(init)\n",
    "    for i in range(5):\n",
    "        loss_i = train_function(X_train, y_train)\n",
    "        print(\"loss at iter {}:{}.format(i, loss_i)\")\n",
    "        print(\"train auc:\", roc_auc_score(y_train, predict_function(X_train)))\n",
    "        print(\"test auc:\", roc_auc_score(y_test, predict_function(X_test)))\n",
    "    print(\"resulting weights:\")\n",
    "    plt.imshow(sess.run(weights).reshape(8,-1))\n",
    "    plt.colorbar()\n"
   ]
  },
  {
   "cell_type": "markdown",
   "metadata": {},
   "source": [
    "# Bonus: my1stNN "
   ]
  },
  {
   "cell_type": "code",
   "execution_count": 71,
   "metadata": {},
   "outputs": [
    {
     "name": "stdout",
     "output_type": "stream",
     "text": [
      "/Users/ch/PycharmProjects/coursera/new\r\n"
     ]
    }
   ],
   "source": [
    "!pwd"
   ]
  },
  {
   "cell_type": "code",
   "execution_count": 152,
   "metadata": {},
   "outputs": [],
   "source": [
    "import numpy as np\n",
    "f = np.load(\"./MNIST_data/mnist.npz\")\n"
   ]
  },
  {
   "cell_type": "code",
   "execution_count": 153,
   "metadata": {},
   "outputs": [],
   "source": [
    "X, y, X_test, y_test = f[\"x_train\"], f[\"y_train\"], f[\"x_test\"], f[\"y_test\"]"
   ]
  },
  {
   "cell_type": "code",
   "execution_count": 154,
   "metadata": {},
   "outputs": [
    {
     "name": "stdout",
     "output_type": "stream",
     "text": [
      "(60000, 28, 28) (50000, 28, 28) (10000, 28, 28)\n",
      "(60000,) (50000,) (10000,)\n"
     ]
    }
   ],
   "source": [
    "X_val = X[:10000]\n",
    "y_val = y[:10000]\n",
    "X_train = X[10000:]\n",
    "y_train = y[10000:]\n",
    "print(X.shape, X_train.shape, X_val.shape)\n",
    "print(y.shape, y_train.shape, y_val.shape)"
   ]
  },
  {
   "cell_type": "code",
   "execution_count": 155,
   "metadata": {},
   "outputs": [
    {
     "name": "stdout",
     "output_type": "stream",
     "text": [
      "3\n"
     ]
    },
    {
     "data": {
      "image/png": "[encoded data removed]",
      "text/plain": [
       "<Figure size 432x288 with 1 Axes>"
      ]
     },
     "metadata": {},
     "output_type": "display_data"
    }
   ],
   "source": [
    "import matplotlib.pyplot as plt\n",
    "plt.imshow(X_train[0])\n",
    "print(y_train[0])"
   ]
  },
  {
   "cell_type": "code",
   "execution_count": 156,
   "metadata": {},
   "outputs": [
    {
     "name": "stdout",
     "output_type": "stream",
     "text": [
      "0:4922\n",
      "1:5615\n",
      "2:4967\n",
      "3:5099\n",
      "4:4862\n",
      "5:4558\n",
      "6:4904\n",
      "7:5195\n",
      "8:4907\n",
      "9:4971\n",
      "784\n"
     ]
    }
   ],
   "source": [
    "sum = 0\n",
    "for i in range(10):\n",
    "    sum = np.sum(y_train == i)\n",
    "    print(\"{}:{}\".format(i, sum))\n",
    "print(28*28)"
   ]
  },
  {
   "cell_type": "code",
   "execution_count": 157,
   "metadata": {},
   "outputs": [],
   "source": [
    "def flatten(X):\n",
    "    return X.reshape(X.shape[0], X.shape[1]*X.shape[2])"
   ]
  },
  {
   "cell_type": "code",
   "execution_count": 158,
   "metadata": {},
   "outputs": [
    {
     "name": "stdout",
     "output_type": "stream",
     "text": [
      "(50000, 784)\n"
     ]
    }
   ],
   "source": [
    "X_train = flatten(X_train)\n",
    "print(X_train.shape)"
   ]
  },
  {
   "cell_type": "code",
   "execution_count": 160,
   "metadata": {},
   "outputs": [],
   "source": [
    "X_val = flatten(X_val)\n",
    "X_test = flatten(X_test)"
   ]
  },
  {
   "cell_type": "code",
   "execution_count": 161,
   "metadata": {},
   "outputs": [
    {
     "data": {
      "text/plain": [
       "True"
      ]
     },
     "execution_count": 161,
     "metadata": {},
     "output_type": "execute_result"
    }
   ],
   "source": [
    "y_test.shape == (10000,)"
   ]
  },
  {
   "cell_type": "code",
   "execution_count": 162,
   "metadata": {},
   "outputs": [
    {
     "name": "stdout",
     "output_type": "stream",
     "text": [
      "(10000, 784)\n",
      "(10000, 784)\n"
     ]
    }
   ],
   "source": [
    "print(X_val.shape)\n",
    "print(X_test.shape)"
   ]
  },
  {
   "cell_type": "code",
   "execution_count": 163,
   "metadata": {},
   "outputs": [],
   "source": [
    "n_labels = 10\n",
    "n_pixels = 28*28\n",
    "n_neurons = 200"
   ]
  },
  {
   "cell_type": "code",
   "execution_count": 164,
   "metadata": {},
   "outputs": [
    {
     "data": {
      "text/plain": [
       "(50000, 784)"
      ]
     },
     "execution_count": 164,
     "metadata": {},
     "output_type": "execute_result"
    }
   ],
   "source": [
    "X_train.shape"
   ]
  },
  {
   "cell_type": "code",
   "execution_count": 165,
   "metadata": {},
   "outputs": [
    {
     "name": "stdout",
     "output_type": "stream",
     "text": [
      "Tensor(\"Placeholder_48:0\", shape=(?, 784), dtype=float32)\n",
      "Tensor(\"Placeholder_49:0\", shape=(?,), dtype=uint8)\n",
      "<tf.Variable 'Variable_185:0' shape=(784, 200) dtype=float32_ref> <tf.Variable 'Variable_186:0' shape=(200,) dtype=float32_ref> (200, 200) (200,) (200, 10) (10,) (784, 10) (10,)\n"
     ]
    }
   ],
   "source": [
    "#2 layers\n",
    "W1 = tf.Variable(initial_value = np.sqrt(1/n_pixels) * np.random.randn(n_pixels, n_neurons), dtype=\"float32\")\n",
    "b1 = tf.Variable(initial_value = np.zeros([n_neurons]), dtype = \"float32\")\n",
    "\n",
    "W2 = tf.Variable(initial_value = np.sqrt(1/n_neurons) * np.random.randn(n_neurons, n_neurons), dtype=\"float32\")\n",
    "b2 = tf.Variable(initial_value = np.zeros([n_neurons]), dtype = \"float32\")\n",
    "\n",
    "W = tf.Variable(initial_value = np.random.randn(n_neurons, n_labels),dtype=\"float32\")\n",
    "b = tf.Variable(initial_value = np.zeros([n_labels], dtype=\"float32\"))\n",
    "\n",
    "input_X = tf.placeholder(\"float32\", shape=(None, n_pixels))\n",
    "input_y = tf.placeholder(\"uint8\", shape = (None,))\n",
    "\n",
    "#one layer\n",
    "weights = tf.Variable(initial_value=np.zeros([n_pixels, n_labels]), dtype=\"float32\")\n",
    "biases = tf.Variable(initial_value=np.zeros([n_labels]), dtype = \"float32\")\n",
    "\n",
    "print(input_X)\n",
    "print(input_y)\n",
    "print(W1, b1, W2.shape, b2.shape, W.shape, b.shape, weights.shape, biases.shape)"
   ]
  },
  {
   "cell_type": "markdown",
   "metadata": {},
   "source": [
    "## Single layer network "
   ]
  },
  {
   "cell_type": "code",
   "execution_count": 166,
   "metadata": {},
   "outputs": [
    {
     "name": "stdout",
     "output_type": "stream",
     "text": [
      "Tensor(\"Softmax_8:0\", shape=(?, 10), dtype=float32)\n",
      "Tensor(\"ArgMax_8:0\", shape=(?,), dtype=int64)\n"
     ]
    }
   ],
   "source": [
    "#computation graph\n",
    "prediction_y = tf.nn.softmax(tf.matmul(input_X, weights) + biases)\n",
    "print(prediction_y)\n",
    "predictions = tf.argmax(prediction_y, axis=1)   # the label of the biggest softmax value\n",
    "print(predictions)"
   ]
  },
  {
   "cell_type": "code",
   "execution_count": 167,
   "metadata": {},
   "outputs": [
    {
     "name": "stdout",
     "output_type": "stream",
     "text": [
      "Tensor(\"one_hot_4:0\", shape=(?, 10), dtype=float32)\n",
      "Tensor(\"Neg_6:0\", shape=(), dtype=float32)\n",
      "name: \"Adam_4\"\n",
      "op: \"NoOp\"\n",
      "input: \"^Adam_4/update_Variable_191/ApplyAdam\"\n",
      "input: \"^Adam_4/update_Variable_192/ApplyAdam\"\n",
      "input: \"^Adam_4/Assign\"\n",
      "input: \"^Adam_4/Assign_1\"\n",
      "\n"
     ]
    }
   ],
   "source": [
    "y_onehot = tf.one_hot(input_y, n_labels, dtype=\"float32\")\n",
    "print(y_onehot)\n",
    "\n",
    "loss = -tf.reduce_mean(y_onehot * tf.log(prediction_y + 1e-10))\n",
    "print(loss)\n",
    "\n",
    "optimizer = tf.train.AdamOptimizer(0.001).minimize(loss)\n",
    "print(optimizer)"
   ]
  },
  {
   "cell_type": "code",
   "execution_count": 168,
   "metadata": {},
   "outputs": [],
   "source": [
    "from sklearn.utils import shuffle\n",
    "\n",
    "def train_function(X, y):\n",
    "    num_samples = X.shape[0]\n",
    "    batch_size = 20\n",
    "    X, y = shuffle(X, y)\n",
    "    losses = []\n",
    "    for i in range(0, num_samples, batch_size):\n",
    "        end = min(i+batch_size, num_samples)\n",
    "        X_batch = X[i:end]\n",
    "        y_batch = y[i:end]\n",
    "        _, l = sess.run([optimizer, loss], feed_dict = {input_X: X_batch, input_y: y_batch})\n",
    "        losses.append(l)\n",
    "    return np.mean(losses)\n",
    "\n",
    "def predict_functions(X):\n",
    "    preds = sess.run([predictions], feed_dict = {input_X: X})\n",
    "    return np.array(preds).reshape(-1, 1)"
   ]
  },
  {
   "cell_type": "markdown",
   "metadata": {},
   "source": [
    "## 2 hidden layer network "
   ]
  },
  {
   "cell_type": "code",
   "execution_count": 169,
   "metadata": {},
   "outputs": [
    {
     "name": "stdout",
     "output_type": "stream",
     "text": [
      "Tensor(\"Softmax_9:0\", shape=(?, 10), dtype=float32)\n",
      "Tensor(\"ArgMax_9:0\", shape=(?,), dtype=int64)\n",
      "Tensor(\"add_38:0\", shape=(), dtype=float32)\n",
      "name: \"Momentum_2\"\n",
      "op: \"NoOp\"\n",
      "input: \"^Momentum_2/update_Variable_185/ApplyMomentum\"\n",
      "input: \"^Momentum_2/update_Variable_186/ApplyMomentum\"\n",
      "input: \"^Momentum_2/update_Variable_187/ApplyMomentum\"\n",
      "input: \"^Momentum_2/update_Variable_188/ApplyMomentum\"\n",
      "input: \"^Momentum_2/update_Variable_189/ApplyMomentum\"\n",
      "input: \"^Momentum_2/update_Variable_190/ApplyMomentum\"\n",
      "\n"
     ]
    }
   ],
   "source": [
    "z1 = tf.matmul(input_X, W1) + b1\n",
    "z2 = tf.sigmoid(z1)\n",
    "\n",
    "z3 = tf.matmul(z2, W2) + b2\n",
    "z4 = tf.sigmoid(z3)\n",
    "\n",
    "nn_prediction_y = tf.nn.softmax(tf.matmul(z4, W)+b)\n",
    "print(nn_prediction_y)\n",
    "\n",
    "nn_predictions = tf.argmax(nn_prediction_y, axis = 1)\n",
    "print(nn_predictions)\n",
    "\n",
    "nn_loss = -tf.reduce_mean(y_onehot * tf.log(nn_prediction_y + 1e-10))\n",
    "\n",
    "reg = (tf.nn.l2_loss(W1) + tf.nn.l2_loss(W2))\n",
    "nn_loss = nn_loss + 1e-5 * reg\n",
    "\n",
    "print(nn_loss)\n",
    "\n",
    "nn_optimizer = tf.train.MomentumOptimizer(0.2, 0.95).minimize(nn_loss)\n",
    "print(nn_optimizer)"
   ]
  },
  {
   "cell_type": "code",
   "execution_count": 170,
   "metadata": {},
   "outputs": [],
   "source": [
    "def nn_train_function(X, y):\n",
    "    losses = []\n",
    "    batch_size = 256\n",
    "    num_samples = X.shape[0]\n",
    "    for i in range(0, num_samples, batch_size):\n",
    "        end = min(i+batch_size, num_samples)\n",
    "        X_batch, y_batch = X[i:end], y[i:end]\n",
    "        _, loss = sess.run([nn_optimizer, nn_loss], feed_dict = {input_X: X_batch, input_y: y_batch})\n",
    "        losses.append(loss)\n",
    "    return np.mean(losses)   # average cross entropy loss for this epoch\n",
    "def nn_predict_functions(X):\n",
    "    y = sess.run([nn_predictions], feed_dict = {input_X: X})\n",
    "    return np.array(y).reshape(-1,1)"
   ]
  },
  {
   "cell_type": "markdown",
   "metadata": {},
   "source": [
    "## Run the network \n",
    "### Single layer network"
   ]
  },
  {
   "cell_type": "code",
   "execution_count": 147,
   "metadata": {
    "scrolled": true
   },
   "outputs": [
    {
     "name": "stdout",
     "output_type": "stream",
     "text": [
      "iteration 0: \n",
      "\n",
      "Train loss is 0.6671380996704102\n",
      "\n",
      "Train acc is 0.71654\n",
      "\n",
      "Val acc is 0.7206\n",
      "\n",
      "iteration 1: \n",
      "\n",
      "Train loss is 0.619046688079834\n",
      "\n",
      "Train acc is 0.73352\n",
      "\n",
      "Val acc is 0.7375\n",
      "\n",
      "iteration 2: \n",
      "\n",
      "Train loss is 0.5927603244781494\n",
      "\n",
      "Train acc is 0.81404\n",
      "\n",
      "Val acc is 0.8207\n",
      "\n",
      "iteration 3: \n",
      "\n",
      "Train loss is 0.41147685050964355\n",
      "\n",
      "Train acc is 0.8297\n",
      "\n",
      "Val acc is 0.8311\n",
      "\n",
      "iteration 4: \n",
      "\n",
      "Train loss is 0.39046424627304077\n",
      "\n",
      "Train acc is 0.82794\n",
      "\n",
      "Val acc is 0.8335\n",
      "\n",
      "iteration 5: \n",
      "\n",
      "Train loss is 0.3939366340637207\n",
      "\n",
      "Train acc is 0.83412\n",
      "\n",
      "Val acc is 0.84\n",
      "\n",
      "iteration 6: \n",
      "\n",
      "Train loss is 0.3816531300544739\n",
      "\n",
      "Train acc is 0.8385\n",
      "\n",
      "Val acc is 0.844\n",
      "\n",
      "iteration 7: \n",
      "\n",
      "Train loss is 0.37999770045280457\n",
      "\n",
      "Train acc is 0.83484\n",
      "\n",
      "Val acc is 0.8402\n",
      "\n",
      "iteration 8: \n",
      "\n",
      "Train loss is 0.37662172317504883\n",
      "\n",
      "Train acc is 0.8359\n",
      "\n",
      "Val acc is 0.8391\n",
      "\n",
      "iteration 9: \n",
      "\n",
      "Train loss is 0.378411203622818\n",
      "\n",
      "Train acc is 0.82924\n",
      "\n",
      "Val acc is 0.8332\n",
      "\n",
      "iteration 10: \n",
      "\n",
      "Train loss is 0.37470003962516785\n",
      "\n",
      "Train acc is 0.8424\n",
      "\n",
      "Val acc is 0.8469\n",
      "\n",
      "iteration 11: \n",
      "\n",
      "Train loss is 0.37240052223205566\n",
      "\n",
      "Train acc is 0.83732\n",
      "\n",
      "Val acc is 0.841\n",
      "\n",
      "test acc: 0.8393\n"
     ]
    }
   ],
   "source": [
    "init = tf.global_variables_initializer()\n",
    "\n",
    "def count_acc(preds, y):\n",
    "    count = 0\n",
    "    for (i,j) in zip(preds, y):\n",
    "        if i == j:\n",
    "            count += 1\n",
    "    return count/len(y)\n",
    "with tf.Session() as sess:\n",
    "    sess.run(init)\n",
    "    val_acc_es = [0]\n",
    "    for i in range(100):\n",
    "        print(\"iteration {}: \\n\".format(i))\n",
    "        loss_i = train_function(X_train, y_train)\n",
    "        print(\"Train loss is {}\\n\".format(loss_i))\n",
    "        preds = predict_functions(X_train)\n",
    "        train_acc = count_acc(preds, y_train)\n",
    "        print(\"Train acc is {}\\n\".format(train_acc))\n",
    "        \n",
    "        preds = predict_functions(X_val)\n",
    "        val_acc = count_acc(preds, y_val)\n",
    "        val_acc_es.append(val_acc)\n",
    "        print(\"Val acc is {}\\n\".format(val_acc))\n",
    "        if ((i > 10) and (val_acc < val_acc_es[-2])):\n",
    "            break\n",
    "    preds = predict_functions(X_test)\n",
    "    test_acc = np.sum(preds == y_test)/y_test.shape[0]\n",
    "    print(\"test acc:\", count_acc(preds, y_test))"
   ]
  },
  {
   "cell_type": "markdown",
   "metadata": {},
   "source": [
    "### 2 hidden layer network "
   ]
  },
  {
   "cell_type": "code",
   "execution_count": 148,
   "metadata": {},
   "outputs": [
    {
     "data": {
      "text/plain": [
       "array([3, 8, 7, ..., 5, 6, 8], dtype=uint8)"
      ]
     },
     "execution_count": 148,
     "metadata": {},
     "output_type": "execute_result"
    }
   ],
   "source": [
    "y_train"
   ]
  },
  {
   "cell_type": "code",
   "execution_count": 171,
   "metadata": {
    "scrolled": true
   },
   "outputs": [
    {
     "name": "stdout",
     "output_type": "stream",
     "text": [
      "iteration 0: \n",
      "\n",
      "Train loss is 0.09635429829359055\n",
      "\n",
      "Train acc is 0.78972\n",
      "\n",
      "Val acc is 0.7928\n",
      "\n",
      "iteration 1: \n",
      "\n",
      "Train loss is 0.06897803395986557\n",
      "\n",
      "Train acc is 0.82602\n",
      "\n",
      "Val acc is 0.8345\n",
      "\n",
      "iteration 2: \n",
      "\n",
      "Train loss is 0.07274240255355835\n",
      "\n",
      "Train acc is 0.77138\n",
      "\n",
      "Val acc is 0.7684\n",
      "\n",
      "iteration 3: \n",
      "\n",
      "Train loss is 0.067449651658535\n",
      "\n",
      "Train acc is 0.79634\n",
      "\n",
      "Val acc is 0.8008\n",
      "\n",
      "iteration 4: \n",
      "\n",
      "Train loss is 0.06590472161769867\n",
      "\n",
      "Train acc is 0.81788\n",
      "\n",
      "Val acc is 0.8197\n",
      "\n",
      "iteration 5: \n",
      "\n",
      "Train loss is 0.06254507601261139\n",
      "\n",
      "Train acc is 0.8343\n",
      "\n",
      "Val acc is 0.835\n",
      "\n",
      "iteration 6: \n",
      "\n",
      "Train loss is 0.0630946233868599\n",
      "\n",
      "Train acc is 0.84236\n",
      "\n",
      "Val acc is 0.8455\n",
      "\n",
      "iteration 7: \n",
      "\n",
      "Train loss is 0.05853781849145889\n",
      "\n",
      "Train acc is 0.8082\n",
      "\n",
      "Val acc is 0.8089\n",
      "\n",
      "iteration 8: \n",
      "\n",
      "Train loss is 0.06004544720053673\n",
      "\n",
      "Train acc is 0.86266\n",
      "\n",
      "Val acc is 0.8636\n",
      "\n",
      "iteration 9: \n",
      "\n",
      "Train loss is 0.057782240211963654\n",
      "\n",
      "Train acc is 0.84416\n",
      "\n",
      "Val acc is 0.8463\n",
      "\n",
      "iteration 10: \n",
      "\n",
      "Train loss is 0.05863364785909653\n",
      "\n",
      "Train acc is 0.85032\n",
      "\n",
      "Val acc is 0.852\n",
      "\n",
      "iteration 11: \n",
      "\n",
      "Train loss is 0.05491636320948601\n",
      "\n",
      "Train acc is 0.86572\n",
      "\n",
      "Val acc is 0.8702\n",
      "\n",
      "iteration 12: \n",
      "\n",
      "Train loss is 0.05492464825510979\n",
      "\n",
      "Train acc is 0.87968\n",
      "\n",
      "Val acc is 0.8848\n",
      "\n",
      "iteration 13: \n",
      "\n",
      "Train loss is 0.053717486560344696\n",
      "\n",
      "Train acc is 0.86452\n",
      "\n",
      "Val acc is 0.8657\n",
      "\n",
      "iteration 14: \n",
      "\n",
      "Train loss is 0.05598389729857445\n",
      "\n",
      "Train acc is 0.86636\n",
      "\n",
      "Val acc is 0.8678\n",
      "\n",
      "iteration 15: \n",
      "\n",
      "Train loss is 0.05562854930758476\n",
      "\n",
      "Train acc is 0.87098\n",
      "\n",
      "Val acc is 0.8746\n",
      "\n",
      "iteration 16: \n",
      "\n",
      "Train loss is 0.054194770753383636\n",
      "\n",
      "Train acc is 0.87698\n",
      "\n",
      "Val acc is 0.8794\n",
      "\n",
      "iteration 17: \n",
      "\n",
      "Train loss is 0.05395663529634476\n",
      "\n",
      "Train acc is 0.88758\n",
      "\n",
      "Val acc is 0.8888\n",
      "\n",
      "iteration 18: \n",
      "\n",
      "Train loss is 0.05425221472978592\n",
      "\n",
      "Train acc is 0.87188\n",
      "\n",
      "Val acc is 0.8769\n",
      "\n",
      "iteration 19: \n",
      "\n",
      "Train loss is 0.05350831151008606\n",
      "\n",
      "Train acc is 0.87554\n",
      "\n",
      "Val acc is 0.8776\n",
      "\n",
      "iteration 20: \n",
      "\n",
      "Train loss is 0.05337034910917282\n",
      "\n",
      "Train acc is 0.87634\n",
      "\n",
      "Val acc is 0.8813\n",
      "\n",
      "iteration 21: \n",
      "\n",
      "Train loss is 0.05267753452062607\n",
      "\n",
      "Train acc is 0.88636\n",
      "\n",
      "Val acc is 0.8873\n",
      "\n",
      "iteration 22: \n",
      "\n",
      "Train loss is 0.05312998592853546\n",
      "\n",
      "Train acc is 0.87934\n",
      "\n",
      "Val acc is 0.8827\n",
      "\n",
      "iteration 23: \n",
      "\n",
      "Train loss is 0.05359199270606041\n",
      "\n",
      "Train acc is 0.88532\n",
      "\n",
      "Val acc is 0.8874\n",
      "\n",
      "iteration 24: \n",
      "\n",
      "Train loss is 0.05559743195772171\n",
      "\n",
      "Train acc is 0.87928\n",
      "\n",
      "Val acc is 0.8835\n",
      "\n",
      "iteration 25: \n",
      "\n",
      "Train loss is 0.05285108461976051\n",
      "\n",
      "Train acc is 0.89202\n",
      "\n",
      "Val acc is 0.8973\n",
      "\n",
      "iteration 26: \n",
      "\n",
      "Train loss is 0.05361664667725563\n",
      "\n",
      "Train acc is 0.88588\n",
      "\n",
      "Val acc is 0.8912\n",
      "\n",
      "iteration 27: \n",
      "\n",
      "Train loss is 0.052586767822504044\n",
      "\n",
      "Train acc is 0.88986\n",
      "\n",
      "Val acc is 0.8939\n",
      "\n",
      "iteration 28: \n",
      "\n",
      "Train loss is 0.05221780389547348\n",
      "\n",
      "Train acc is 0.8926\n",
      "\n",
      "Val acc is 0.8947\n",
      "\n",
      "iteration 29: \n",
      "\n",
      "Train loss is 0.05022169649600983\n",
      "\n",
      "Train acc is 0.90266\n",
      "\n",
      "Val acc is 0.9036\n",
      "\n",
      "iteration 30: \n",
      "\n",
      "Train loss is 0.050453752279281616\n",
      "\n",
      "Train acc is 0.90118\n",
      "\n",
      "Val acc is 0.9018\n",
      "\n",
      "iteration 31: \n",
      "\n",
      "Train loss is 0.0500355139374733\n",
      "\n",
      "Train acc is 0.9045\n",
      "\n",
      "Val acc is 0.9084\n",
      "\n",
      "iteration 32: \n",
      "\n",
      "Train loss is 0.04915403947234154\n",
      "\n",
      "Train acc is 0.90792\n",
      "\n",
      "Val acc is 0.9129\n",
      "\n",
      "iteration 33: \n",
      "\n",
      "Train loss is 0.04873999208211899\n",
      "\n",
      "Train acc is 0.90418\n",
      "\n",
      "Val acc is 0.9042\n",
      "\n",
      "iteration 34: \n",
      "\n",
      "Train loss is 0.048853933811187744\n",
      "\n",
      "Train acc is 0.89972\n",
      "\n",
      "Val acc is 0.903\n",
      "\n",
      "iteration 35: \n",
      "\n",
      "Train loss is 0.048552006483078\n",
      "\n",
      "Train acc is 0.90376\n",
      "\n",
      "Val acc is 0.9063\n",
      "\n",
      "iteration 36: \n",
      "\n",
      "Train loss is 0.049727827310562134\n",
      "\n",
      "Train acc is 0.90412\n",
      "\n",
      "Val acc is 0.9088\n",
      "\n",
      "iteration 37: \n",
      "\n",
      "Train loss is 0.04854382202029228\n",
      "\n",
      "Train acc is 0.90634\n",
      "\n",
      "Val acc is 0.9091\n",
      "\n",
      "iteration 38: \n",
      "\n",
      "Train loss is 0.0500330813229084\n",
      "\n",
      "Train acc is 0.89748\n",
      "\n",
      "Val acc is 0.8953\n",
      "\n",
      "iteration 39: \n",
      "\n",
      "Train loss is 0.051132794469594955\n",
      "\n",
      "Train acc is 0.89658\n",
      "\n",
      "Val acc is 0.8944\n",
      "\n",
      "iteration 40: \n",
      "\n",
      "Train loss is 0.05107030272483826\n",
      "\n",
      "Train acc is 0.89552\n",
      "\n",
      "Val acc is 0.8957\n",
      "\n",
      "iteration 41: \n",
      "\n",
      "Train loss is 0.05015992000699043\n",
      "\n",
      "Train acc is 0.90772\n",
      "\n",
      "Val acc is 0.904\n",
      "\n",
      "iteration 42: \n",
      "\n",
      "Train loss is 0.049505945295095444\n",
      "\n",
      "Train acc is 0.90836\n",
      "\n",
      "Val acc is 0.9075\n",
      "\n",
      "iteration 43: \n",
      "\n",
      "Train loss is 0.04915986582636833\n",
      "\n",
      "Train acc is 0.90492\n",
      "\n",
      "Val acc is 0.909\n",
      "\n",
      "iteration 44: \n",
      "\n",
      "Train loss is 0.04969603568315506\n",
      "\n",
      "Train acc is 0.9034\n",
      "\n",
      "Val acc is 0.9038\n",
      "\n",
      "iteration 45: \n",
      "\n",
      "Train loss is 0.05214883014559746\n",
      "\n",
      "Train acc is 0.90454\n",
      "\n",
      "Val acc is 0.9098\n",
      "\n",
      "iteration 46: \n",
      "\n",
      "Train loss is 0.05012308806180954\n",
      "\n",
      "Train acc is 0.90518\n",
      "\n",
      "Val acc is 0.9079\n",
      "\n",
      "iteration 47: \n",
      "\n",
      "Train loss is 0.050209321081638336\n",
      "\n",
      "Train acc is 0.89824\n",
      "\n",
      "Val acc is 0.8997\n",
      "\n",
      "iteration 48: \n",
      "\n",
      "Train loss is 0.05203399434685707\n",
      "\n",
      "Train acc is 0.90358\n",
      "\n",
      "Val acc is 0.9049\n",
      "\n",
      "iteration 49: \n",
      "\n",
      "Train loss is 0.051634322851896286\n",
      "\n",
      "Train acc is 0.9012\n",
      "\n",
      "Val acc is 0.9054\n",
      "\n",
      "iteration 50: \n",
      "\n",
      "Train loss is 0.05373923480510712\n",
      "\n",
      "Train acc is 0.88808\n",
      "\n",
      "Val acc is 0.8881\n",
      "\n",
      "iteration 51: \n",
      "\n",
      "Train loss is 0.05360257998108864\n",
      "\n",
      "Train acc is 0.90214\n",
      "\n",
      "Val acc is 0.9046\n",
      "\n",
      "iteration 52: \n",
      "\n",
      "Train loss is 0.0526251457631588\n",
      "\n",
      "Train acc is 0.88298\n",
      "\n",
      "Val acc is 0.8863\n",
      "\n",
      "iteration 53: \n",
      "\n",
      "Train loss is 0.053163088858127594\n",
      "\n",
      "Train acc is 0.9023\n",
      "\n",
      "Val acc is 0.9025\n",
      "\n",
      "iteration 54: \n",
      "\n",
      "Train loss is 0.05172667279839516\n",
      "\n",
      "Train acc is 0.90646\n",
      "\n",
      "Val acc is 0.9049\n",
      "\n",
      "iteration 55: \n",
      "\n",
      "Train loss is 0.051504310220479965\n",
      "\n",
      "Train acc is 0.8969\n",
      "\n",
      "Val acc is 0.8993\n",
      "\n",
      "iteration 56: \n",
      "\n",
      "Train loss is 0.05195920169353485\n",
      "\n",
      "Train acc is 0.9057\n",
      "\n",
      "Val acc is 0.9084\n",
      "\n",
      "iteration 57: \n",
      "\n",
      "Train loss is 0.051103465259075165\n",
      "\n",
      "Train acc is 0.9045\n",
      "\n",
      "Val acc is 0.9097\n",
      "\n",
      "iteration 58: \n",
      "\n",
      "Train loss is 0.051920268684625626\n",
      "\n",
      "Train acc is 0.9003\n",
      "\n",
      "Val acc is 0.9046\n",
      "\n",
      "iteration 59: \n",
      "\n",
      "Train loss is 0.05146859586238861\n",
      "\n",
      "Train acc is 0.90374\n",
      "\n",
      "Val acc is 0.9037\n",
      "\n",
      "iteration 60: \n",
      "\n",
      "Train loss is 0.05230402573943138\n",
      "\n",
      "Train acc is 0.90592\n",
      "\n",
      "Val acc is 0.9105\n",
      "\n",
      "iteration 61: \n",
      "\n",
      "Train loss is 0.05157202482223511\n",
      "\n",
      "Train acc is 0.9049\n",
      "\n",
      "Val acc is 0.9059\n",
      "\n",
      "iteration 62: \n",
      "\n",
      "Train loss is 0.05110561475157738\n",
      "\n",
      "Train acc is 0.9129\n",
      "\n",
      "Val acc is 0.9123\n",
      "\n",
      "iteration 63: \n",
      "\n",
      "Train loss is 0.05136445164680481\n",
      "\n",
      "Train acc is 0.90258\n",
      "\n",
      "Val acc is 0.9045\n",
      "\n",
      "iteration 64: \n",
      "\n",
      "Train loss is 0.05033549666404724\n",
      "\n",
      "Train acc is 0.90134\n",
      "\n",
      "Val acc is 0.9008\n",
      "\n",
      "iteration 65: \n",
      "\n",
      "Train loss is 0.051153358072042465\n",
      "\n",
      "Train acc is 0.91104\n",
      "\n",
      "Val acc is 0.9108\n",
      "\n",
      "iteration 66: \n",
      "\n",
      "Train loss is 0.05072206258773804\n",
      "\n",
      "Train acc is 0.90468\n",
      "\n",
      "Val acc is 0.9054\n",
      "\n",
      "iteration 67: \n",
      "\n",
      "Train loss is 0.05312363803386688\n",
      "\n",
      "Train acc is 0.89734\n",
      "\n",
      "Val acc is 0.8911\n",
      "\n",
      "iteration 68: \n",
      "\n",
      "Train loss is 0.05223435163497925\n",
      "\n",
      "Train acc is 0.90408\n",
      "\n",
      "Val acc is 0.9019\n",
      "\n",
      "iteration 69: \n",
      "\n",
      "Train loss is 0.054451242089271545\n",
      "\n",
      "Train acc is 0.88786\n",
      "\n",
      "Val acc is 0.8882\n",
      "\n",
      "iteration 70: \n",
      "\n",
      "Train loss is 0.053885310888290405\n",
      "\n",
      "Train acc is 0.90038\n",
      "\n",
      "Val acc is 0.9045\n",
      "\n",
      "iteration 71: \n",
      "\n",
      "Train loss is 0.05238483473658562\n",
      "\n",
      "Train acc is 0.90506\n",
      "\n",
      "Val acc is 0.9122\n",
      "\n",
      "iteration 72: \n",
      "\n",
      "Train loss is 0.052032262086868286\n",
      "\n",
      "Train acc is 0.91014\n",
      "\n",
      "Val acc is 0.9108\n",
      "\n",
      "iteration 73: \n",
      "\n",
      "Train loss is 0.050070274621248245\n",
      "\n",
      "Train acc is 0.91098\n",
      "\n",
      "Val acc is 0.9177\n",
      "\n",
      "iteration 74: \n",
      "\n",
      "Train loss is 0.0497729629278183\n",
      "\n",
      "Train acc is 0.90994\n",
      "\n",
      "Val acc is 0.9104\n",
      "\n",
      "iteration 75: \n",
      "\n",
      "Train loss is 0.04949645698070526\n",
      "\n",
      "Train acc is 0.9139\n",
      "\n",
      "Val acc is 0.9113\n",
      "\n",
      "iteration 76: \n",
      "\n",
      "Train loss is 0.04909646883606911\n",
      "\n",
      "Train acc is 0.91294\n",
      "\n",
      "Val acc is 0.9115\n",
      "\n",
      "iteration 77: \n",
      "\n",
      "Train loss is 0.05077853426337242\n",
      "\n",
      "Train acc is 0.90244\n",
      "\n",
      "Val acc is 0.9038\n",
      "\n",
      "iteration 78: \n",
      "\n",
      "Train loss is 0.051316726952791214\n",
      "\n",
      "Train acc is 0.90772\n",
      "\n",
      "Val acc is 0.9056\n",
      "\n",
      "iteration 79: \n",
      "\n",
      "Train loss is 0.05032545328140259\n",
      "\n",
      "Train acc is 0.90888\n",
      "\n",
      "Val acc is 0.9086\n",
      "\n",
      "iteration 80: \n",
      "\n",
      "Train loss is 0.05005120113492012\n",
      "\n",
      "Train acc is 0.9056\n",
      "\n",
      "Val acc is 0.9054\n",
      "\n",
      "iteration 81: \n",
      "\n",
      "Train loss is 0.04939886927604675\n",
      "\n",
      "Train acc is 0.91494\n",
      "\n",
      "Val acc is 0.9152\n",
      "\n",
      "iteration 82: \n",
      "\n",
      "Train loss is 0.047744035720825195\n",
      "\n",
      "Train acc is 0.9166\n",
      "\n",
      "Val acc is 0.9199\n",
      "\n",
      "iteration 83: \n",
      "\n",
      "Train loss is 0.04853254556655884\n",
      "\n",
      "Train acc is 0.91528\n",
      "\n",
      "Val acc is 0.9161\n",
      "\n",
      "iteration 84: \n",
      "\n",
      "Train loss is 0.049049150198698044\n",
      "\n",
      "Train acc is 0.9182\n",
      "\n",
      "Val acc is 0.9185\n",
      "\n",
      "iteration 85: \n",
      "\n",
      "Train loss is 0.04866442456841469\n",
      "\n",
      "Train acc is 0.91504\n",
      "\n",
      "Val acc is 0.9174\n",
      "\n",
      "iteration 86: \n",
      "\n",
      "Train loss is 0.0504034049808979\n",
      "\n",
      "Train acc is 0.90994\n",
      "\n",
      "Val acc is 0.9111\n",
      "\n",
      "iteration 87: \n",
      "\n",
      "Train loss is 0.050212591886520386\n",
      "\n",
      "Train acc is 0.9069\n",
      "\n",
      "Val acc is 0.9071\n",
      "\n",
      "iteration 88: \n",
      "\n",
      "Train loss is 0.05052671581506729\n",
      "\n",
      "Train acc is 0.91078\n",
      "\n",
      "Val acc is 0.9087\n",
      "\n",
      "iteration 89: \n",
      "\n",
      "Train loss is 0.05116745084524155\n",
      "\n"
     ]
    },
    {
     "name": "stdout",
     "output_type": "stream",
     "text": [
      "Train acc is 0.90054\n",
      "\n",
      "Val acc is 0.9048\n",
      "\n",
      "iteration 90: \n",
      "\n",
      "Train loss is 0.04979845881462097\n",
      "\n",
      "Train acc is 0.91526\n",
      "\n",
      "Val acc is 0.9117\n",
      "\n",
      "iteration 91: \n",
      "\n",
      "Train loss is 0.049024179577827454\n",
      "\n",
      "Train acc is 0.91094\n",
      "\n",
      "Val acc is 0.9127\n",
      "\n",
      "iteration 92: \n",
      "\n",
      "Train loss is 0.04833725467324257\n",
      "\n",
      "Train acc is 0.91002\n",
      "\n",
      "Val acc is 0.9138\n",
      "\n",
      "iteration 93: \n",
      "\n",
      "Train loss is 0.04899623617529869\n",
      "\n",
      "Train acc is 0.91168\n",
      "\n",
      "Val acc is 0.9099\n",
      "\n",
      "iteration 94: \n",
      "\n",
      "Train loss is 0.04837197810411453\n",
      "\n",
      "Train acc is 0.91942\n",
      "\n",
      "Val acc is 0.9163\n",
      "\n",
      "iteration 95: \n",
      "\n",
      "Train loss is 0.04780733212828636\n",
      "\n",
      "Train acc is 0.90998\n",
      "\n",
      "Val acc is 0.907\n",
      "\n",
      "iteration 96: \n",
      "\n",
      "Train loss is 0.050488509237766266\n",
      "\n",
      "Train acc is 0.90748\n",
      "\n",
      "Val acc is 0.9065\n",
      "\n",
      "iteration 97: \n",
      "\n",
      "Train loss is 0.0503598228096962\n",
      "\n",
      "Train acc is 0.90772\n",
      "\n",
      "Val acc is 0.9111\n",
      "\n",
      "iteration 98: \n",
      "\n",
      "Train loss is 0.04838893190026283\n",
      "\n",
      "Train acc is 0.91754\n",
      "\n",
      "Val acc is 0.9184\n",
      "\n",
      "iteration 99: \n",
      "\n",
      "Train loss is 0.04832988977432251\n",
      "\n",
      "Train acc is 0.9158\n",
      "\n",
      "Val acc is 0.913\n",
      "\n",
      "iteration 100: \n",
      "\n",
      "Train loss is 0.05010277032852173\n",
      "\n",
      "Train acc is 0.9067\n",
      "\n",
      "Val acc is 0.9076\n",
      "\n",
      "iteration 101: \n",
      "\n",
      "Train loss is 0.05047095566987991\n",
      "\n",
      "Train acc is 0.91286\n",
      "\n",
      "Val acc is 0.9156\n",
      "\n",
      "iteration 102: \n",
      "\n",
      "Train loss is 0.049561887979507446\n",
      "\n",
      "Train acc is 0.91164\n",
      "\n",
      "Val acc is 0.9095\n",
      "\n",
      "test acc: 0.9113\n"
     ]
    }
   ],
   "source": [
    "init = tf.global_variables_initializer()\n",
    "\n",
    "def count_acc(preds, y):\n",
    "    count = 0\n",
    "    for (i,j) in zip(preds, y):\n",
    "        if i == j:\n",
    "            count += 1\n",
    "    return count/len(y)\n",
    "with tf.Session() as sess:\n",
    "    sess.run(init)\n",
    "    val_acc_es = [0]\n",
    "    for i in range(400):\n",
    "        print(\"iteration {}: \\n\".format(i))\n",
    "        loss_i = nn_train_function(X_train, y_train)\n",
    "        print(\"Train loss is {}\\n\".format(loss_i))\n",
    "        preds = nn_predict_functions(X_train)\n",
    "        train_acc = count_acc(preds, y_train)\n",
    "        print(\"Train acc is {}\\n\".format(train_acc))\n",
    "        preds = nn_predict_functions(X_val)\n",
    "        val_acc = count_acc(preds, y_val)\n",
    "        val_acc_es.append(val_acc)\n",
    "        print(\"Val acc is {}\\n\".format(val_acc))\n",
    "        if ((i > 100) and (val_acc < val_acc_es[-2])):\n",
    "            break\n",
    "    preds = nn_predict_functions(X_test)\n",
    "    test_acc = np.sum(preds == y_test)/y_test.shape[0]\n",
    "    print(\"test acc:\", count_acc(preds, y_test))"
   ]
  },
  {
   "cell_type": "code",
   "execution_count": null,
   "metadata": {},
   "outputs": [],
   "source": []
  },
  {
   "cell_type": "code",
   "execution_count": null,
   "metadata": {},
   "outputs": [],
   "source": []
  }
 ],
 "metadata": {
  "kernelspec": {
   "display_name": "Python 3",
   "language": "python",
   "name": "python3"
  },
  "language_info": {
   "codemirror_mode": {
    "name": "ipython",
    "version": 3
   },
   "file_extension": ".py",
   "mimetype": "text/x-python",
   "name": "python",
   "nbconvert_exporter": "python",
   "pygments_lexer": "ipython3",
   "version": "3.5.0"
  }
 },
 "nbformat": 4,
 "nbformat_minor": 2
}
